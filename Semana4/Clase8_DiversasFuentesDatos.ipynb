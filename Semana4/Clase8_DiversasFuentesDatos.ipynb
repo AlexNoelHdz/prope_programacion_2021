{
 "cells": [
  {
   "cell_type": "markdown",
   "metadata": {},
   "source": [
    "# Diversas fuentes de datos\n",
    "\n",
    "![rdb](https://cdn.pixabay.com/photo/2016/12/09/18/30/database-schema-1895779_960_720.png)"
   ]
  },
  {
   "cell_type": "markdown",
   "metadata": {},
   "source": [
    "## Datos relacionales\n",
    "\n",
    "Los tipos de datos más simples que hemos visto consisten de una sola tabla con algunas variables (columnas) y algunos registros (filas). Este tipo de datos es fácil de analizar, y muchas veces podemos reducir nuestros datos a una única tabla antes de empezar a correr algoritmos de aprendizaje de máquinas sobre ellos.\n",
    "\n",
    "Sin embargo, los datos en el mundo real no necesariamente son tan \"bonitos\". La mayoría de datos reales que nos encontramos son complejos y desordenados, y no son fáciles de organizar en una sola tabla sin antes hacer un buen trabajo en su procesamiento.\n",
    "\n",
    "Adicionalmente, muchas veces podemos reducir el costo de guardar los datos en memoria distribuyendo los datos en varias tablas con relaciones definidas, en lugar de una sola tabla que concentre toda la información.\n",
    "\n",
    "El día de hoy vamos a revisar un poco como combinar datos de diferentes fuentes, y cómo podemos generar características bastante útiles. \n",
    "\n",
    "Como ejemplo tomaremos datos de las 10 compañías top en el índice [Fortune Flobal 500](https://en.wikipedia.org/wiki/Fortune_Global_500). Para trabajarlas, usaremos la función `read_html` de pandas, la cual nos permitirá ingerir los datos directamente desde la página."
   ]
  },
  {
   "cell_type": "code",
   "execution_count": null,
   "metadata": {},
   "outputs": [],
   "source": [
    "# Importar librerías\n"
   ]
  },
  {
   "cell_type": "code",
   "execution_count": null,
   "metadata": {},
   "outputs": [],
   "source": [
    "# Cargar datos en memoria usando pd.read_html\n"
   ]
  },
  {
   "cell_type": "markdown",
   "metadata": {},
   "source": [
    "### ¿Qué es lo que hay detrás de la función `pd.read_html`?\n",
    "\n",
    "Los pasos se pueden detallar tanto como se quiera, pero escencialmente son #:\n",
    "\n",
    "1. Hacer un **GET request** a la página web (usando la librería [requests](https://docs.python-requests.org/en/master/)):"
   ]
  },
  {
   "cell_type": "code",
   "execution_count": null,
   "metadata": {},
   "outputs": [],
   "source": [
    "# Importar librería requests\n"
   ]
  },
  {
   "cell_type": "code",
   "execution_count": null,
   "metadata": {},
   "outputs": [],
   "source": [
    "# Hacer un get request a la página\n"
   ]
  },
  {
   "cell_type": "markdown",
   "metadata": {},
   "source": [
    "¿Qué obtenemos con este request?"
   ]
  },
  {
   "cell_type": "code",
   "execution_count": null,
   "metadata": {},
   "outputs": [],
   "source": [
    "# Atributo text\n"
   ]
  },
  {
   "cell_type": "markdown",
   "metadata": {},
   "source": [
    "Inspeccionar página ...\n",
    "\n",
    "Entonces, obtenemos todos los datos de la página. Lo \"único\" que nos hace falta es:\n",
    "\n",
    "2. Llevar estos datos a un formato adecuado usando un **HTML parser** (usamos [Beautiful Soup](https://www.crummy.com/software/BeautifulSoup/bs4/doc/)):"
   ]
  },
  {
   "cell_type": "code",
   "execution_count": null,
   "metadata": {},
   "outputs": [],
   "source": [
    "# Importar bs4.BeautifulSoup\n"
   ]
  },
  {
   "cell_type": "code",
   "execution_count": null,
   "metadata": {},
   "outputs": [],
   "source": [
    "# Instanciar un objeto tipo BeautifulSoup con los contenidos del request\n"
   ]
  },
  {
   "cell_type": "markdown",
   "metadata": {},
   "source": [
    "[Entrada de stackoverflow donde se discuten los diferentes parsers](https://stackoverflow.com/questions/25714417/beautiful-soup-and-table-scraping-lxml-vs-html-parser)"
   ]
  },
  {
   "cell_type": "markdown",
   "metadata": {},
   "source": [
    "¿Qué contiene nuestra \"sopa\"?"
   ]
  },
  {
   "cell_type": "code",
   "execution_count": null,
   "metadata": {},
   "outputs": [],
   "source": []
  },
  {
   "cell_type": "markdown",
   "metadata": {},
   "source": [
    "Podemos hacer búsqueda de diferentes objetos:"
   ]
  },
  {
   "cell_type": "code",
   "execution_count": null,
   "metadata": {},
   "outputs": [],
   "source": [
    "# Título\n"
   ]
  },
  {
   "cell_type": "code",
   "execution_count": null,
   "metadata": {},
   "outputs": [],
   "source": [
    "# Tablas\n"
   ]
  },
  {
   "cell_type": "code",
   "execution_count": null,
   "metadata": {},
   "outputs": [],
   "source": []
  },
  {
   "cell_type": "code",
   "execution_count": null,
   "metadata": {},
   "outputs": [],
   "source": []
  },
  {
   "cell_type": "markdown",
   "metadata": {},
   "source": [
    "Observamos que la tabla la podríamos \"parsear\" usando la clase `str`. Acá podríamos hacer uso del parser que nos provee pandas:"
   ]
  },
  {
   "cell_type": "code",
   "execution_count": null,
   "metadata": {},
   "outputs": [],
   "source": []
  },
  {
   "cell_type": "code",
   "execution_count": null,
   "metadata": {},
   "outputs": [],
   "source": []
  },
  {
   "cell_type": "code",
   "execution_count": null,
   "metadata": {},
   "outputs": [],
   "source": []
  },
  {
   "cell_type": "markdown",
   "metadata": {},
   "source": [
    "De este modo podemos obtener información relevante de páginas web públicas.\n",
    "\n",
    "Hay mucho más en cuanto al tema de scraping de páginas web. \n",
    "\n",
    "- Si para obtener información de una página debes navegar en ella, hacer clicks en botones o cosas por el estilo, hay otra librería que nos puede ayudar a automatizar estas tareas. Su nombre es [Selenium](https://selenium-python.readthedocs.io/).\n",
    "\n",
    "- Por otra parte, cuando una página web no quiere que sus contenidos sean obtenidos de manera masiva y repetitiva, normalmente incluyen sistemas \"antibots\":\n",
    "\n",
    "![antibots](https://miro.medium.com/max/1400/1*4NhFKMxr-qXodjYpxtiE0w.gif)\n",
    "\n",
    "- Otra práctica común, es que limiten los requests cuando identifican que se hacen con la misma dirección ip."
   ]
  },
  {
   "cell_type": "markdown",
   "metadata": {},
   "source": [
    "Volviendo a nuestros datos:"
   ]
  },
  {
   "cell_type": "code",
   "execution_count": null,
   "metadata": {},
   "outputs": [],
   "source": [
    "# Datos de fortune 500\n"
   ]
  },
  {
   "cell_type": "markdown",
   "metadata": {},
   "source": [
    "Una pregunta que quisieramos resolver es, ¿Cuál es el ingreso promedio por empleado?\n",
    "\n",
    "Podemos buscar estos datos en Wikipedia también. Yo ya los \"scrapeé\" manualmente por ustedes para que los usemos en la clase:"
   ]
  },
  {
   "cell_type": "code",
   "execution_count": 17,
   "metadata": {},
   "outputs": [],
   "source": [
    "other_data = [\n",
    "    {\"name\": \"Walmart\",\n",
    "     \"employees\": 2200000,\n",
    "     \"year founded\": 1962\n",
    "    },\n",
    "    {\"name\": \"State Grid Corporation of China\",\n",
    "     \"employees\": 1566000,\n",
    "     \"year founded\": 2002\n",
    "    },\n",
    "    {\"name\": \"China National Petroleum Corporation\",\n",
    "     \"employees\": 460724,\n",
    "     \"year founded\": 1988\n",
    "    },\n",
    "    {\"name\": \"Berkshire Hathaway Inc.\",\n",
    "     \"employees\": 360000,\n",
    "     \"founded\": 1839\n",
    "    },\n",
    "    {\"name\": \"BP plc\",\n",
    "     \"employees\": 70100,\n",
    "     \"year founded\": 1909\n",
    "    },\n",
    "    {\"name\": \"China Petrochemical Corporation\",\n",
    "     \"employees\": 582648,\n",
    "     \"year founded\": 1998\n",
    "     },\n",
    "    {\"name\": \"Royal Dutch Shell\",\n",
    "     \"employees\": 86000,\n",
    "     \"year founded\": 1907\n",
    "    },\n",
    "    {\"name\": \"Toyota Motor Corporation\",\n",
    "     \"employees\": 364445,\n",
    "     \"year founded\": 1937\n",
    "    },\n",
    "    {\"name\": \"Saudi Aramco\",\n",
    "     \"employees\": 66800,\n",
    "     \"year founded\": 1933\n",
    "    },\n",
    "    {\"name\": \"Apple Inc.\",\n",
    "     \"employees\": 147000,\n",
    "     \"founded\": 1976\n",
    "    },\n",
    "    {\"name\": \"Volkswagen AG\",\n",
    "     \"employees\": 307342,\n",
    "     \"year founded\": 1937\n",
    "    },\n",
    "    {\"name\": \"Amazon.com, Inc.\",\n",
    "     \"employees\":1298000,\n",
    "     \"year founded\": 1994\n",
    "    }\n",
    "]"
   ]
  },
  {
   "cell_type": "markdown",
   "metadata": {},
   "source": [
    "Pensaríamos que podría ser tan fácil como hacer un merge entre ambas tablas sobre el nombre de las columnas. Sin embargo, es fácil notar que no todos los nombres coinciden."
   ]
  },
  {
   "cell_type": "code",
   "execution_count": null,
   "metadata": {},
   "outputs": [],
   "source": [
    "# Diccionario de mapeo entre nombres\n"
   ]
  },
  {
   "cell_type": "code",
   "execution_count": null,
   "metadata": {},
   "outputs": [],
   "source": [
    "# Hacer un map de los nombres en el dataframe inicial\n"
   ]
  },
  {
   "cell_type": "code",
   "execution_count": null,
   "metadata": {},
   "outputs": [],
   "source": [
    "# Convertir el diccionario anterior a dataframe\n"
   ]
  },
  {
   "cell_type": "code",
   "execution_count": null,
   "metadata": {},
   "outputs": [],
   "source": [
    "# Hacer el merge\n"
   ]
  },
  {
   "cell_type": "code",
   "execution_count": null,
   "metadata": {},
   "outputs": [],
   "source": [
    "# Responder la pregunta\n"
   ]
  },
  {
   "cell_type": "code",
   "execution_count": null,
   "metadata": {},
   "outputs": [],
   "source": []
  },
  {
   "cell_type": "code",
   "execution_count": null,
   "metadata": {},
   "outputs": [],
   "source": []
  },
  {
   "cell_type": "markdown",
   "metadata": {},
   "source": [
    "<script>\n",
    "  $(document).ready(function(){\n",
    "    $('div.prompt').hide();\n",
    "    $('div.back-to-top').hide();\n",
    "    $('nav#menubar').hide();\n",
    "    $('.breadcrumb').hide();\n",
    "    $('.hidden-print').hide();\n",
    "  });\n",
    "</script>\n",
    "\n",
    "<footer id=\"attribution\" style=\"float:right; color:#808080; background:#fff;\">\n",
    "Created with Jupyter by Esteban Jiménez Rodríguez.\n",
    "</footer>"
   ]
  }
 ],
 "metadata": {
  "kernelspec": {
   "display_name": "Python 3",
   "language": "python",
   "name": "python3"
  },
  "language_info": {
   "codemirror_mode": {
    "name": "ipython",
    "version": 3
   },
   "file_extension": ".py",
   "mimetype": "text/x-python",
   "name": "python",
   "nbconvert_exporter": "python",
   "pygments_lexer": "ipython3",
   "version": "3.7.6"
  }
 },
 "nbformat": 4,
 "nbformat_minor": 4
}
