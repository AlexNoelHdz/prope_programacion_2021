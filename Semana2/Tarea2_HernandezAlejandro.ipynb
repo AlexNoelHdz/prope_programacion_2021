{
 "cells": [
  {
   "cell_type": "markdown",
   "metadata": {},
   "source": [
    "# Tarea 2: Clase 3\n",
    "\n",
    "<img style=\"float: right; margin: 0px 0px 15px 15px;\" src=\"https://upload.wikimedia.org/wikipedia/commons/6/62/CPT-OOP-objects_and_classes.svg\" width=\"300px\" height=\"300px\" />\n",
    "\n",
    "Cada clase que veamos tendrá una tarea asignada, la cual contendrá problemas varios que se pueden resolver con lo visto en clase, de manera que puedas practicar lo que acabas de aprender.\n",
    "\n",
    "En esta ocasión, la tarea tendrá ejercicios relativos a la clase 3, de programación orientada a objetos.\n",
    "\n",
    "Para resolver la tarea, por favor cambiar el nombre del archivo a \"Tarea2_ApellidoNombre.ipynb\", sin acentos ni letras ñ (ejemplo: en mi caso, el archivo se llamaría \"Tarea2_JimenezEsteban.ipynb\"). Luego de haber cambiado el nombre, resolver cada uno de los puntos en los espacios provistos.\n",
    "\n",
    "Referencias:\n",
    "- https://realpython.com/python3-object-oriented-programming/\n",
    "- https://www.w3resource.com/python-exercises/class-exercises/\n",
    "- https://anandology.com/python-practice-book/object_oriented_programming.html\n",
    "___"
   ]
  },
  {
   "cell_type": "markdown",
   "metadata": {},
   "source": [
    "## 1. \n",
    "\n",
    "Usando la clase `Perro()` que definimos en la clase, instanciar tres nuevos perros, cada uno con edades diferentes.\n",
    "\n",
    "Luego, fuera de la clase, escriba una función llamada `perro_mas_viejo()`, cuyos argumentos sean 3 objetos de la clase perro e imprima el nombre del perro más viejo con su edad; algo como:\n",
    "\n",
    "> El perro más viejo es `firulais`, y tiene `8` años."
   ]
  },
  {
   "cell_type": "code",
   "execution_count": 125,
   "metadata": {},
   "outputs": [],
   "source": [
    "class Perro():\n",
    "    \n",
    "    def __init__(self, nombre, edad):\n",
    "        self.nombre = nombre\n",
    "        self.edad = edad\n",
    "        \n",
    "    def __gt__(self, value, /):\n",
    "        return self.edad > value.edad;"
   ]
  },
  {
   "cell_type": "code",
   "execution_count": 126,
   "metadata": {},
   "outputs": [],
   "source": [
    "#Instancia de 3 perros\n",
    "mateo = Perro(\"Mateo\", 4)\n",
    "firulais = Perro(\"Firulais\", 8)\n",
    "ghost = Perro(\"Ghost\", 3)"
   ]
  },
  {
   "cell_type": "code",
   "execution_count": 127,
   "metadata": {},
   "outputs": [],
   "source": [
    "def isTheOldest(dog1, dog2, dog3):\n",
    "    dogs = [dog1, dog2, dog3]\n",
    "    oldest_dog = max(dogs)\n",
    "    return f\"El perro más viejo es {oldest_dog.nombre}, y tiene {oldest_dog.edad} años.\"\n",
    "    "
   ]
  },
  {
   "cell_type": "code",
   "execution_count": 128,
   "metadata": {},
   "outputs": [
    {
     "name": "stdout",
     "output_type": "stream",
     "text": [
      "El perro más viejo es Firulais, y tiene 8 años.\n"
     ]
    }
   ],
   "source": [
    "print(isTheOldest(mateo, firulais, ghost))"
   ]
  },
  {
   "cell_type": "markdown",
   "metadata": {},
   "source": [
    "## 2. \n",
    "\n",
    "Escriba una clase cuyo nombre sea `Circulo`, la cual tenga un atributo de instancia `radio`, y dos métodos para calcular el área y el perímetro del círculo.\n",
    "\n",
    "Además, instancie tres círculos con diferentes radios y calcule su área y su perímetro."
   ]
  },
  {
   "cell_type": "code",
   "execution_count": 129,
   "metadata": {},
   "outputs": [],
   "source": [
    "import math"
   ]
  },
  {
   "cell_type": "code",
   "execution_count": 130,
   "metadata": {},
   "outputs": [],
   "source": [
    "class Circulo:\n",
    "    def __init__(self, radio):\n",
    "        self.radio = radio\n",
    "        \n",
    "    def get_area(self):\n",
    "        return math.pi * (self.radio * self.radio)\n",
    "    \n",
    "    def get_perimetro(self):\n",
    "        return 2 * math.pi * self.radio\n",
    "    "
   ]
  },
  {
   "cell_type": "code",
   "execution_count": 131,
   "metadata": {},
   "outputs": [],
   "source": [
    "# instancie tres círculos con diferentes radios\n",
    "circulo_radio_1 = Circulo(1)\n",
    "circulo_radio_2 = Circulo(2)\n",
    "circulo_radio_3 = Circulo(3)"
   ]
  },
  {
   "cell_type": "code",
   "execution_count": 132,
   "metadata": {},
   "outputs": [
    {
     "data": {
      "text/plain": [
       "(3.141592653589793, 12.566370614359172, 28.274333882308138)"
      ]
     },
     "execution_count": 132,
     "metadata": {},
     "output_type": "execute_result"
    }
   ],
   "source": [
    "#calcule su área \n",
    "circulo_radio_1.get_area(), circulo_radio_2.get_area(), circulo_radio_3.get_area()"
   ]
  },
  {
   "cell_type": "code",
   "execution_count": 133,
   "metadata": {},
   "outputs": [
    {
     "data": {
      "text/plain": [
       "(6.283185307179586, 12.566370614359172, 18.84955592153876)"
      ]
     },
     "execution_count": 133,
     "metadata": {},
     "output_type": "execute_result"
    }
   ],
   "source": [
    "#calcule su perímetro\n",
    "circulo_radio_1.get_perimetro(), circulo_radio_2.get_perimetro(), circulo_radio_3.get_perimetro()"
   ]
  },
  {
   "cell_type": "markdown",
   "metadata": {},
   "source": [
    "## 3.\n",
    "\n",
    "Escriba una clase cuyo nombre sea `CuentaBancaria`, y que inicialice un atributo de instancia llamado `saldo` con valor cero. Además, esta clase debe contener tres métodos:\n",
    "- método `depositar()`: el cual reciba el monto de depósito y actualice el atributo de `saldo`;\n",
    "- método `retirar()`: el cual reciba el monto a retirar, y actualice el atributo de `saldo`;\n",
    "- método `imprimir_saldo()`: el cual imprima el saldo actual de la cuenta.\n",
    "\n",
    "Instancie una cuenta bancaria, y haga varios retiros y depósitos."
   ]
  },
  {
   "cell_type": "code",
   "execution_count": 15,
   "metadata": {},
   "outputs": [],
   "source": [
    "class CuentaBancaria:\n",
    "    def __init__(self, saldo = 0):\n",
    "        self.saldo = saldo\n",
    "        \n",
    "    def depositar(self, deposito):\n",
    "        self.saldo += deposito\n",
    "        \n",
    "    def retirar(self, retiro):\n",
    "        self.saldo -= retiro\n",
    "        \n",
    "    def imprimir_saldo(self):\n",
    "        return f\"El saldo actual de la cuenta es {self.saldo}.\""
   ]
  },
  {
   "cell_type": "code",
   "execution_count": 16,
   "metadata": {},
   "outputs": [],
   "source": [
    "#Instancie una cuenta bancaria\n",
    "cuenta_chida = CuentaBancaria()"
   ]
  },
  {
   "cell_type": "code",
   "execution_count": 17,
   "metadata": {},
   "outputs": [
    {
     "data": {
      "text/plain": [
       "'El saldo actual de la cuenta es 1000.'"
      ]
     },
     "execution_count": 17,
     "metadata": {},
     "output_type": "execute_result"
    }
   ],
   "source": [
    "#Haga varios depositos\n",
    "cuenta_chida.depositar(100)\n",
    "cuenta_chida.depositar(200)\n",
    "cuenta_chida.depositar(300)\n",
    "cuenta_chida.depositar(400)\n",
    "cuenta_chida.imprimir_saldo()"
   ]
  },
  {
   "cell_type": "code",
   "execution_count": 18,
   "metadata": {},
   "outputs": [
    {
     "data": {
      "text/plain": [
       "'El saldo actual de la cuenta es 700.'"
      ]
     },
     "execution_count": 18,
     "metadata": {},
     "output_type": "execute_result"
    }
   ],
   "source": [
    "#Haga varios retiros\n",
    "cuenta_chida.retirar(100)\n",
    "cuenta_chida.retirar(200)\n",
    "cuenta_chida.imprimir_saldo()"
   ]
  },
  {
   "cell_type": "code",
   "execution_count": 19,
   "metadata": {},
   "outputs": [
    {
     "data": {
      "text/plain": [
       "'El saldo actual de la cuenta es 0.'"
      ]
     },
     "execution_count": 19,
     "metadata": {},
     "output_type": "execute_result"
    }
   ],
   "source": [
    "cuenta_chida.retirar(300)\n",
    "cuenta_chida.retirar(400)\n",
    "cuenta_chida.imprimir_saldo()"
   ]
  },
  {
   "cell_type": "code",
   "execution_count": 20,
   "metadata": {},
   "outputs": [],
   "source": [
    "###El código se puede mejorar con validaciones, pero no se pidieron explícitamente"
   ]
  },
  {
   "cell_type": "markdown",
   "metadata": {},
   "source": [
    "## 4.\n",
    "\n",
    "A partir de lo resuelto en el problema anterior, cree una clase llamada `CuentaSaldoMinimo` que herede de la clase `CuentaBancaria`.\n",
    "\n",
    "La clase hija `CuentaSaldoMinimo` debe requerir un parámetro adicional de *saldo mínimo*, y debe sobreescribir el método `retirar()` de la clase padre, de forma que al llamar el método `retirar()`:\n",
    "- si el saldo que resultaría después del retiro es mayor al saldo mínimo, se efectúa el retiro;\n",
    "- si el saldo que resultaría después del retiro es menor al saldo mínimo, se imprima un mensaje con la cantidad máxima que se puede retirar y no se efectúe el retiro.\n",
    "\n",
    "Instancie una cuenta bancaria con saldo mínimo, y haga varios retiros y depósitos."
   ]
  },
  {
   "cell_type": "code",
   "execution_count": 21,
   "metadata": {},
   "outputs": [],
   "source": [
    "class CuentaSaldoMinimo(CuentaBancaria):\n",
    "    \n",
    "    def __init__(self, saldo, saldo_minimo):\n",
    "        super().__init__()\n",
    "        self.saldo = saldo\n",
    "        self.saldo_minimo = saldo_minimo\n",
    "        \n",
    "    def retirar(self, retiro):\n",
    "        #si el saldo que resultaría después del retiro es mayor al saldo mínimo, se efectúa el retiro;\n",
    "        if ( self.saldo - retiro ) >= self.saldo_minimo:\n",
    "            super().retirar(retiro)\n",
    "        #si el saldo que resultaría después del retiro es MENOR al saldo mínimo\n",
    "        else:\n",
    "            max_retiro = self.saldo - self.saldo_minimo\n",
    "            #se imprima un mensaje con la cantidad máxima que se puede retirar y no se efectúe el retiro.\n",
    "            print(f\"La transacción no fue exitosa, la cantidad máxima a retirar es: {max_retiro}\")"
   ]
  },
  {
   "cell_type": "code",
   "execution_count": 22,
   "metadata": {},
   "outputs": [],
   "source": [
    "cuenta_saldo_minimo = CuentaSaldoMinimo(1600, 500)"
   ]
  },
  {
   "cell_type": "code",
   "execution_count": 23,
   "metadata": {},
   "outputs": [
    {
     "data": {
      "text/plain": [
       "'El saldo actual de la cuenta es 1900.'"
      ]
     },
     "execution_count": 23,
     "metadata": {},
     "output_type": "execute_result"
    }
   ],
   "source": [
    "cuenta_saldo_minimo.depositar(100)\n",
    "cuenta_saldo_minimo.depositar(100)\n",
    "cuenta_saldo_minimo.depositar(100)\n",
    "cuenta_saldo_minimo.imprimir_saldo()"
   ]
  },
  {
   "cell_type": "code",
   "execution_count": 24,
   "metadata": {},
   "outputs": [
    {
     "data": {
      "text/plain": [
       "'El saldo actual de la cuenta es 1300.'"
      ]
     },
     "execution_count": 24,
     "metadata": {},
     "output_type": "execute_result"
    }
   ],
   "source": [
    "cuenta_saldo_minimo.retirar(600)\n",
    "cuenta_saldo_minimo.imprimir_saldo()"
   ]
  },
  {
   "cell_type": "code",
   "execution_count": 25,
   "metadata": {},
   "outputs": [
    {
     "data": {
      "text/plain": [
       "'El saldo actual de la cuenta es 700.'"
      ]
     },
     "execution_count": 25,
     "metadata": {},
     "output_type": "execute_result"
    }
   ],
   "source": [
    "cuenta_saldo_minimo.retirar(600)\n",
    "cuenta_saldo_minimo.imprimir_saldo()"
   ]
  },
  {
   "cell_type": "code",
   "execution_count": 26,
   "metadata": {},
   "outputs": [
    {
     "name": "stdout",
     "output_type": "stream",
     "text": [
      "La transacción no fue exitosa, la cantidad máxima a retirar es: 200\n"
     ]
    },
    {
     "data": {
      "text/plain": [
       "'El saldo actual de la cuenta es 700.'"
      ]
     },
     "execution_count": 26,
     "metadata": {},
     "output_type": "execute_result"
    }
   ],
   "source": [
    "cuenta_saldo_minimo.retirar(600)\n",
    "cuenta_saldo_minimo.imprimir_saldo()"
   ]
  },
  {
   "cell_type": "code",
   "execution_count": 27,
   "metadata": {},
   "outputs": [
    {
     "name": "stdout",
     "output_type": "stream",
     "text": [
      "La transacción no fue exitosa, la cantidad máxima a retirar es: 200\n"
     ]
    },
    {
     "data": {
      "text/plain": [
       "'El saldo actual de la cuenta es 700.'"
      ]
     },
     "execution_count": 27,
     "metadata": {},
     "output_type": "execute_result"
    }
   ],
   "source": [
    "cuenta_saldo_minimo.retirar(600)\n",
    "cuenta_saldo_minimo.imprimir_saldo()"
   ]
  },
  {
   "cell_type": "markdown",
   "metadata": {},
   "source": [
    "<script>\n",
    "  $(document).ready(function(){\n",
    "    $('div.prompt').hide();\n",
    "    $('div.back-to-top').hide();\n",
    "    $('nav#menubar').hide();\n",
    "    $('.breadcrumb').hide();\n",
    "    $('.hidden-print').hide();\n",
    "  });\n",
    "</script>\n",
    "\n",
    "<footer id=\"attribution\" style=\"float:right; color:#808080; background:#fff;\">\n",
    "Created with Jupyter by Esteban Jiménez Rodríguez.\n",
    "</footer>"
   ]
  }
 ],
 "metadata": {
  "kernelspec": {
   "display_name": "Python 3",
   "language": "python",
   "name": "python3"
  },
  "language_info": {
   "codemirror_mode": {
    "name": "ipython",
    "version": 3
   },
   "file_extension": ".py",
   "mimetype": "text/x-python",
   "name": "python",
   "nbconvert_exporter": "python",
   "pygments_lexer": "ipython3",
   "version": "3.8.8"
  }
 },
 "nbformat": 4,
 "nbformat_minor": 2
}
