{
 "cells": [
  {
   "cell_type": "markdown",
   "metadata": {},
   "source": [
    "# Tarea 2: Clase 3\n",
    "\n",
    "<img style=\"float: right; margin: 0px 0px 15px 15px;\" src=\"https://upload.wikimedia.org/wikipedia/commons/6/62/CPT-OOP-objects_and_classes.svg\" width=\"300px\" height=\"300px\" />\n",
    "\n",
    "Cada clase que veamos tendrá una tarea asignada, la cual contendrá problemas varios que se pueden resolver con lo visto en clase, de manera que puedas practicar lo que acabas de aprender.\n",
    "\n",
    "En esta ocasión, la tarea tendrá ejercicios relativos a la clase 3, de programación orientada a objetos.\n",
    "\n",
    "Para resolver la tarea, por favor cambiar el nombre del archivo a \"Tarea2_ApellidoNombre.ipynb\", sin acentos ni letras ñ (ejemplo: en mi caso, el archivo se llamaría \"Tarea2_JimenezEsteban.ipynb\"). Luego de haber cambiado el nombre, resolver cada uno de los puntos en los espacios provistos.\n",
    "\n",
    "Referencias:\n",
    "- https://realpython.com/python3-object-oriented-programming/\n",
    "- https://www.w3resource.com/python-exercises/class-exercises/\n",
    "- https://anandology.com/python-practice-book/object_oriented_programming.html\n",
    "___"
   ]
  },
  {
   "cell_type": "markdown",
   "metadata": {},
   "source": [
    "## 1. \n",
    "\n",
    "Usando la clase `Perro()` que definimos en la clase, instanciar tres nuevos perros, cada uno con edades diferentes.\n",
    "\n",
    "Luego, fuera de la clase, escriba una función llamada `perro_mas_viejo()`, cuyos argumentos sean 3 objetos de la clase perro e imprima el nombre del perro más viejo con su edad; algo como:\n",
    "\n",
    "> El perro más viejo es `firulais`, y tiene `8` años."
   ]
  },
  {
   "cell_type": "code",
   "execution_count": 1,
   "metadata": {},
   "outputs": [],
   "source": [
    "class Perro():\n",
    "    \n",
    "    def __init__(self, nombre=\"Bombón\", edad=3):\n",
    "        self.nombre = nombre\n",
    "        self.edad = edad"
   ]
  },
  {
   "cell_type": "code",
   "execution_count": 2,
   "metadata": {},
   "outputs": [],
   "source": [
    "firulais_joven, firulais_adulto, firulais_senil = Perro(\"chico\", 3), Perro(\"avanzado\", 4), Perro(\"adulto\", 10)"
   ]
  },
  {
   "cell_type": "code",
   "execution_count": 3,
   "metadata": {},
   "outputs": [
    {
     "data": {
      "text/plain": [
       "'el perro mas viejo es adulto, y tiene 10 años'"
      ]
     },
     "execution_count": 3,
     "metadata": {},
     "output_type": "execute_result"
    }
   ],
   "source": [
    "perros = []\n",
    "def perro_mas_viejo(perro1, perro2, perro3):\n",
    "\n",
    "    x = \"\"\n",
    "\n",
    "    if perro1.edad > perro3.edad and perro1.edad > perro2.edad:\n",
    "        x = (f\"el perro mas viejo es {perro1.nombre}, y tiene {perro1.edad} años\")\n",
    "    elif perro1.edad < perro3.edad and perro3.edad > perro2.edad:\n",
    "        x = (f\"el perro mas viejo es {perro3.nombre}, y tiene {perro3.edad} años\")\n",
    "    else:\n",
    "        x = (f\"el perro mas viejo es {perro2.nombre}, y tiene {perro2.edad} años\")\n",
    "    return x\n",
    "        \n",
    "perro_mas_viejo(firulais_joven, firulais_adulto, firulais_senil)\n",
    "#firulais_joven.edad\n",
    "            \n",
    "            "
   ]
  },
  {
   "cell_type": "markdown",
   "metadata": {},
   "source": [
    "## 2. \n",
    "\n",
    "Escriba una clase cuyo nombre sea `Circulo`, la cual tenga un atributo de instancia `radio`, y dos métodos para calcular el área y el perímetro del círculo.\n",
    "\n",
    "Además, instancie tres círculos con diferentes radios y calcule su área y su perímetro."
   ]
  },
  {
   "cell_type": "code",
   "execution_count": 4,
   "metadata": {},
   "outputs": [
    {
     "name": "stdout",
     "output_type": "stream",
     "text": [
      "Circumferencia del circulo  es: 1005 y el Area es 80417\n"
     ]
    }
   ],
   "source": [
    "class Circulo:\n",
    "   def __init__(self, radius, circumference=0, area=0):\n",
    "       self.radius = radius\n",
    "       self.circumference = circumference\n",
    "       self.area = area\n",
    "   def get_area(self):\n",
    "       return self.radius * self.radius * 3.1413\n",
    "   def get_circumference(self):\n",
    "    \n",
    "       return self.radius *2 *3.1413\n",
    "    \n",
    "r = Circulo(160)\n",
    "print(\"Circumferencia del circulo  es: %d y el Area es %d\" % (r.get_circumference(), r.get_area()))\n",
    "#print(\"Area del circulo es:\" % (r.get_area()))"
   ]
  },
  {
   "cell_type": "code",
   "execution_count": 5,
   "metadata": {},
   "outputs": [
    {
     "name": "stdout",
     "output_type": "stream",
     "text": [
      "Circumferencia del circulo  es: 841 y el Area es 56405\n"
     ]
    }
   ],
   "source": [
    "r = Circulo(134)\n",
    "print(\"Circumferencia del circulo  es: %d y el Area es %d\" % (r.get_circumference(), r.get_area()))"
   ]
  },
  {
   "cell_type": "code",
   "execution_count": 6,
   "metadata": {},
   "outputs": [
    {
     "name": "stdout",
     "output_type": "stream",
     "text": [
      "Circumferencia del circulo  es: 62 y el Area es 314\n"
     ]
    }
   ],
   "source": [
    "r = Circulo(10)\n",
    "print(\"Circumferencia del circulo  es: %d y el Area es %d\" % (r.get_circumference(), r.get_area()))"
   ]
  },
  {
   "cell_type": "markdown",
   "metadata": {},
   "source": [
    "## 3.\n",
    "\n",
    "Escriba una clase cuyo nombre sea `CuentaBancaria`, y que inicialice un atributo de instancia llamado `saldo` con valor cero. Además, esta clase debe contener tres métodos:\n",
    "- método `depositar()`: el cual reciba el monto de depósito y actualice el atributo de `saldo`;\n",
    "- método `retirar()`: el cual reciba el monto a retirar, y actualice el atributo de `saldo`;\n",
    "- método `imprimir_saldo()`: el cual imprima el saldo actual de la cuenta.\n",
    "\n",
    "Instancie una cuenta bancaria, y haga varios retiros y depósitos."
   ]
  },
  {
   "cell_type": "code",
   "execution_count": 19,
   "metadata": {},
   "outputs": [],
   "source": [
    "class cuentaBancaria:\n",
    "    \n",
    "   def __init__(self, saldo, depositar, retirar):\n",
    "       self.saldo = saldo\n",
    "       self.depositar =  depositar\n",
    "       self.retirar = retirar\n",
    "    \n",
    "   def hacer_deposito(self):\n",
    "       self.saldo += self.depositar\n",
    "        \n",
    "   def hacer_retiro(self):\n",
    "        if self.saldo < self.retirar:\n",
    "            print(\"saldos insufiecientes para hacer el retiro\")\n",
    "        elif retirar <= saldo:\n",
    "            self.saldo -= self.retirar\n",
    "   def imprimir_saldo(self):\n",
    "        if self.saldo < 0:\n",
    "            print(\"\")\n",
    "        elif self.saldo > 0:\n",
    "            print(\"su saldo es de: %d\" %self.saldo)\n",
    "    \n"
   ]
  },
  {
   "cell_type": "code",
   "execution_count": 13,
   "metadata": {},
   "outputs": [
    {
     "name": "stdout",
     "output_type": "stream",
     "text": [
      "saldos insufiecientes para hacer el retiro\n",
      "su saldo es de: 70\n"
     ]
    }
   ],
   "source": [
    "mov1 = cuentaBancaria(0,70,345)\n",
    "mov1.hacer_retiro()\n",
    "mov1.hacer_deposito()\n",
    "mov1.imprimir_saldo()"
   ]
  },
  {
   "cell_type": "code",
   "execution_count": 14,
   "metadata": {},
   "outputs": [
    {
     "name": "stdout",
     "output_type": "stream",
     "text": [
      "saldos insufiecientes para hacer el retiro\n",
      "su saldo es de: 456\n"
     ]
    }
   ],
   "source": [
    "mov1 = cuentaBancaria(0,456,5000)\n",
    "mov1.hacer_deposito()\n",
    "mov1.hacer_retiro()\n",
    "mov1.imprimir_saldo()"
   ]
  },
  {
   "cell_type": "code",
   "execution_count": 15,
   "metadata": {},
   "outputs": [
    {
     "name": "stdout",
     "output_type": "stream",
     "text": [
      "saldos insufiecientes para hacer el retiro\n",
      "su saldo es de: 2930\n"
     ]
    }
   ],
   "source": [
    "mov1 = cuentaBancaria(0,2930,3930)\n",
    "mov1.hacer_deposito()\n",
    "mov1.hacer_retiro()\n",
    "mov1.imprimir_saldo()"
   ]
  },
  {
   "cell_type": "code",
   "execution_count": 27,
   "metadata": {},
   "outputs": [
    {
     "ename": "NameError",
     "evalue": "name 'retirar' is not defined",
     "output_type": "error",
     "traceback": [
      "\u001b[1;31m---------------------------------------------------------------------------\u001b[0m",
      "\u001b[1;31mNameError\u001b[0m                                 Traceback (most recent call last)",
      "\u001b[1;32m<ipython-input-27-ab55aa10b772>\u001b[0m in \u001b[0;36m<module>\u001b[1;34m\u001b[0m\n\u001b[0;32m      1\u001b[0m \u001b[0mmov1\u001b[0m \u001b[1;33m=\u001b[0m \u001b[0mcuentaBancaria\u001b[0m\u001b[1;33m(\u001b[0m\u001b[1;36m0\u001b[0m\u001b[1;33m,\u001b[0m\u001b[1;36m30\u001b[0m\u001b[1;33m,\u001b[0m\u001b[1;36m5\u001b[0m\u001b[1;33m)\u001b[0m\u001b[1;33m\u001b[0m\u001b[1;33m\u001b[0m\u001b[0m\n\u001b[0;32m      2\u001b[0m \u001b[0mmov1\u001b[0m\u001b[1;33m.\u001b[0m\u001b[0mhacer_deposito\u001b[0m\u001b[1;33m(\u001b[0m\u001b[1;33m)\u001b[0m\u001b[1;33m\u001b[0m\u001b[1;33m\u001b[0m\u001b[0m\n\u001b[1;32m----> 3\u001b[1;33m \u001b[0mmov1\u001b[0m\u001b[1;33m.\u001b[0m\u001b[0mhacer_retiro\u001b[0m\u001b[1;33m(\u001b[0m\u001b[1;33m)\u001b[0m\u001b[1;33m\u001b[0m\u001b[1;33m\u001b[0m\u001b[0m\n\u001b[0m\u001b[0;32m      4\u001b[0m \u001b[0mmov1\u001b[0m\u001b[1;33m.\u001b[0m\u001b[0mimprimir_saldo\u001b[0m\u001b[1;33m(\u001b[0m\u001b[1;33m)\u001b[0m\u001b[1;33m\u001b[0m\u001b[1;33m\u001b[0m\u001b[0m\n",
      "\u001b[1;32m<ipython-input-19-55604c526ef9>\u001b[0m in \u001b[0;36mhacer_retiro\u001b[1;34m(self)\u001b[0m\n\u001b[0;32m     12\u001b[0m         \u001b[1;32mif\u001b[0m \u001b[0mself\u001b[0m\u001b[1;33m.\u001b[0m\u001b[0msaldo\u001b[0m \u001b[1;33m<\u001b[0m \u001b[0mself\u001b[0m\u001b[1;33m.\u001b[0m\u001b[0mretirar\u001b[0m\u001b[1;33m:\u001b[0m\u001b[1;33m\u001b[0m\u001b[1;33m\u001b[0m\u001b[0m\n\u001b[0;32m     13\u001b[0m             \u001b[0mprint\u001b[0m\u001b[1;33m(\u001b[0m\u001b[1;34m\"saldos insufiecientes para hacer el retiro\"\u001b[0m\u001b[1;33m)\u001b[0m\u001b[1;33m\u001b[0m\u001b[1;33m\u001b[0m\u001b[0m\n\u001b[1;32m---> 14\u001b[1;33m         \u001b[1;32melif\u001b[0m \u001b[0mretirar\u001b[0m \u001b[1;33m<=\u001b[0m \u001b[0msaldo\u001b[0m\u001b[1;33m:\u001b[0m\u001b[1;33m\u001b[0m\u001b[1;33m\u001b[0m\u001b[0m\n\u001b[0m\u001b[0;32m     15\u001b[0m             \u001b[0mself\u001b[0m\u001b[1;33m.\u001b[0m\u001b[0msaldo\u001b[0m \u001b[1;33m-=\u001b[0m \u001b[0mself\u001b[0m\u001b[1;33m.\u001b[0m\u001b[0mretirar\u001b[0m\u001b[1;33m\u001b[0m\u001b[1;33m\u001b[0m\u001b[0m\n\u001b[0;32m     16\u001b[0m    \u001b[1;32mdef\u001b[0m \u001b[0mimprimir_saldo\u001b[0m\u001b[1;33m(\u001b[0m\u001b[0mself\u001b[0m\u001b[1;33m)\u001b[0m\u001b[1;33m:\u001b[0m\u001b[1;33m\u001b[0m\u001b[1;33m\u001b[0m\u001b[0m\n",
      "\u001b[1;31mNameError\u001b[0m: name 'retirar' is not defined"
     ]
    }
   ],
   "source": [
    "mov1 = cuentaBancaria(0,30,5)\n",
    "mov1.hacer_deposito()\n",
    "mov1.hacer_retiro()\n",
    "mov1.imprimir_saldo()"
   ]
  },
  {
   "cell_type": "markdown",
   "metadata": {},
   "source": [
    "## 4.\n",
    "\n",
    "A partir de lo resuelto en el problema anterior, cree una clase llamada `CuentaSaldoMinimo` que herede de la clase `CuentaBancaria`.\n",
    "\n",
    "La clase hija `CuentaSaldoMinimo` debe requerir un parámetro adicional de *saldo mínimo*, y debe sobreescribir el método `retirar()` de la clase padre, de forma que al llamar el método `retirar()`:\n",
    "- si el saldo que resultaría después del retiro es mayor al saldo mínimo, se efectúa el retiro;\n",
    "- si el saldo que resultaría después del retiro es menor al saldo mínimo, se imprima un mensaje con la cantidad máxima que se puede retirar y no se efectúe el retiro.\n",
    "\n",
    "Instancie una cuenta bancaria con saldo mínimo, y haga varios retiros y depósitos."
   ]
  },
  {
   "cell_type": "code",
   "execution_count": 48,
   "metadata": {},
   "outputs": [],
   "source": [
    "class CuentaSaldoMinimo(cuentaBancaria):\n",
    "    def __init__(self, saldo, depositar, retirar, saldo_minimo):\n",
    "        super().__init__(self, saldo, depositar, retirar, saldo_minimo)\n",
    "        self.saldo_minimo = saldo_minimo\n",
    "        cuentaBancaria.saldo_minimo = saldo_minimo\n",
    "    \n",
    "    def saldo_minimo(self):\n",
    "        if self.saldo-self.retiro > self.saldo_minimo:\n",
    "            self.saldo = self.saldo  - self.retiro\n",
    "        elif self.saldo-self.retiro < self.saldo_minimo:\n",
    "            print(\"cantidad maxima a retirar no  debe de exeder de: %d\" %self.saldo_minimo)\n",
    "        "
   ]
  },
  {
   "cell_type": "code",
   "execution_count": 51,
   "metadata": {},
   "outputs": [
    {
     "ename": "TypeError",
     "evalue": "__init__() takes 4 positional arguments but 6 were given",
     "output_type": "error",
     "traceback": [
      "\u001b[1;31m---------------------------------------------------------------------------\u001b[0m",
      "\u001b[1;31mTypeError\u001b[0m                                 Traceback (most recent call last)",
      "\u001b[1;32m<ipython-input-51-dc4763290f4b>\u001b[0m in \u001b[0;36m<module>\u001b[1;34m\u001b[0m\n\u001b[1;32m----> 1\u001b[1;33m \u001b[0mcta\u001b[0m \u001b[1;33m=\u001b[0m \u001b[0mCuentaSaldoMinimo\u001b[0m\u001b[1;33m(\u001b[0m\u001b[1;36m9\u001b[0m\u001b[1;33m,\u001b[0m\u001b[1;36m345\u001b[0m\u001b[1;33m,\u001b[0m\u001b[1;36m71\u001b[0m\u001b[1;33m,\u001b[0m\u001b[1;36m1\u001b[0m\u001b[1;33m)\u001b[0m\u001b[1;33m\u001b[0m\u001b[1;33m\u001b[0m\u001b[0m\n\u001b[0m",
      "\u001b[1;32m<ipython-input-48-a2577829ab3e>\u001b[0m in \u001b[0;36m__init__\u001b[1;34m(self, saldo, depositar, retirar, saldo_minimo)\u001b[0m\n\u001b[0;32m      1\u001b[0m \u001b[1;32mclass\u001b[0m \u001b[0mCuentaSaldoMinimo\u001b[0m\u001b[1;33m(\u001b[0m\u001b[0mcuentaBancaria\u001b[0m\u001b[1;33m)\u001b[0m\u001b[1;33m:\u001b[0m\u001b[1;33m\u001b[0m\u001b[1;33m\u001b[0m\u001b[0m\n\u001b[0;32m      2\u001b[0m     \u001b[1;32mdef\u001b[0m \u001b[0m__init__\u001b[0m\u001b[1;33m(\u001b[0m\u001b[0mself\u001b[0m\u001b[1;33m,\u001b[0m \u001b[0msaldo\u001b[0m\u001b[1;33m,\u001b[0m \u001b[0mdepositar\u001b[0m\u001b[1;33m,\u001b[0m \u001b[0mretirar\u001b[0m\u001b[1;33m,\u001b[0m \u001b[0msaldo_minimo\u001b[0m\u001b[1;33m)\u001b[0m\u001b[1;33m:\u001b[0m\u001b[1;33m\u001b[0m\u001b[1;33m\u001b[0m\u001b[0m\n\u001b[1;32m----> 3\u001b[1;33m         \u001b[0msuper\u001b[0m\u001b[1;33m(\u001b[0m\u001b[1;33m)\u001b[0m\u001b[1;33m.\u001b[0m\u001b[0m__init__\u001b[0m\u001b[1;33m(\u001b[0m\u001b[0mself\u001b[0m\u001b[1;33m,\u001b[0m \u001b[0msaldo\u001b[0m\u001b[1;33m,\u001b[0m \u001b[0mdepositar\u001b[0m\u001b[1;33m,\u001b[0m \u001b[0mretirar\u001b[0m\u001b[1;33m,\u001b[0m \u001b[0msaldo_minimo\u001b[0m\u001b[1;33m)\u001b[0m\u001b[1;33m\u001b[0m\u001b[1;33m\u001b[0m\u001b[0m\n\u001b[0m\u001b[0;32m      4\u001b[0m         \u001b[0mself\u001b[0m\u001b[1;33m.\u001b[0m\u001b[0msaldo_minimo\u001b[0m \u001b[1;33m=\u001b[0m \u001b[0msaldo_minimo\u001b[0m\u001b[1;33m\u001b[0m\u001b[1;33m\u001b[0m\u001b[0m\n\u001b[0;32m      5\u001b[0m         \u001b[0mcuentaBancaria\u001b[0m\u001b[1;33m.\u001b[0m\u001b[0msaldo_minimo\u001b[0m \u001b[1;33m=\u001b[0m \u001b[0msaldo_minimo\u001b[0m\u001b[1;33m\u001b[0m\u001b[1;33m\u001b[0m\u001b[0m\n",
      "\u001b[1;31mTypeError\u001b[0m: __init__() takes 4 positional arguments but 6 were given"
     ]
    }
   ],
   "source": [
    "cta = CuentaSaldoMinimo(9,345,71,1)"
   ]
  },
  {
   "cell_type": "code",
   "execution_count": null,
   "metadata": {},
   "outputs": [],
   "source": []
  },
  {
   "cell_type": "code",
   "execution_count": null,
   "metadata": {},
   "outputs": [],
   "source": []
  },
  {
   "cell_type": "code",
   "execution_count": null,
   "metadata": {},
   "outputs": [],
   "source": [
    " "
   ]
  },
  {
   "cell_type": "code",
   "execution_count": null,
   "metadata": {},
   "outputs": [],
   "source": []
  },
  {
   "cell_type": "code",
   "execution_count": null,
   "metadata": {},
   "outputs": [],
   "source": []
  },
  {
   "cell_type": "markdown",
   "metadata": {},
   "source": [
    "<script>\n",
    "  $(document).ready(function(){\n",
    "    $('div.prompt').hide();\n",
    "    $('div.back-to-top').hide();\n",
    "    $('nav#menubar').hide();\n",
    "    $('.breadcrumb').hide();\n",
    "    $('.hidden-print').hide();\n",
    "  });\n",
    "</script>\n",
    "\n",
    "<footer id=\"attribution\" style=\"float:right; color:#808080; background:#fff;\">\n",
    "Created with Jupyter by Esteban Jiménez Rodríguez.\n",
    "</footer>"
   ]
  }
 ],
 "metadata": {
  "kernelspec": {
   "display_name": "Python 3",
   "language": "python",
   "name": "python3"
  },
  "language_info": {
   "codemirror_mode": {
    "name": "ipython",
    "version": 3
   },
   "file_extension": ".py",
   "mimetype": "text/x-python",
   "name": "python",
   "nbconvert_exporter": "python",
   "pygments_lexer": "ipython3",
   "version": "3.8.5"
  }
 },
 "nbformat": 4,
 "nbformat_minor": 2
}
