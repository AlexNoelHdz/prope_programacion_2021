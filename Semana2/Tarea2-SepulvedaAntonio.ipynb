{
 "cells": [
  {
   "cell_type": "markdown",
   "metadata": {},
   "source": [
    "# Tarea 2: Clase 3\n",
    "\n",
    "<img style=\"float: right; margin: 0px 0px 15px 15px;\" src=\"https://upload.wikimedia.org/wikipedia/commons/6/62/CPT-OOP-objects_and_classes.svg\" width=\"300px\" height=\"300px\" />\n",
    "\n",
    "Cada clase que veamos tendrá una tarea asignada, la cual contendrá problemas varios que se pueden resolver con lo visto en clase, de manera que puedas practicar lo que acabas de aprender.\n",
    "\n",
    "En esta ocasión, la tarea tendrá ejercicios relativos a la clase 3, de programación orientada a objetos.\n",
    "\n",
    "Para resolver la tarea, por favor cambiar el nombre del archivo a \"Tarea2_ApellidoNombre.ipynb\", sin acentos ni letras ñ (ejemplo: en mi caso, el archivo se llamaría \"Tarea2_JimenezEsteban.ipynb\"). Luego de haber cambiado el nombre, resolver cada uno de los puntos en los espacios provistos.\n",
    "\n",
    "Referencias:\n",
    "- https://realpython.com/python3-object-oriented-programming/\n",
    "- https://www.w3resource.com/python-exercises/class-exercises/\n",
    "- https://anandology.com/python-practice-book/object_oriented_programming.html\n",
    "___"
   ]
  },
  {
   "cell_type": "markdown",
   "metadata": {},
   "source": [
    "## 1. \n",
    "\n",
    "Usando la clase `Perro()` que definimos en la clase, instanciar tres nuevos perros, cada uno con edades diferentes.\n",
    "\n",
    "Luego, fuera de la clase, escriba una función llamada `perro_mas_viejo()`, cuyos argumentos sean 3 objetos de la clase perro e imprima el nombre del perro más viejo con su edad; algo como:\n",
    "\n",
    "> El perro más viejo es `firulais`, y tiene `8` años."
   ]
  },
  {
   "cell_type": "code",
   "execution_count": 15,
   "metadata": {},
   "outputs": [],
   "source": [
    "class Perro():\n",
    "    \n",
    "    def __init__(self, nombre, edad):\n",
    "        self.nombre = nombre\n",
    "        self.edad = edad"
   ]
  },
  {
   "cell_type": "code",
   "execution_count": 28,
   "metadata": {},
   "outputs": [
    {
     "data": {
      "text/plain": [
       "(0.7, 3, 1.2)"
      ]
     },
     "execution_count": 28,
     "metadata": {},
     "output_type": "execute_result"
    }
   ],
   "source": [
    "perro1 = Perro(nombre=\"Chief\", edad=0.7)\n",
    "perro2 = Perro(nombre=\"Mandarina\", edad=3)\n",
    "perro3 = Perro(nombre=\"Pascal\", edad=1.2)\n",
    "\n",
    "perro1.edad, perro2.edad, perro3.edad"
   ]
  },
  {
   "cell_type": "code",
   "execution_count": 29,
   "metadata": {},
   "outputs": [
    {
     "name": "stdout",
     "output_type": "stream",
     "text": [
      "El perro más viejo tiene 3 años\n"
     ]
    }
   ],
   "source": [
    "def perro_mas_viejo(perro1, perro2, perro3):\n",
    "    viejo = max(perro1.edad, perro2.edad, perro3.edad)\n",
    "    print(f\"El perro más viejo tiene {viejo} años\")\n",
    "    return\n",
    "\n",
    "perro_mas_viejo(perro1, perro2, perro3)\n",
    "\n",
    "#No supe como traerme el nombre del perro más viejo."
   ]
  },
  {
   "cell_type": "markdown",
   "metadata": {},
   "source": [
    "## 2. \n",
    "\n",
    "Escriba una clase cuyo nombre sea `Circulo`, la cual tenga un atributo de instancia `radio`, y dos métodos para calcular el área y el perímetro del círculo.\n",
    "\n",
    "Además, instancie tres círculos con diferentes radios y calcule su área y su perímetro."
   ]
  },
  {
   "cell_type": "code",
   "execution_count": 62,
   "metadata": {},
   "outputs": [],
   "source": [
    "import numpy as np\n",
    "class Circulo():\n",
    "    \n",
    "    def __init__(self, radio):\n",
    "        if(radio <= 0):\n",
    "            print(\"No se puede tener un radio de 0 o menor a 0\")\n",
    "            return 0\n",
    "        else:\n",
    "            self.radio = radio\n",
    "        \n",
    "    def area(self):\n",
    "        return np.pi * self.radio**2\n",
    "    \n",
    "    def perimetro(self):\n",
    "        return 2 * np.pi * self.radio"
   ]
  },
  {
   "cell_type": "code",
   "execution_count": 71,
   "metadata": {},
   "outputs": [],
   "source": [
    "cir1 = Circulo(66)\n",
    "cir2 = Circulo(12)\n",
    "cir3 = Circulo(43)"
   ]
  },
  {
   "cell_type": "code",
   "execution_count": 72,
   "metadata": {},
   "outputs": [
    {
     "data": {
      "text/plain": [
       "(13684.77759903714, 5808.804816487527, 452.3893421169302)"
      ]
     },
     "execution_count": 72,
     "metadata": {},
     "output_type": "execute_result"
    }
   ],
   "source": [
    "cir1.area(), cir3.area(), cir2.area()"
   ]
  },
  {
   "cell_type": "code",
   "execution_count": 73,
   "metadata": {},
   "outputs": [
    {
     "data": {
      "text/plain": [
       "(414.6902302738527, 270.1769682087222, 75.39822368615503)"
      ]
     },
     "execution_count": 73,
     "metadata": {},
     "output_type": "execute_result"
    }
   ],
   "source": [
    "cir1.perimetro(), cir3.perimetro(), cir2.perimetro()"
   ]
  },
  {
   "cell_type": "markdown",
   "metadata": {},
   "source": [
    "## 3.\n",
    "\n",
    "Escriba una clase cuyo nombre sea `CuentaBancaria`, y que inicialice un atributo de instancia llamado `saldo` con valor cero. Además, esta clase debe contener tres métodos:\n",
    "- método `depositar()`: el cual reciba el monto de depósito y actualice el atributo de `saldo`;\n",
    "- método `retirar()`: el cual reciba el monto a retirar, y actualice el atributo de `saldo`;\n",
    "- método `imprimir_saldo()`: el cual imprima el saldo actual de la cuenta.\n",
    "\n",
    "Instancie una cuenta bancaria, y haga varios retiros y depósitos."
   ]
  },
  {
   "cell_type": "code",
   "execution_count": 149,
   "metadata": {},
   "outputs": [],
   "source": [
    "class CuentaBancaria():\n",
    "    \n",
    "    def __init__(self, saldo = 0):\n",
    "        self.saldo = saldo\n",
    "    \n",
    "    def depositar(self, deposito):\n",
    "        self.saldo = self.saldo + deposito\n",
    "        return self.saldo\n",
    "    \n",
    "    def retirar(self, retiro):\n",
    "        if self.saldo - retiro < 0:\n",
    "            print(\"Lo sentimos, no cuenta con saldo suficiente para retirar esa cantidad\")\n",
    "        else:\n",
    "            self.saldo = self.saldo - retiro\n",
    "            return self.saldo\n",
    "    \n",
    "    def imprimir_saldo(self):\n",
    "        print(f\"Su saldo actual es de ${self.saldo}\")"
   ]
  },
  {
   "cell_type": "code",
   "execution_count": 154,
   "metadata": {},
   "outputs": [],
   "source": [
    "C0123 = CuantaBancaria(1000)\n",
    "C2523 = CuantaBancaria(5000)\n",
    "C6723 = CuantaBancaria(12000)"
   ]
  },
  {
   "cell_type": "code",
   "execution_count": 155,
   "metadata": {},
   "outputs": [
    {
     "data": {
      "text/plain": [
       "(6000, 5800, 24000)"
      ]
     },
     "execution_count": 155,
     "metadata": {},
     "output_type": "execute_result"
    }
   ],
   "source": [
    "C0123.depositar(5000), C2523.depositar(800), C6723.depositar(12000)"
   ]
  },
  {
   "cell_type": "code",
   "execution_count": 156,
   "metadata": {},
   "outputs": [
    {
     "name": "stdout",
     "output_type": "stream",
     "text": [
      "Lo sentimos, no cuenta con saldo suficiente para retirar esa cantidad\n"
     ]
    },
    {
     "data": {
      "text/plain": [
       "(2000, None, 22900)"
      ]
     },
     "execution_count": 156,
     "metadata": {},
     "output_type": "execute_result"
    }
   ],
   "source": [
    "C0123.retirar(4000), C2523.retirar(8000), C6723.retirar(1100)"
   ]
  },
  {
   "cell_type": "code",
   "execution_count": 226,
   "metadata": {},
   "outputs": [
    {
     "name": "stdout",
     "output_type": "stream",
     "text": [
      "Su saldo actual es de $2000\n",
      "Su saldo actual es de $5800\n",
      "Su saldo actual es de $22900\n"
     ]
    },
    {
     "data": {
      "text/plain": [
       "(None, None, None)"
      ]
     },
     "execution_count": 226,
     "metadata": {},
     "output_type": "execute_result"
    }
   ],
   "source": [
    "C0123.imprimir_saldo(), C2523.imprimir_saldo(), C6723.imprimir_saldo()"
   ]
  },
  {
   "cell_type": "markdown",
   "metadata": {},
   "source": [
    "## 4.\n",
    "\n",
    "A partir de lo resuelto en el problema anterior, cree una clase llamada `CuentaSaldoMinimo` que herede de la clase `CuentaBancaria`.\n",
    "\n",
    "La clase hija `CuentaSaldoMinimo` debe requerir un parámetro adicional de *saldo mínimo*, y debe sobreescribir el método `retirar()` de la clase padre, de forma que al llamar el método `retirar()`:\n",
    "- si el saldo que resultaría después del retiro es mayor al saldo mínimo, se efectúa el retiro;\n",
    "- si el saldo que resultaría después del retiro es menor al saldo mínimo, se imprima un mensaje con la cantidad máxima que se puede retirar y no se efectúe el retiro.\n",
    "\n",
    "Instancie una cuenta bancaria con saldo mínimo, y haga varios retiros y depósitos."
   ]
  },
  {
   "cell_type": "code",
   "execution_count": 221,
   "metadata": {},
   "outputs": [],
   "source": [
    "class CuentaSaldoMinimo(CuentaBancaria):\n",
    "    \n",
    "    def __init__(self, saldo, saldo_minimo):\n",
    "        super().__init__(saldo)\n",
    "        self.saldo_minimo = saldo_minimo\n",
    "    \n",
    "    def retirar(self, retiro):\n",
    "        if self.saldo - retiro >= self.saldo_minimo:\n",
    "            self.saldo = self.saldo - retiro\n",
    "            print(\"Transacción exitosa\")\n",
    "        else:\n",
    "            retiro_max = self.saldo - self.saldo_minimo\n",
    "            print(f\"Lo siento mi chavo lo máximo que puedes sacar es {retiro_max}\")\n",
    "        return print(f\"Su saldo actual es de ${self.saldo}\")"
   ]
  },
  {
   "cell_type": "code",
   "execution_count": 222,
   "metadata": {},
   "outputs": [
    {
     "name": "stdout",
     "output_type": "stream",
     "text": [
      "Su saldo actual es de $10000\n"
     ]
    }
   ],
   "source": [
    "C6789 = CuentaSaldoMinimo(10000, 5000)\n",
    "C6789.imprimir_saldo()\n"
   ]
  },
  {
   "cell_type": "code",
   "execution_count": 223,
   "metadata": {},
   "outputs": [
    {
     "name": "stdout",
     "output_type": "stream",
     "text": [
      "Lo siento mi chavo lo máximo que puedes sacar es 5000\n",
      "Su saldo actual es de $10000\n"
     ]
    }
   ],
   "source": [
    "C6789.retirar(6000)"
   ]
  },
  {
   "cell_type": "code",
   "execution_count": 224,
   "metadata": {},
   "outputs": [
    {
     "name": "stdout",
     "output_type": "stream",
     "text": [
      "Su saldo actual es de $1500\n",
      "Transacción exitosa\n",
      "Su saldo actual es de $1100\n"
     ]
    }
   ],
   "source": [
    "C4623 = CuentaSaldoMinimo(1000, 100)\n",
    "C4623.depositar(500)\n",
    "C4623.imprimir_saldo()\n",
    "C4623.retirar(400)"
   ]
  },
  {
   "cell_type": "code",
   "execution_count": 225,
   "metadata": {},
   "outputs": [
    {
     "name": "stdout",
     "output_type": "stream",
     "text": [
      "Su saldo actual es de $2000\n",
      "Lo siento mi chavo lo máximo que puedes sacar es 1900\n",
      "Su saldo actual es de $2000\n"
     ]
    }
   ],
   "source": [
    "C2342 = CuentaSaldoMinimo(1000, 100)\n",
    "C2342.depositar(1000)\n",
    "C2342.imprimir_saldo()\n",
    "C2342.retirar(2000)"
   ]
  },
  {
   "cell_type": "code",
   "execution_count": null,
   "metadata": {},
   "outputs": [],
   "source": []
  },
  {
   "cell_type": "code",
   "execution_count": null,
   "metadata": {},
   "outputs": [],
   "source": []
  },
  {
   "cell_type": "markdown",
   "metadata": {},
   "source": [
    "<script>\n",
    "  $(document).ready(function(){\n",
    "    $('div.prompt').hide();\n",
    "    $('div.back-to-top').hide();\n",
    "    $('nav#menubar').hide();\n",
    "    $('.breadcrumb').hide();\n",
    "    $('.hidden-print').hide();\n",
    "  });\n",
    "</script>\n",
    "\n",
    "<footer id=\"attribution\" style=\"float:right; color:#808080; background:#fff;\">\n",
    "Created with Jupyter by Esteban Jiménez Rodríguez.\n",
    "</footer>"
   ]
  }
 ],
 "metadata": {
  "kernelspec": {
   "display_name": "Python 3",
   "language": "python",
   "name": "python3"
  },
  "language_info": {
   "codemirror_mode": {
    "name": "ipython",
    "version": 3
   },
   "file_extension": ".py",
   "mimetype": "text/x-python",
   "name": "python",
   "nbconvert_exporter": "python",
   "pygments_lexer": "ipython3",
   "version": "3.8.8"
  }
 },
 "nbformat": 4,
 "nbformat_minor": 2
}
