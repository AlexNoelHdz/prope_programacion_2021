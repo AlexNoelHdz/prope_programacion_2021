{
 "cells": [
  {
   "cell_type": "markdown",
   "metadata": {},
   "source": [
    "# Tarea 3: Clases 4 y 5\n",
    "\n",
    "<img style=\"float: right; margin: 0px 0px 15px 15px;\" src=\"https://upload.wikimedia.org/wikipedia/commons/1/1a/NumPy_logo.svg\" width=\"300px\" height=\"300px\" />\n",
    "\n",
    "Cada clase que veamos tendrá una tarea asignada, la cual contendrá problemas varios que se pueden resolver con lo visto en clase, de manera que puedas practicar lo que acabas de aprender.\n",
    "\n",
    "En esta ocasión, la tarea tendrá ejercicios relativos a la clases 4 y 5, de la librería NumPy y la librería Matplotlib.\n",
    "\n",
    "Para resolver la tarea, por favor cambiar el nombre del archivo a \"Tarea3_ApellidoNombre.ipynb\", sin acentos ni letras ñ (ejemplo: en mi caso, el archivo se llamaría \"Tarea3_JimenezEsteban.ipynb\"). Luego de haber cambiado el nombre, resolver cada uno de los puntos en los espacios provistos.\n",
    "\n",
    "Referencias:\n",
    "- http://www.math.pitt.edu/~sussmanm/3040Summer14/exercisesII.pdf\n",
    "- https://scipy-lectures.org/intro/numpy/exercises.html\n",
    "\n",
    "**Todos los ejercicios se pueden realizar sin usar ciclos `for` ni `while`**\n",
    "___"
   ]
  },
  {
   "cell_type": "markdown",
   "metadata": {},
   "source": [
    "## 1. Cuadrado mágico\n",
    "\n",
    "Un cuadrado mágico es una matriz cuadrada tal que las sumas de los elementos de cada una de sus filas, las sumas de los elementos de cada una de sus columnas y las sumas de los elementos de cada una de sus diagonales son iguales (hay dos diagonales: una desde el elemento superior izquierdo hasta el elemento inferior derecho, y otra desde el elemento superior derecho hasta el elemento inferior izquierdo).\n",
    "\n",
    "Muestre que la matriz A dada por:"
   ]
  },
  {
   "cell_type": "code",
   "execution_count": 3,
   "metadata": {},
   "outputs": [],
   "source": [
    "import numpy as np"
   ]
  },
  {
   "cell_type": "code",
   "execution_count": 4,
   "metadata": {},
   "outputs": [],
   "source": [
    "A = np.array([[17, 24,  1,  8, 15],\n",
    "              [23,  5,  7, 14, 16],\n",
    "              [ 4,  6, 13, 20, 22],\n",
    "              [10, 12, 19, 21,  3],\n",
    "              [11, 18, 25,  2,  9]])"
   ]
  },
  {
   "cell_type": "markdown",
   "metadata": {},
   "source": [
    "constituye un cuadrado mágico.\n",
    "\n",
    "Ayuda: las funciones `np.sum()`, `np.diag()` y `np.fliplr()` pueden ser de mucha utilidad"
   ]
  },
  {
   "cell_type": "code",
   "execution_count": 5,
   "metadata": {},
   "outputs": [],
   "source": [
    "def get_reverse_diagonal(my_array):\n",
    "    #We have to invert A Array in order to get the reversed diagonal\n",
    "    inverted_A = np.fliplr(A)\n",
    "    return np.diag(inverted_A, k = 0)"
   ]
  },
  {
   "cell_type": "code",
   "execution_count": 6,
   "metadata": {},
   "outputs": [
    {
     "data": {
      "text/plain": [
       "(array([17, 24,  1,  8, 15]),\n",
       " array([23,  5,  7, 14, 16]),\n",
       " array([ 4,  6, 13, 20, 22]),\n",
       " array([10, 12, 19, 21,  3]),\n",
       " array([11, 18, 25,  2,  9]))"
      ]
     },
     "execution_count": 6,
     "metadata": {},
     "output_type": "execute_result"
    }
   ],
   "source": [
    "r_0, r_1, r_2, r_3, r_4  = A[0], A[1], A[2], A[3], A[4]\n",
    "r_0, r_1, r_2, r_3, r_4"
   ]
  },
  {
   "cell_type": "code",
   "execution_count": 7,
   "metadata": {},
   "outputs": [
    {
     "data": {
      "text/plain": [
       "(array([17, 23,  4, 10, 11]),\n",
       " array([24,  5,  6, 12, 18]),\n",
       " array([ 1,  7, 13, 19, 25]),\n",
       " array([ 8, 14, 20, 21,  2]),\n",
       " array([15, 16, 22,  3,  9]))"
      ]
     },
     "execution_count": 7,
     "metadata": {},
     "output_type": "execute_result"
    }
   ],
   "source": [
    "c_0, c_1, c_2, c_3, c_4  = A[:, 0], A[:, 1], A[:, 2], A[:, 3], A[:, 4]\n",
    "c_0, c_1, c_2, c_3, c_4"
   ]
  },
  {
   "cell_type": "code",
   "execution_count": 8,
   "metadata": {},
   "outputs": [
    {
     "data": {
      "text/plain": [
       "(array([17,  5, 13, 21,  9]), array([15, 14, 13, 12, 11]))"
      ]
     },
     "execution_count": 8,
     "metadata": {},
     "output_type": "execute_result"
    }
   ],
   "source": [
    "#ul to lr / ur to ll\n",
    "ul_lr, ur_ll = np.diag(A), get_reverse_diagonal(A)\n",
    "ul_lr, ur_ll"
   ]
  },
  {
   "cell_type": "code",
   "execution_count": 9,
   "metadata": {},
   "outputs": [
    {
     "data": {
      "text/plain": [
       "(65, 65, 65, 65, 65, 65, 65, 65, 65, 65, 65, 65)"
      ]
     },
     "execution_count": 9,
     "metadata": {},
     "output_type": "execute_result"
    }
   ],
   "source": [
    "sum(ul_lr), sum(ur_ll), sum(r_0), sum(r_1), sum(r_2), sum(r_3), sum(r_4), sum(c_0), sum(c_1), sum(c_2), sum(c_3), sum(c_4) "
   ]
  },
  {
   "cell_type": "markdown",
   "metadata": {},
   "source": [
    "## 2. ¿Qué más podemos hacer con NumPy?\n",
    "\n",
    "Este ejercicio es más que nada informativo, para ver qué más pueden hacer con la librería NumPy.\n",
    "\n",
    "Considere el siguiente vector:"
   ]
  },
  {
   "cell_type": "code",
   "execution_count": 10,
   "metadata": {},
   "outputs": [],
   "source": [
    "x = np.array([-1., 4., -9.])"
   ]
  },
  {
   "cell_type": "markdown",
   "metadata": {},
   "source": [
    "1. La función coseno (`np.cos()`) se aplica sobre cada uno de los elementos del vector. Calcular el vector `y = np.cos(np.pi/4*x)`"
   ]
  },
  {
   "cell_type": "code",
   "execution_count": 12,
   "metadata": {},
   "outputs": [
    {
     "data": {
      "text/plain": [
       "array([ 0.70710678, -1.        ,  0.70710678])"
      ]
     },
     "execution_count": 12,
     "metadata": {},
     "output_type": "execute_result"
    }
   ],
   "source": [
    "y = np.cos(np.pi/4*x)\n",
    "y"
   ]
  },
  {
   "cell_type": "markdown",
   "metadata": {},
   "source": [
    "2. Puedes sumar vectores y multiplicarlos por escalares. Calcular el vector `z = x + 2*y`"
   ]
  },
  {
   "cell_type": "code",
   "execution_count": 14,
   "metadata": {},
   "outputs": [
    {
     "data": {
      "text/plain": [
       "array([ 0.41421356,  2.        , -7.58578644])"
      ]
     },
     "execution_count": 14,
     "metadata": {},
     "output_type": "execute_result"
    }
   ],
   "source": [
    "z = x + 2*y\n",
    "z"
   ]
  },
  {
   "cell_type": "markdown",
   "metadata": {},
   "source": [
    "3. También puedes calcular la norma de un vector. Investiga como y calcular la norma del vector x\n",
    "\n",
    "Ayuda: buscar en las funciones del paquete de algebra lineal de NumPy"
   ]
  },
  {
   "cell_type": "code",
   "execution_count": 18,
   "metadata": {},
   "outputs": [
    {
     "name": "stdout",
     "output_type": "stream",
     "text": [
      "[-1.  4. -9.]\n"
     ]
    },
    {
     "data": {
      "text/plain": [
       "9.899494936611665"
      ]
     },
     "execution_count": 18,
     "metadata": {},
     "output_type": "execute_result"
    }
   ],
   "source": [
    "print(x)\n",
    "np.linalg.norm(x)"
   ]
  },
  {
   "cell_type": "markdown",
   "metadata": {},
   "source": [
    "4. Utilizando la función `np.vstack()` formar una matriz `M` tal que la primera fila corresponda al vector `x`, la segunda al vector `y` y la tercera al vector `z`."
   ]
  },
  {
   "cell_type": "code",
   "execution_count": 24,
   "metadata": {},
   "outputs": [
    {
     "data": {
      "text/plain": [
       "array([[-1.        ,  4.        , -9.        ],\n",
       "       [ 0.70710678, -1.        ,  0.70710678],\n",
       "       [ 0.41421356,  2.        , -7.58578644]])"
      ]
     },
     "execution_count": 24,
     "metadata": {},
     "output_type": "execute_result"
    }
   ],
   "source": [
    "M = np.vstack((x, y, z))\n",
    "M"
   ]
  },
  {
   "cell_type": "markdown",
   "metadata": {},
   "source": [
    "5. Calcule la transpuesta de la matriz `M`, el determinante de la matriz `M`, y la multiplicación matricial de la matriz `M` por el vector `x`."
   ]
  },
  {
   "cell_type": "code",
   "execution_count": 23,
   "metadata": {},
   "outputs": [
    {
     "data": {
      "text/plain": [
       "array([[-1.        ,  0.70710678,  0.41421356],\n",
       "       [ 4.        , -1.        ,  2.        ],\n",
       "       [-9.        ,  0.70710678, -7.58578644]])"
      ]
     },
     "execution_count": 23,
     "metadata": {},
     "output_type": "execute_result"
    }
   ],
   "source": [
    "#Numpy transpose\n",
    "M.transpose()"
   ]
  },
  {
   "cell_type": "code",
   "execution_count": 28,
   "metadata": {},
   "outputs": [
    {
     "data": {
      "text/plain": [
       "0.0"
      ]
     },
     "execution_count": 28,
     "metadata": {},
     "output_type": "execute_result"
    }
   ],
   "source": [
    "#Linalg determinant\n",
    "np.linalg.det(M)"
   ]
  },
  {
   "cell_type": "code",
   "execution_count": 38,
   "metadata": {},
   "outputs": [
    {
     "name": "stdout",
     "output_type": "stream",
     "text": [
      "[ 98.         -11.07106781  75.85786438]\n"
     ]
    }
   ],
   "source": [
    "print(np.dot(M, x))"
   ]
  },
  {
   "cell_type": "markdown",
   "metadata": {},
   "source": [
    "## 3. Graficando funciones\n",
    "\n",
    "Generar un gráfico de las funciones $f(x)=e^{-x/10}\\sin(\\pi x)$ y $g(x)=x e^{-x/3}$ sobre el intervalo $[0, 10]$. Incluya las etiquetas de los ejes y una leyenda con las etiquetas de cada función."
   ]
  },
  {
   "cell_type": "code",
   "execution_count": 23,
   "metadata": {},
   "outputs": [],
   "source": [
    "#Importar Librerias\n",
    "import numpy as np\n",
    "import matplotlib.pyplot as plt"
   ]
  },
  {
   "cell_type": "code",
   "execution_count": 24,
   "metadata": {},
   "outputs": [],
   "source": [
    "#𝑓(𝑥)=𝑒−𝑥/10sin(𝜋𝑥) \n",
    "def f(x):\n",
    "    return np.exp(-x / 10) * np.sin(np.pi * x)\n",
    "\n",
    "#𝑔(𝑥)=𝑥𝑒−𝑥/3 \n",
    "def g(x):\n",
    "    return x * np.exp(-x / 3)"
   ]
  },
  {
   "cell_type": "code",
   "execution_count": 25,
   "metadata": {},
   "outputs": [],
   "source": [
    "#Intervalo 0-10\n",
    "x = np.linspace(0, 10, 100)"
   ]
  },
  {
   "cell_type": "code",
   "execution_count": 26,
   "metadata": {},
   "outputs": [],
   "source": [
    "#Evaluar f(x)\n",
    "f_x = [f(i) for i in x]\n",
    "#Evaluar g(x)\n",
    "g_x = [g(i) for i in x]"
   ]
  },
  {
   "cell_type": "code",
   "execution_count": 88,
   "metadata": {},
   "outputs": [
    {
     "data": {
      "text/plain": [
       "<matplotlib.legend.Legend at 0x1f64fd6df70>"
      ]
     },
     "execution_count": 88,
     "metadata": {},
     "output_type": "execute_result"
    },
    {
     "data": {
      "image/png": "[encoded data removed]",
      "text/plain": [
       "<Figure size 864x360 with 1 Axes>"
      ]
     },
     "metadata": {
      "needs_background": "light"
     },
     "output_type": "display_data"
    }
   ],
   "source": [
    "plt.figure(figsize=(12, 5))\n",
    "plt.plot(x, f_x, label= '$f(x)=e^{-x/10} sin(\\pi x)$')\n",
    "plt.plot(x, g_x, label= '$g(x)=x e^{-x/3}$')\n",
    "plt.xlabel(\"$x$\")\n",
    "plt.ylabel(\"$y$\")\n",
    "plt.legend(loc=\"lower left\", bbox_to_anchor=(1.15, 0))"
   ]
  },
  {
   "cell_type": "markdown",
   "metadata": {},
   "source": [
    "## 4. Analizando datos\n",
    "\n",
    "Los datos en el archivo `populations.txt` describen las poblaciones de liebres, linces (y zanahorias) en el norte de Canadá durante 20 años.\n",
    "\n",
    "Para poder analizar estos datos con NumPy es necesario importarlos. La siguiente celda importa los datos del archivo `populations.txt`, siempre y cuando el archivo y el notebook de jupyter estén en la misma ubicación:"
   ]
  },
  {
   "cell_type": "code",
   "execution_count": 90,
   "metadata": {},
   "outputs": [],
   "source": [
    "datos = np.loadtxt('populations.txt')"
   ]
  },
  {
   "cell_type": "markdown",
   "metadata": {},
   "source": [
    "1. Obtener, usando la indización de NumPy, cuatro arreglos independientes llamados `años`, `liebres`, `linces` y `zanahorias`, correspondientes a los años, a la población de liebres, a la población de linces y a la cantidad de zanahorias, respectivamente."
   ]
  },
  {
   "cell_type": "code",
   "execution_count": 39,
   "metadata": {},
   "outputs": [],
   "source": [
    "años = datos[:, 0]\n",
    "liebres = datos[:, 1]\n",
    "linces = datos[:, 2]\n",
    "zanahorias = datos[:, 3]"
   ]
  },
  {
   "cell_type": "markdown",
   "metadata": {},
   "source": [
    "2. Calcular e imprimir los valores priomedio y las desviaciones estándar de las poblaciones de cada especie."
   ]
  },
  {
   "cell_type": "code",
   "execution_count": 41,
   "metadata": {},
   "outputs": [
    {
     "name": "stdout",
     "output_type": "stream",
     "text": [
      "Promedio liebres: 34080.9524\n",
      "Desviación estandar liebres: 20897.9065\n",
      "Promedio linces: 20166.6667\n",
      "Desviación estandar linces: 16254.5915\n",
      "Promedio zanahorias: 42400.0\n",
      "Desviación estandar zanahorias: 3322.5062\n"
     ]
    }
   ],
   "source": [
    "print(f\"Promedio liebres: {round(np.mean(liebres), 4)}\\nDesviación estandar liebres: {round(np.std(liebres), 4)}\")\n",
    "print(f\"Promedio linces: {round(np.mean(linces), 4)}\\nDesviación estandar linces: {round(np.std(linces), 4)}\")\n",
    "print(f\"Promedio zanahorias: {round(np.mean(zanahorias), 4)}\\nDesviación estandar zanahorias: {round(np.std(zanahorias), 4)}\")"
   ]
  },
  {
   "cell_type": "markdown",
   "metadata": {},
   "source": [
    "3. ¿En qué año tuvo cada especie su población máxima?, y ¿cuál fue la población máxima de cada especie?"
   ]
  },
  {
   "cell_type": "code",
   "execution_count": 53,
   "metadata": {},
   "outputs": [
    {
     "name": "stdout",
     "output_type": "stream",
     "text": [
      "Población máxima liebres: 77400.0\n",
      "Año liebres: 1903\n",
      "Población máxima linces: 59400.0\n",
      "Año linces: 1904\n",
      "Población máxima zanahorias: 48300.0\n",
      "Año estandar zanahorias: 1900\n"
     ]
    }
   ],
   "source": [
    "\n",
    "print(f\"Población máxima liebres: {np.mean(liebres.max())}\\nAño liebres: {int(años[liebres.argmax()])}\")\n",
    "print(f\"Población máxima linces: {np.mean(linces.max())}\\nAño linces: {int(años[linces.argmax()])}\")\n",
    "print(f\"Población máxima zanahorias: {np.mean(zanahorias.max())}\\nAño estandar zanahorias: {int(años[zanahorias.argmax()])}\")"
   ]
  },
  {
   "cell_type": "markdown",
   "metadata": {},
   "source": [
    "4. Graficar las poblaciones respecto al tiempo. Incluir en la gráfica los puntos de población máxima (resaltarlos con puntos grandes o de color, o con flechas y texto, o de alguna manera que se les ocurra). No olvidar etiquetar los ejes y poner una leyenda para etiquetar los diferentes objetos de la gráfica."
   ]
  },
  {
   "cell_type": "code",
   "execution_count": 94,
   "metadata": {},
   "outputs": [
    {
     "data": {
      "text/plain": [
       "<matplotlib.legend.Legend at 0x1f64f596970>"
      ]
     },
     "execution_count": 94,
     "metadata": {},
     "output_type": "execute_result"
    },
    {
     "data": {
      "image/png": "[encoded data removed]",
      "text/plain": [
       "<Figure size 864x360 with 1 Axes>"
      ]
     },
     "metadata": {
      "needs_background": "light"
     },
     "output_type": "display_data"
    }
   ],
   "source": [
    "# Importamos la librería\n",
    "import matplotlib.pyplot as plt\n",
    "\n",
    "plt.figure(figsize=(12, 5))\n",
    "\n",
    "plt.plot(años, liebres, 'ro--', label=\"Liebres\")\n",
    "plt.plot(años, linces, 'go--', label=\"Linces\")\n",
    "plt.plot(años, zanahorias, 'bo--', label=\"Zanahorias\")\n",
    "\n",
    "plt.plot(años[liebres.argmax()], liebres.max(), '*',markersize = 10, label=\"Máx. Liebres\")\n",
    "plt.plot(años[linces.argmax()], linces.max(), '*',markersize = 10, label=\"Máx. Linces\")\n",
    "plt.plot(años[zanahorias.argmax()], zanahorias.max(), '*',markersize = 10, label=\"Máx. Zanahorias\")\n",
    "    \n",
    "plt.xlabel(\"Años\")\n",
    "plt.ylabel(\"Población\")\n",
    "plt.title('Población por año de especies')\n",
    "\n",
    "plt.legend(loc=\"upper left\", bbox_to_anchor=(1.05, 1)) \n"
   ]
  },
  {
   "cell_type": "markdown",
   "metadata": {},
   "source": [
    "5. Graficar las distribuciones de las diferentes especies utilizando histogramas. Asegúrese de elegir parámetros adecuados de las gráficas."
   ]
  },
  {
   "cell_type": "code",
   "execution_count": 110,
   "metadata": {},
   "outputs": [
    {
     "data": {
      "image/png": "[encoded data removed]",
      "text/plain": [
       "<Figure size 432x288 with 1 Axes>"
      ]
     },
     "metadata": {
      "needs_background": "light"
     },
     "output_type": "display_data"
    }
   ],
   "source": [
    "plt.hist(liebres, bins=10);\n"
   ]
  },
  {
   "cell_type": "code",
   "execution_count": 109,
   "metadata": {},
   "outputs": [
    {
     "data": {
      "image/png": "[encoded data removed]",
      "text/plain": [
       "<Figure size 432x288 with 1 Axes>"
      ]
     },
     "metadata": {
      "needs_background": "light"
     },
     "output_type": "display_data"
    }
   ],
   "source": [
    "plt.hist(linces, bins=10);"
   ]
  },
  {
   "cell_type": "code",
   "execution_count": 111,
   "metadata": {},
   "outputs": [
    {
     "data": {
      "image/png": "[encoded data removed]",
      "text/plain": [
       "<Figure size 432x288 with 1 Axes>"
      ]
     },
     "metadata": {
      "needs_background": "light"
     },
     "output_type": "display_data"
    }
   ],
   "source": [
    "plt.hist(zanahorias, bins=10);"
   ]
  },
  {
   "cell_type": "markdown",
   "metadata": {},
   "source": [
    "6. Calcule el coeficiente de correlación de la población de linces y la población de liebres (ayuda: np.corrcoef). Por otra parte, mediante un gráfico de dispersión de puntos, grafique la población de linces vs. la población de liebres, ¿coincide la forma del gráfico con el coeficiente de correlación obtenido?"
   ]
  },
  {
   "cell_type": "code",
   "execution_count": 112,
   "metadata": {},
   "outputs": [
    {
     "data": {
      "text/plain": [
       "array([[1.        , 0.07189206],\n",
       "       [0.07189206, 1.        ]])"
      ]
     },
     "execution_count": 112,
     "metadata": {},
     "output_type": "execute_result"
    }
   ],
   "source": [
    "np.corrcoef(linces,liebres)"
   ]
  },
  {
   "cell_type": "code",
   "execution_count": 115,
   "metadata": {},
   "outputs": [
    {
     "data": {
      "text/plain": [
       "(array([0.09242887]), 32216.97012926312)"
      ]
     },
     "execution_count": 115,
     "metadata": {},
     "output_type": "execute_result"
    }
   ],
   "source": [
    "#regresion linear\n",
    "from sklearn.linear_model import LinearRegression\n",
    "model = LinearRegression()\n",
    "model.fit(np.array([linces]).reshape(len(linces), 1), liebres)\n",
    "model.coef_, model.intercept_"
   ]
  },
  {
   "cell_type": "code",
   "execution_count": 116,
   "metadata": {},
   "outputs": [
    {
     "data": {
      "image/png": "[encoded data removed]",
      "text/plain": [
       "<Figure size 432x288 with 1 Axes>"
      ]
     },
     "metadata": {
      "needs_background": "light"
     },
     "output_type": "display_data"
    }
   ],
   "source": [
    "# Dispersión de puntos\n",
    "plt.figure(figsize=(6, 4))\n",
    "plt.scatter(linces, liebres)\n",
    "plt.plot(linces, model.predict(np.array([linces]).reshape(len(linces), 1)))\n",
    "plt.xlabel(\"Linces]\")\n",
    "plt.ylabel(\"Liebres\")\n",
    "plt.grid()\n"
   ]
  },
  {
   "cell_type": "markdown",
   "metadata": {},
   "source": [
    "### Muestra correctamente la dispersión sin patrón aparente"
   ]
  },
  {
   "cell_type": "markdown",
   "metadata": {},
   "source": [
    "<script>\n",
    "  $(document).ready(function(){\n",
    "    $('div.prompt').hide();\n",
    "    $('div.back-to-top').hide();\n",
    "    $('nav#menubar').hide();\n",
    "    $('.breadcrumb').hide();\n",
    "    $('.hidden-print').hide();\n",
    "  });\n",
    "</script>\n",
    "\n",
    "<footer id=\"attribution\" style=\"float:right; color:#808080; background:#fff;\">\n",
    "Created with Jupyter by Esteban Jiménez Rodríguez.\n",
    "</footer>"
   ]
  }
 ],
 "metadata": {
  "kernelspec": {
   "display_name": "Python 3",
   "language": "python",
   "name": "python3"
  },
  "language_info": {
   "codemirror_mode": {
    "name": "ipython",
    "version": 3
   },
   "file_extension": ".py",
   "mimetype": "text/x-python",
   "name": "python",
   "nbconvert_exporter": "python",
   "pygments_lexer": "ipython3",
   "version": "3.8.8"
  }
 },
 "nbformat": 4,
 "nbformat_minor": 2
}
