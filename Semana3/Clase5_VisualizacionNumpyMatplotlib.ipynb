{
 "cells": [
  {
   "cell_type": "markdown",
   "metadata": {},
   "source": [
    "# Visualización con Numpy y Matplotlib\n",
    "\n",
    "<img style=\"float: right; margin: 0px 0px 15px 15px;\" src=\"https://matplotlib.org/_static/logo2.png\" width=\"400px\" height=\"400px\" />\n",
    "\n",
    "> La clase anterior nos introdujimos al grandísimo mundo de las librerías, y comenzamos con una de las librerías más importantes de Python: NumPy.\n",
    "\n",
    "> Por si sola, NumPy es una de las librerías más potentes y versátiles para Python. Sin embargo, lo es aún más cuando la combinamos con otras librerías.\n",
    "\n",
    "> Hoy estudiaremos la librería `matplotlib`, que nos provee numerosos y poderosos comandos para producir gráficos de alta calidad.\n",
    "\n",
    "Referencias:\n",
    "- https://matplotlib.org/\n",
    "- https://towardsdatascience.com/data-science-with-python-intro-to-data-visualization-and-matplotlib-5f799b7c6d82\n",
    "___"
   ]
  },
  {
   "cell_type": "markdown",
   "metadata": {},
   "source": [
    "# 0. Motivación\n",
    "\n",
    "Cuando un científico de datos trabaja, típicamente los datos que utiliza están guardados en archivos `.csv`, archivos de excel, bases de datos y otros tipos de formatos. \n",
    "\n",
    "Estos datos se deben cargar a Python dentro de alguno de los tipos de variables disponibles: NumPy `ndarray`, Pandas `DataFrame` (estos son los más comunes, y los estaremos estudiando la próxima clase).\n",
    "\n",
    "Una vez tenemos los datos dentro de variables en Python, podemos proceder a graficarlos fácilmente."
   ]
  },
  {
   "cell_type": "markdown",
   "metadata": {},
   "source": [
    "Por otra parte, la visualización de datos es una parte muy importante del análisis de datos.\n",
    "\n",
    "- Puedes usarla para explorar los datos gráficamente.\n",
    "\n",
    "- Si ya hay un buen entendimiento de los datos, tendrás una mejor oportunidad de ganar intuición.\n",
    "\n",
    "- Finalmente, si ya has visto algún patrón en los datos, puedes usar visualizaciones para compartir tus ideas con otras personas.\n",
    "___"
   ]
  },
  {
   "cell_type": "markdown",
   "metadata": {},
   "source": [
    "# 1. Conociendo matplotlib: gráficos de funciones\n",
    "\n",
    "Antes de empezar a revisar distintos tipos gráficos para datos, vamos a comenzar con un tipo de gráfico muy básico, y al que estamos habituados desde la secundaria/preparatoria: **gráficos de funciones**.\n",
    "\n",
    "Para empezar a trabajar con una librería, ¿qué tenemos que hacer?"
   ]
  },
  {
   "cell_type": "code",
   "execution_count": 1,
   "metadata": {},
   "outputs": [],
   "source": [
    "# Importar el módulo pyplot de la librería matplotlib\n",
    "import matplotlib.pyplot as plt"
   ]
  },
  {
   "cell_type": "markdown",
   "metadata": {},
   "source": [
    "### Graficando funciones seno y coseno:"
   ]
  },
  {
   "cell_type": "code",
   "execution_count": 2,
   "metadata": {
    "scrolled": true
   },
   "outputs": [
    {
     "name": "stdout",
     "output_type": "stream",
     "text": [
      "Help on function plot in module matplotlib.pyplot:\n",
      "\n",
      "plot(*args, scalex=True, scaley=True, data=None, **kwargs)\n",
      "    Plot y versus x as lines and/or markers.\n",
      "    \n",
      "    Call signatures::\n",
      "    \n",
      "        plot([x], y, [fmt], *, data=None, **kwargs)\n",
      "        plot([x], y, [fmt], [x2], y2, [fmt2], ..., **kwargs)\n",
      "    \n",
      "    The coordinates of the points or line nodes are given by *x*, *y*.\n",
      "    \n",
      "    The optional parameter *fmt* is a convenient way for defining basic\n",
      "    formatting like color, marker and linestyle. It's a shortcut string\n",
      "    notation described in the *Notes* section below.\n",
      "    \n",
      "    >>> plot(x, y)        # plot x and y using default line style and color\n",
      "    >>> plot(x, y, 'bo')  # plot x and y using blue circle markers\n",
      "    >>> plot(y)           # plot y using x as index array 0..N-1\n",
      "    >>> plot(y, 'r+')     # ditto, but with red plusses\n",
      "    \n",
      "    You can use `.Line2D` properties as keyword arguments for more\n",
      "    control on the appearance. Line properties and *fmt* can be mixed.\n",
      "    The following two calls yield identical results:\n",
      "    \n",
      "    >>> plot(x, y, 'go--', linewidth=2, markersize=12)\n",
      "    >>> plot(x, y, color='green', marker='o', linestyle='dashed',\n",
      "    ...      linewidth=2, markersize=12)\n",
      "    \n",
      "    When conflicting with *fmt*, keyword arguments take precedence.\n",
      "    \n",
      "    \n",
      "    **Plotting labelled data**\n",
      "    \n",
      "    There's a convenient way for plotting objects with labelled data (i.e.\n",
      "    data that can be accessed by index ``obj['y']``). Instead of giving\n",
      "    the data in *x* and *y*, you can provide the object in the *data*\n",
      "    parameter and just give the labels for *x* and *y*::\n",
      "    \n",
      "    >>> plot('xlabel', 'ylabel', data=obj)\n",
      "    \n",
      "    All indexable objects are supported. This could e.g. be a `dict`, a\n",
      "    `pandas.DataFame` or a structured numpy array.\n",
      "    \n",
      "    \n",
      "    **Plotting multiple sets of data**\n",
      "    \n",
      "    There are various ways to plot multiple sets of data.\n",
      "    \n",
      "    - The most straight forward way is just to call `plot` multiple times.\n",
      "      Example:\n",
      "    \n",
      "      >>> plot(x1, y1, 'bo')\n",
      "      >>> plot(x2, y2, 'go')\n",
      "    \n",
      "    - Alternatively, if your data is already a 2d array, you can pass it\n",
      "      directly to *x*, *y*. A separate data set will be drawn for every\n",
      "      column.\n",
      "    \n",
      "      Example: an array ``a`` where the first column represents the *x*\n",
      "      values and the other columns are the *y* columns::\n",
      "    \n",
      "      >>> plot(a[0], a[1:])\n",
      "    \n",
      "    - The third way is to specify multiple sets of *[x]*, *y*, *[fmt]*\n",
      "      groups::\n",
      "    \n",
      "      >>> plot(x1, y1, 'g^', x2, y2, 'g-')\n",
      "    \n",
      "      In this case, any additional keyword argument applies to all\n",
      "      datasets. Also this syntax cannot be combined with the *data*\n",
      "      parameter.\n",
      "    \n",
      "    By default, each line is assigned a different style specified by a\n",
      "    'style cycle'. The *fmt* and line property parameters are only\n",
      "    necessary if you want explicit deviations from these defaults.\n",
      "    Alternatively, you can also change the style cycle using the\n",
      "    'axes.prop_cycle' rcParam.\n",
      "    \n",
      "    \n",
      "    Parameters\n",
      "    ----------\n",
      "    x, y : array-like or scalar\n",
      "        The horizontal / vertical coordinates of the data points.\n",
      "        *x* values are optional and default to `range(len(y))`.\n",
      "    \n",
      "        Commonly, these parameters are 1D arrays.\n",
      "    \n",
      "        They can also be scalars, or two-dimensional (in that case, the\n",
      "        columns represent separate data sets).\n",
      "    \n",
      "        These arguments cannot be passed as keywords.\n",
      "    \n",
      "    fmt : str, optional\n",
      "        A format string, e.g. 'ro' for red circles. See the *Notes*\n",
      "        section for a full description of the format strings.\n",
      "    \n",
      "        Format strings are just an abbreviation for quickly setting\n",
      "        basic line properties. All of these and more can also be\n",
      "        controlled by keyword arguments.\n",
      "    \n",
      "        This argument cannot be passed as keyword.\n",
      "    \n",
      "    data : indexable object, optional\n",
      "        An object with labelled data. If given, provide the label names to\n",
      "        plot in *x* and *y*.\n",
      "    \n",
      "        .. note::\n",
      "            Technically there's a slight ambiguity in calls where the\n",
      "            second label is a valid *fmt*. `plot('n', 'o', data=obj)`\n",
      "            could be `plt(x, y)` or `plt(y, fmt)`. In such cases,\n",
      "            the former interpretation is chosen, but a warning is issued.\n",
      "            You may suppress the warning by adding an empty format string\n",
      "            `plot('n', 'o', '', data=obj)`.\n",
      "    \n",
      "    Other Parameters\n",
      "    ----------------\n",
      "    scalex, scaley : bool, optional, default: True\n",
      "        These parameters determined if the view limits are adapted to\n",
      "        the data limits. The values are passed on to `autoscale_view`.\n",
      "    \n",
      "    **kwargs : `.Line2D` properties, optional\n",
      "        *kwargs* are used to specify properties like a line label (for\n",
      "        auto legends), linewidth, antialiasing, marker face color.\n",
      "        Example::\n",
      "    \n",
      "        >>> plot([1,2,3], [1,2,3], 'go-', label='line 1', linewidth=2)\n",
      "        >>> plot([1,2,3], [1,4,9], 'rs',  label='line 2')\n",
      "    \n",
      "        If you make multiple lines with one plot command, the kwargs\n",
      "        apply to all those lines.\n",
      "    \n",
      "        Here is a list of available `.Line2D` properties:\n",
      "    \n",
      "      agg_filter: a filter function, which takes a (m, n, 3) float array and a dpi value, and returns a (m, n, 3) array\n",
      "      alpha: float\n",
      "      animated: bool\n",
      "      antialiased or aa: bool\n",
      "      clip_box: `.Bbox`\n",
      "      clip_on: bool\n",
      "      clip_path: [(`~matplotlib.path.Path`, `.Transform`) | `.Patch` | None]\n",
      "      color or c: color\n",
      "      contains: callable\n",
      "      dash_capstyle: {'butt', 'round', 'projecting'}\n",
      "      dash_joinstyle: {'miter', 'round', 'bevel'}\n",
      "      dashes: sequence of floats (on/off ink in points) or (None, None)\n",
      "      drawstyle or ds: {'default', 'steps', 'steps-pre', 'steps-mid', 'steps-post'}, default: 'default'\n",
      "      figure: `.Figure`\n",
      "      fillstyle: {'full', 'left', 'right', 'bottom', 'top', 'none'}\n",
      "      gid: str\n",
      "      in_layout: bool\n",
      "      label: object\n",
      "      linestyle or ls: {'-', '--', '-.', ':', '', (offset, on-off-seq), ...}\n",
      "      linewidth or lw: float\n",
      "      marker: marker style\n",
      "      markeredgecolor or mec: color\n",
      "      markeredgewidth or mew: float\n",
      "      markerfacecolor or mfc: color\n",
      "      markerfacecoloralt or mfcalt: color\n",
      "      markersize or ms: float\n",
      "      markevery: None or int or (int, int) or slice or List[int] or float or (float, float)\n",
      "      path_effects: `.AbstractPathEffect`\n",
      "      picker: float or callable[[Artist, Event], Tuple[bool, dict]]\n",
      "      pickradius: float\n",
      "      rasterized: bool or None\n",
      "      sketch_params: (scale: float, length: float, randomness: float)\n",
      "      snap: bool or None\n",
      "      solid_capstyle: {'butt', 'round', 'projecting'}\n",
      "      solid_joinstyle: {'miter', 'round', 'bevel'}\n",
      "      transform: `matplotlib.transforms.Transform`\n",
      "      url: str\n",
      "      visible: bool\n",
      "      xdata: 1D array\n",
      "      ydata: 1D array\n",
      "      zorder: float\n",
      "    \n",
      "    Returns\n",
      "    -------\n",
      "    lines\n",
      "        A list of `.Line2D` objects representing the plotted data.\n",
      "    \n",
      "    See Also\n",
      "    --------\n",
      "    scatter : XY scatter plot with markers of varying size and/or color (\n",
      "        sometimes also called bubble chart).\n",
      "    \n",
      "    Notes\n",
      "    -----\n",
      "    **Format Strings**\n",
      "    \n",
      "    A format string consists of a part for color, marker and line::\n",
      "    \n",
      "        fmt = '[marker][line][color]'\n",
      "    \n",
      "    Each of them is optional. If not provided, the value from the style\n",
      "    cycle is used. Exception: If ``line`` is given, but no ``marker``,\n",
      "    the data will be a line without markers.\n",
      "    \n",
      "    Other combinations such as ``[color][marker][line]`` are also\n",
      "    supported, but note that their parsing may be ambiguous.\n",
      "    \n",
      "    **Markers**\n",
      "    \n",
      "    =============    ===============================\n",
      "    character        description\n",
      "    =============    ===============================\n",
      "    ``'.'``          point marker\n",
      "    ``','``          pixel marker\n",
      "    ``'o'``          circle marker\n",
      "    ``'v'``          triangle_down marker\n",
      "    ``'^'``          triangle_up marker\n",
      "    ``'<'``          triangle_left marker\n",
      "    ``'>'``          triangle_right marker\n",
      "    ``'1'``          tri_down marker\n",
      "    ``'2'``          tri_up marker\n",
      "    ``'3'``          tri_left marker\n",
      "    ``'4'``          tri_right marker\n",
      "    ``'s'``          square marker\n",
      "    ``'p'``          pentagon marker\n",
      "    ``'*'``          star marker\n",
      "    ``'h'``          hexagon1 marker\n",
      "    ``'H'``          hexagon2 marker\n",
      "    ``'+'``          plus marker\n",
      "    ``'x'``          x marker\n",
      "    ``'D'``          diamond marker\n",
      "    ``'d'``          thin_diamond marker\n",
      "    ``'|'``          vline marker\n",
      "    ``'_'``          hline marker\n",
      "    =============    ===============================\n",
      "    \n",
      "    **Line Styles**\n",
      "    \n",
      "    =============    ===============================\n",
      "    character        description\n",
      "    =============    ===============================\n",
      "    ``'-'``          solid line style\n",
      "    ``'--'``         dashed line style\n",
      "    ``'-.'``         dash-dot line style\n",
      "    ``':'``          dotted line style\n",
      "    =============    ===============================\n",
      "    \n",
      "    Example format strings::\n",
      "    \n",
      "        'b'    # blue markers with default shape\n",
      "        'or'   # red circles\n",
      "        '-g'   # green solid line\n",
      "        '--'   # dashed line with default color\n",
      "        '^k:'  # black triangle_up markers connected by a dotted line\n",
      "    \n",
      "    **Colors**\n",
      "    \n",
      "    The supported color abbreviations are the single letter codes\n",
      "    \n",
      "    =============    ===============================\n",
      "    character        color\n",
      "    =============    ===============================\n",
      "    ``'b'``          blue\n",
      "    ``'g'``          green\n",
      "    ``'r'``          red\n",
      "    ``'c'``          cyan\n",
      "    ``'m'``          magenta\n",
      "    ``'y'``          yellow\n",
      "    ``'k'``          black\n",
      "    ``'w'``          white\n",
      "    =============    ===============================\n",
      "    \n",
      "    and the ``'CN'`` colors that index into the default property cycle.\n",
      "    \n",
      "    If the color is the only part of the format string, you can\n",
      "    additionally use any  `matplotlib.colors` spec, e.g. full names\n",
      "    (``'green'``) or hex strings (``'#008000'``).\n",
      "\n"
     ]
    }
   ],
   "source": [
    "# help de la función plt.plot()\n",
    "help(plt.plot)"
   ]
  },
  {
   "cell_type": "markdown",
   "metadata": {},
   "source": [
    "Entonces, para graficar las funciones seno y coseno, necesitamos generar un vector de abscisas (x), y otro vector de ordenadas (y).\n",
    "\n",
    "Acá es donde el papel de NumPy se vuelve relevante..."
   ]
  },
  {
   "cell_type": "code",
   "execution_count": 3,
   "metadata": {},
   "outputs": [],
   "source": [
    "# Importar numpy\n",
    "import numpy as np"
   ]
  },
  {
   "cell_type": "code",
   "execution_count": 4,
   "metadata": {
    "scrolled": true
   },
   "outputs": [
    {
     "name": "stdout",
     "output_type": "stream",
     "text": [
      "Help on function linspace in module numpy:\n",
      "\n",
      "linspace(start, stop, num=50, endpoint=True, retstep=False, dtype=None, axis=0)\n",
      "    Return evenly spaced numbers over a specified interval.\n",
      "    \n",
      "    Returns `num` evenly spaced samples, calculated over the\n",
      "    interval [`start`, `stop`].\n",
      "    \n",
      "    The endpoint of the interval can optionally be excluded.\n",
      "    \n",
      "    .. versionchanged:: 1.16.0\n",
      "        Non-scalar `start` and `stop` are now supported.\n",
      "    \n",
      "    Parameters\n",
      "    ----------\n",
      "    start : array_like\n",
      "        The starting value of the sequence.\n",
      "    stop : array_like\n",
      "        The end value of the sequence, unless `endpoint` is set to False.\n",
      "        In that case, the sequence consists of all but the last of ``num + 1``\n",
      "        evenly spaced samples, so that `stop` is excluded.  Note that the step\n",
      "        size changes when `endpoint` is False.\n",
      "    num : int, optional\n",
      "        Number of samples to generate. Default is 50. Must be non-negative.\n",
      "    endpoint : bool, optional\n",
      "        If True, `stop` is the last sample. Otherwise, it is not included.\n",
      "        Default is True.\n",
      "    retstep : bool, optional\n",
      "        If True, return (`samples`, `step`), where `step` is the spacing\n",
      "        between samples.\n",
      "    dtype : dtype, optional\n",
      "        The type of the output array.  If `dtype` is not given, infer the data\n",
      "        type from the other input arguments.\n",
      "    \n",
      "        .. versionadded:: 1.9.0\n",
      "    \n",
      "    axis : int, optional\n",
      "        The axis in the result to store the samples.  Relevant only if start\n",
      "        or stop are array-like.  By default (0), the samples will be along a\n",
      "        new axis inserted at the beginning. Use -1 to get an axis at the end.\n",
      "    \n",
      "        .. versionadded:: 1.16.0\n",
      "    \n",
      "    Returns\n",
      "    -------\n",
      "    samples : ndarray\n",
      "        There are `num` equally spaced samples in the closed interval\n",
      "        ``[start, stop]`` or the half-open interval ``[start, stop)``\n",
      "        (depending on whether `endpoint` is True or False).\n",
      "    step : float, optional\n",
      "        Only returned if `retstep` is True\n",
      "    \n",
      "        Size of spacing between samples.\n",
      "    \n",
      "    \n",
      "    See Also\n",
      "    --------\n",
      "    arange : Similar to `linspace`, but uses a step size (instead of the\n",
      "             number of samples).\n",
      "    geomspace : Similar to `linspace`, but with numbers spaced evenly on a log\n",
      "                scale (a geometric progression).\n",
      "    logspace : Similar to `geomspace`, but with the end points specified as\n",
      "               logarithms.\n",
      "    \n",
      "    Examples\n",
      "    --------\n",
      "    >>> np.linspace(2.0, 3.0, num=5)\n",
      "    array([2.  , 2.25, 2.5 , 2.75, 3.  ])\n",
      "    >>> np.linspace(2.0, 3.0, num=5, endpoint=False)\n",
      "    array([2. ,  2.2,  2.4,  2.6,  2.8])\n",
      "    >>> np.linspace(2.0, 3.0, num=5, retstep=True)\n",
      "    (array([2.  ,  2.25,  2.5 ,  2.75,  3.  ]), 0.25)\n",
      "    \n",
      "    Graphical illustration:\n",
      "    \n",
      "    >>> import matplotlib.pyplot as plt\n",
      "    >>> N = 8\n",
      "    >>> y = np.zeros(N)\n",
      "    >>> x1 = np.linspace(0, 10, N, endpoint=True)\n",
      "    >>> x2 = np.linspace(0, 10, N, endpoint=False)\n",
      "    >>> plt.plot(x1, y, 'o')\n",
      "    [<matplotlib.lines.Line2D object at 0x...>]\n",
      "    >>> plt.plot(x2, y + 0.5, 'o')\n",
      "    [<matplotlib.lines.Line2D object at 0x...>]\n",
      "    >>> plt.ylim([-0.5, 1])\n",
      "    (-0.5, 1)\n",
      "    >>> plt.show()\n",
      "\n"
     ]
    }
   ],
   "source": [
    "# help de la función np.linspace\n",
    "help(np.linspace)"
   ]
  },
  {
   "cell_type": "markdown",
   "metadata": {},
   "source": [
    "Con lo anterior:"
   ]
  },
  {
   "cell_type": "code",
   "execution_count": 22,
   "metadata": {},
   "outputs": [
    {
     "data": {
      "text/plain": [
       "array([ 0.        ,  0.1010101 ,  0.2020202 ,  0.3030303 ,  0.4040404 ,\n",
       "        0.50505051,  0.60606061,  0.70707071,  0.80808081,  0.90909091,\n",
       "        1.01010101,  1.11111111,  1.21212121,  1.31313131,  1.41414141,\n",
       "        1.51515152,  1.61616162,  1.71717172,  1.81818182,  1.91919192,\n",
       "        2.02020202,  2.12121212,  2.22222222,  2.32323232,  2.42424242,\n",
       "        2.52525253,  2.62626263,  2.72727273,  2.82828283,  2.92929293,\n",
       "        3.03030303,  3.13131313,  3.23232323,  3.33333333,  3.43434343,\n",
       "        3.53535354,  3.63636364,  3.73737374,  3.83838384,  3.93939394,\n",
       "        4.04040404,  4.14141414,  4.24242424,  4.34343434,  4.44444444,\n",
       "        4.54545455,  4.64646465,  4.74747475,  4.84848485,  4.94949495,\n",
       "        5.05050505,  5.15151515,  5.25252525,  5.35353535,  5.45454545,\n",
       "        5.55555556,  5.65656566,  5.75757576,  5.85858586,  5.95959596,\n",
       "        6.06060606,  6.16161616,  6.26262626,  6.36363636,  6.46464646,\n",
       "        6.56565657,  6.66666667,  6.76767677,  6.86868687,  6.96969697,\n",
       "        7.07070707,  7.17171717,  7.27272727,  7.37373737,  7.47474747,\n",
       "        7.57575758,  7.67676768,  7.77777778,  7.87878788,  7.97979798,\n",
       "        8.08080808,  8.18181818,  8.28282828,  8.38383838,  8.48484848,\n",
       "        8.58585859,  8.68686869,  8.78787879,  8.88888889,  8.98989899,\n",
       "        9.09090909,  9.19191919,  9.29292929,  9.39393939,  9.49494949,\n",
       "        9.5959596 ,  9.6969697 ,  9.7979798 ,  9.8989899 , 10.        ])"
      ]
     },
     "execution_count": 22,
     "metadata": {},
     "output_type": "execute_result"
    }
   ],
   "source": [
    "# Crear un vector x que vaya desde 0 hasta 10\n",
    "x = np.linspace(0, 10, 100)\n",
    "x"
   ]
  },
  {
   "cell_type": "code",
   "execution_count": 23,
   "metadata": {},
   "outputs": [
    {
     "data": {
      "text/plain": [
       "100"
      ]
     },
     "execution_count": 23,
     "metadata": {},
     "output_type": "execute_result"
    }
   ],
   "source": [
    "len(x)"
   ]
  },
  {
   "cell_type": "code",
   "execution_count": 24,
   "metadata": {},
   "outputs": [],
   "source": [
    "# Evaluar las funciones sin y cos\n",
    "y1 = np.sin(x)\n",
    "y2 = np.cos(x)"
   ]
  },
  {
   "cell_type": "code",
   "execution_count": 25,
   "metadata": {},
   "outputs": [
    {
     "data": {
      "text/plain": [
       "[<matplotlib.lines.Line2D at 0x7f90cc8127d0>,\n",
       " <matplotlib.lines.Line2D at 0x7f90cc812a50>]"
      ]
     },
     "execution_count": 25,
     "metadata": {},
     "output_type": "execute_result"
    },
    {
     "data": {
      "image/png": "[encoded data removed]",
      "text/plain": [
       "<Figure size 432x288 with 1 Axes>"
      ]
     },
     "metadata": {
      "needs_background": "light"
     },
     "output_type": "display_data"
    }
   ],
   "source": [
    "# Graficar en un mismo gráfico\n",
    "plt.plot(x, y1, x, y2)"
   ]
  },
  {
   "cell_type": "markdown",
   "metadata": {},
   "source": [
    "¿Qué opciones son útiles?"
   ]
  },
  {
   "cell_type": "code",
   "execution_count": 26,
   "metadata": {},
   "outputs": [
    {
     "data": {
      "text/plain": [
       "Text(0, 0.5, '$y$')"
      ]
     },
     "execution_count": 26,
     "metadata": {},
     "output_type": "execute_result"
    },
    {
     "data": {
      "image/png": "[encoded data removed]",
      "text/plain": [
       "<Figure size 432x288 with 1 Axes>"
      ]
     },
     "metadata": {
      "needs_background": "light"
     },
     "output_type": "display_data"
    }
   ],
   "source": [
    "# plt.xlabel, plt.ylabel\n",
    "plt.plot(x, y1, x, y2)\n",
    "plt.xlabel(\"$x$\")\n",
    "plt.ylabel(\"$y$\")"
   ]
  },
  {
   "cell_type": "code",
   "execution_count": 36,
   "metadata": {},
   "outputs": [
    {
     "data": {
      "text/plain": [
       "<matplotlib.legend.Legend at 0x7f90cc2ce890>"
      ]
     },
     "execution_count": 36,
     "metadata": {},
     "output_type": "execute_result"
    },
    {
     "data": {
      "image/png": "[encoded data removed]",
      "text/plain": [
       "<Figure size 432x288 with 1 Axes>"
      ]
     },
     "metadata": {
      "needs_background": "light"
     },
     "output_type": "display_data"
    }
   ],
   "source": [
    "# plt.legend\n",
    "plt.plot(x, y1, label=\"$\\sin(x)$\")\n",
    "plt.plot(x, y2, label=\"$\\cos(x)$\")\n",
    "plt.xlabel(\"$x$\")\n",
    "plt.ylabel(\"$y$\")\n",
    "plt.legend(loc=\"upper left\", bbox_to_anchor=(1.05, 1))"
   ]
  },
  {
   "cell_type": "code",
   "execution_count": 56,
   "metadata": {},
   "outputs": [
    {
     "data": {
      "image/png": "[encoded data removed]",
      "text/plain": [
       "<Figure size 432x288 with 1 Axes>"
      ]
     },
     "metadata": {
      "needs_background": "light"
     },
     "output_type": "display_data"
    }
   ],
   "source": [
    "# plt.grid\n",
    "plt.plot(x, y1, color=(0.8, 0.1, 0.8), lw=3, label=\"$\\sin(x)$\")\n",
    "plt.plot(x, y2, \"r*\", ms=2, label=\"$\\cos(x)$\")\n",
    "plt.xlabel(\"$x$\")\n",
    "plt.ylabel(\"$y$\")\n",
    "plt.legend(loc=\"upper left\", bbox_to_anchor=(1.05, 1))\n",
    "plt.grid()"
   ]
  },
  {
   "cell_type": "code",
   "execution_count": null,
   "metadata": {},
   "outputs": [],
   "source": []
  },
  {
   "cell_type": "code",
   "execution_count": null,
   "metadata": {},
   "outputs": [],
   "source": []
  },
  {
   "cell_type": "markdown",
   "metadata": {},
   "source": [
    "Muy bien todo lo anterior. Sin embargo, a veces puede ser útil tener gráficos alineados, pero separados.\n",
    "\n",
    "Graficar las funciones seno y coseno en dos gráficos separados pero alineados verticalmente:"
   ]
  },
  {
   "cell_type": "code",
   "execution_count": 57,
   "metadata": {},
   "outputs": [
    {
     "data": {
      "image/png": "[encoded data removed]",
      "text/plain": [
       "<Figure size 432x288 with 2 Axes>"
      ]
     },
     "metadata": {
      "needs_background": "light"
     },
     "output_type": "display_data"
    }
   ],
   "source": [
    "plt.subplot(2, 1, 1)\n",
    "plt.plot(x, y1, color=(0.8, 0.1, 0.8), lw=3)\n",
    "plt.xlabel(\"$x$\")\n",
    "plt.ylabel(\"$y=\\sin(x)$\")\n",
    "plt.grid()\n",
    "plt.subplot(2, 1, 2)\n",
    "plt.plot(x, y2, \"r*\", ms=2)\n",
    "plt.xlabel(\"$x$\")\n",
    "plt.ylabel(\"$y=\\cos(x)$\")\n",
    "plt.grid()"
   ]
  },
  {
   "cell_type": "markdown",
   "metadata": {},
   "source": [
    "___\n",
    "# 2. Distintos gráficos para datos"
   ]
  },
  {
   "cell_type": "markdown",
   "metadata": {},
   "source": [
    "## 2.1 Reglas básicas de visualización\n",
    "\n",
    "Antes de empezar a revisar distintos tipos de gráficos, veremos algunas reglas básicas. Estas reglas nos ayudarán a realizar gráficos chidos e informativos, en lugar de gráficos confusos:\n",
    "\n",
    "1. El primer paso es escoger el tipo de gráfico apropiado. Si te decantas por varias opciones, podrías tratar de compararlos y elegir el que mejor se adapte a lo que quieres mostrar."
   ]
  },
  {
   "cell_type": "markdown",
   "metadata": {},
   "source": [
    "2. Cuando elegimos nuestro tipo de gráfico, una de las cosas más importantes es etiquetar nuestro ejes. Si no lo hacemos, la gráfica no será suficientemente informativa. \n",
    "\n",
    " - Si no hay ejes, podemos intentar revisar el código para ver de dónde vienen los datos, y si contamos con suerte, entenderemos el gráfico. Pero, ¿y si solo tenemos la imagen y no el código?, o peor aún, ¿qué tal si le mostramos este gráfico a un cliente que no tiene ni idea de como realizar gráficos en Python?"
   ]
  },
  {
   "cell_type": "markdown",
   "metadata": {},
   "source": [
    "3. Podemos añadir un título para hacer nuestra gráfica más informativa (opcional)."
   ]
  },
  {
   "cell_type": "markdown",
   "metadata": {},
   "source": [
    "4. Añadir etiquetas para diferentes líneas cuando sea necesario."
   ]
  },
  {
   "cell_type": "markdown",
   "metadata": {},
   "source": [
    "5. Añadir texto o una flecha para indicar puntos relevantes en los datos."
   ]
  },
  {
   "cell_type": "markdown",
   "metadata": {},
   "source": [
    "6. Siempre es bueno usar la creatividad con los tamaños, tipos y colores para hacer los gráficos de los datos más entretenidos e informativos."
   ]
  },
  {
   "cell_type": "markdown",
   "metadata": {},
   "source": [
    "## 2.2 Tipos de visualizaciones y ejemplos con matplotlib\n",
    "\n",
    "Existen muchos tipos de visualizaciones y gráficos. Algunos de los más famosos de ellos son: gráfico de línea, gráfico de dispersión de puntos, histograma, diagrama de bigotes, gráfico de barras, y gráfico de pastel.\n",
    "\n",
    "¿Cuál de todas ellas elegimos para una visualización correcta? Primero, tenemos que hacer un análisis exploratorio de datos. Una vez tengamos una idea de los datos, el tipo de los datos y algunas medidas estadísticas, será más facil elegir el tipo de gráfico correcto.\n",
    "\n",
    "Bueno, eso lo veremos después y se perfeccionarán a medida que avancen en sus materias de maestría."
   ]
  },
  {
   "cell_type": "markdown",
   "metadata": {},
   "source": [
    "Veremos cada uno de los tipos de gráfico con un ejemplo.\n",
    "\n",
    "### Gráfico de línea: \n",
    "\n",
    "Es el que ya vimos para hacer funciones. Es un tipo de gráfico que muestra información como una serie de puntos llamados `markers` y conectados por líneas rectas. En este tipo de gráfico, necesitamos que los datos estén ordenados en sus valores x.\n",
    "\n",
    "Suele ser usado para visualizar tendencias de variables sobre intervalos de tiempo (series de tiempo)."
   ]
  },
  {
   "cell_type": "code",
   "execution_count": 58,
   "metadata": {},
   "outputs": [],
   "source": [
    "# Datos de población en Bulgaria en el tiempo\n",
    "years = np.array([1983, 1984, 1985, 1986, 1987])\n",
    "total_populations = np.array([8939007, 8954518, 8960387, 8956741, 8943721])"
   ]
  },
  {
   "cell_type": "code",
   "execution_count": 78,
   "metadata": {},
   "outputs": [
    {
     "data": {
      "text/plain": [
       "Text(0, 0.5, 'Población de Bulgaria')"
      ]
     },
     "execution_count": 78,
     "metadata": {},
     "output_type": "execute_result"
    },
    {
     "data": {
      "image/png": "[encoded data removed]",
      "text/plain": [
       "<Figure size 432x288 with 1 Axes>"
      ]
     },
     "metadata": {
      "needs_background": "light"
     },
     "output_type": "display_data"
    }
   ],
   "source": [
    "# Gráfico de línea\n",
    "plt.figure(figsize=(6, 4))\n",
    "plt.plot(years, total_populations, '*')\n",
    "plt.xticks(years)\n",
    "plt.grid()\n",
    "plt.xlabel(\"Años\")\n",
    "plt.ylabel(\"Población de Bulgaria\")"
   ]
  },
  {
   "cell_type": "code",
   "execution_count": 61,
   "metadata": {},
   "outputs": [],
   "source": [
    "import pandas as pd"
   ]
  },
  {
   "cell_type": "code",
   "execution_count": 62,
   "metadata": {},
   "outputs": [],
   "source": [
    "tables = pd.read_html(\"https://en.wikipedia.org/wiki/Demographics_of_Bulgaria\")"
   ]
  },
  {
   "cell_type": "code",
   "execution_count": 69,
   "metadata": {},
   "outputs": [],
   "source": [
    "population = tables[9]"
   ]
  },
  {
   "cell_type": "code",
   "execution_count": 70,
   "metadata": {},
   "outputs": [],
   "source": [
    "population.rename(columns={\"Unnamed: 0\": \"Year\"}, inplace=True)"
   ]
  },
  {
   "cell_type": "code",
   "execution_count": 72,
   "metadata": {},
   "outputs": [],
   "source": [
    "population[\"Year\"] = population[\"Year\"].apply(lambda x: x[:4])"
   ]
  },
  {
   "cell_type": "code",
   "execution_count": 77,
   "metadata": {},
   "outputs": [
    {
     "data": {
      "text/plain": [
       "[<matplotlib.lines.Line2D at 0x7f90c44059d0>]"
      ]
     },
     "execution_count": 77,
     "metadata": {},
     "output_type": "execute_result"
    },
    {
     "data": {
      "image/png": "[encoded data removed]",
      "text/plain": [
       "<Figure size 432x288 with 1 Axes>"
      ]
     },
     "metadata": {
      "needs_background": "light"
     },
     "output_type": "display_data"
    }
   ],
   "source": [
    "plt.plot(\"Year\", \"Average population\", data=population.iloc[-20:])"
   ]
  },
  {
   "cell_type": "markdown",
   "metadata": {},
   "source": [
    "### Dispersión de puntos:\n",
    "\n",
    "Este tipo de gráfico muestra puntos individuales. No se conectan con líneas. Cada punto tiene su valor en `x` y su valor en `y`. \n",
    "\n",
    "Este tipo de gráfico suele ser útil para mostrar tendencias o correlaciones (comparando dos variables)."
   ]
  },
  {
   "cell_type": "code",
   "execution_count": 79,
   "metadata": {},
   "outputs": [],
   "source": [
    "# Datos de temperatura y de cantidad de helados vendidos\n",
    "temp = np.array([30, 32, 33, 28.5, 35, 29, 29])\n",
    "ice_creams_count = np.array([100, 115, 115, 75, 125, 79, 89])"
   ]
  },
  {
   "cell_type": "code",
   "execution_count": 82,
   "metadata": {},
   "outputs": [
    {
     "data": {
      "image/png": "[encoded data removed]",
      "text/plain": [
       "<Figure size 432x288 with 1 Axes>"
      ]
     },
     "metadata": {
      "needs_background": "light"
     },
     "output_type": "display_data"
    }
   ],
   "source": [
    "# Dispersión de puntos\n",
    "plt.figure(figsize=(6, 4))\n",
    "plt.scatter(temp, ice_creams_count)\n",
    "plt.xlabel(\"Temperatura [Celsius]\")\n",
    "plt.ylabel(\"Ventas de nieves\")\n",
    "plt.grid()"
   ]
  },
  {
   "cell_type": "code",
   "execution_count": 86,
   "metadata": {},
   "outputs": [],
   "source": [
    "from sklearn.linear_model import LinearRegression"
   ]
  },
  {
   "cell_type": "code",
   "execution_count": 90,
   "metadata": {},
   "outputs": [
    {
     "data": {
      "text/plain": [
       "array([[30. ],\n",
       "       [32. ],\n",
       "       [33. ],\n",
       "       [28.5],\n",
       "       [35. ],\n",
       "       [29. ],\n",
       "       [29. ]])"
      ]
     },
     "execution_count": 90,
     "metadata": {},
     "output_type": "execute_result"
    }
   ],
   "source": [
    "np.array([temp]).reshape(len(temp), 1)"
   ]
  },
  {
   "cell_type": "code",
   "execution_count": 91,
   "metadata": {},
   "outputs": [
    {
     "data": {
      "text/plain": [
       "LinearRegression(copy_X=True, fit_intercept=True, n_jobs=None, normalize=False)"
      ]
     },
     "execution_count": 91,
     "metadata": {},
     "output_type": "execute_result"
    }
   ],
   "source": [
    "model = LinearRegression()\n",
    "model.fit(np.array([temp]).reshape(len(temp), 1), ice_creams_count)"
   ]
  },
  {
   "cell_type": "code",
   "execution_count": 94,
   "metadata": {},
   "outputs": [
    {
     "data": {
      "text/plain": [
       "(array([7.49309665]), -132.0364891518737)"
      ]
     },
     "execution_count": 94,
     "metadata": {},
     "output_type": "execute_result"
    }
   ],
   "source": [
    "model.coef_, model.intercept_"
   ]
  },
  {
   "cell_type": "code",
   "execution_count": 95,
   "metadata": {},
   "outputs": [
    {
     "data": {
      "image/png": "[encoded data removed]",
      "text/plain": [
       "<Figure size 432x288 with 1 Axes>"
      ]
     },
     "metadata": {
      "needs_background": "light"
     },
     "output_type": "display_data"
    }
   ],
   "source": [
    "plt.figure(figsize=(6, 4))\n",
    "plt.scatter(temp, ice_creams_count)\n",
    "plt.plot(temp, model.predict(np.array([temp]).reshape(len(temp), 1)))\n",
    "plt.xlabel(\"Temperatura [Celsius]\")\n",
    "plt.ylabel(\"Ventas de nieves\")\n",
    "plt.grid()"
   ]
  },
  {
   "cell_type": "markdown",
   "metadata": {},
   "source": [
    "### Histograma: \n",
    "\n",
    "Es una representación precisa para distribuciones de datos numéricos.\n",
    "\n",
    "El algoritmo para crear un histograma consta de ciertos pasos:\n",
    "- Primero, se divide el rango total de valores en una serie de intervalos consecutivos y disjuntos (bins).\n",
    "- Segundo, se cuenta cuantos valores caen dentro de cada intervalo.\n",
    "- Se grafican las cantidades en cada intervalo."
   ]
  },
  {
   "cell_type": "code",
   "execution_count": 96,
   "metadata": {},
   "outputs": [],
   "source": [
    "# Números\n",
    "numbers = np.array([0.1, 0.5, 1, 1.5, 2, 4, 5.5, 6, 8, 9])"
   ]
  },
  {
   "cell_type": "code",
   "execution_count": 100,
   "metadata": {},
   "outputs": [
    {
     "data": {
      "text/plain": [
       "(array([4., 1., 1., 2., 2.]),\n",
       " array([0.1 , 1.88, 3.66, 5.44, 7.22, 9.  ]),\n",
       " <a list of 5 Patch objects>)"
      ]
     },
     "execution_count": 100,
     "metadata": {},
     "output_type": "execute_result"
    },
    {
     "data": {
      "image/png": "[encoded data removed]",
      "text/plain": [
       "<Figure size 432x288 with 1 Axes>"
      ]
     },
     "metadata": {
      "needs_background": "light"
     },
     "output_type": "display_data"
    }
   ],
   "source": [
    "# Histograma\n",
    "plt.hist(numbers, bins=5)"
   ]
  },
  {
   "cell_type": "code",
   "execution_count": 118,
   "metadata": {},
   "outputs": [],
   "source": [
    "data = np.random.normal(size=10000)"
   ]
  },
  {
   "cell_type": "code",
   "execution_count": 120,
   "metadata": {},
   "outputs": [
    {
     "data": {
      "image/png": "[encoded data removed]",
      "text/plain": [
       "<Figure size 432x288 with 1 Axes>"
      ]
     },
     "metadata": {
      "needs_background": "light"
     },
     "output_type": "display_data"
    }
   ],
   "source": [
    "plt.hist(data, bins=50);"
   ]
  },
  {
   "cell_type": "code",
   "execution_count": null,
   "metadata": {},
   "outputs": [],
   "source": []
  },
  {
   "cell_type": "code",
   "execution_count": 124,
   "metadata": {},
   "outputs": [
    {
     "data": {
      "text/plain": [
       "[<matplotlib.lines.Line2D at 0x7f90ba7a4f10>]"
      ]
     },
     "execution_count": 124,
     "metadata": {},
     "output_type": "execute_result"
    },
    {
     "data": {
      "image/png": "[encoded data removed]",
      "text/plain": [
       "<Figure size 432x288 with 1 Axes>"
      ]
     },
     "metadata": {
      "needs_background": "light"
     },
     "output_type": "display_data"
    }
   ],
   "source": [
    "# Ejemplo: histograma para una distribución normal\n",
    "plt.hist(data, bins=100, density=True);\n",
    "x = np.linspace(-3, 3)\n",
    "f = np.exp(-x**2 / 2) / (np.sqrt(2 * np.pi))\n",
    "plt.plot(x, f)"
   ]
  },
  {
   "cell_type": "code",
   "execution_count": null,
   "metadata": {},
   "outputs": [],
   "source": []
  },
  {
   "cell_type": "code",
   "execution_count": null,
   "metadata": {},
   "outputs": [],
   "source": []
  },
  {
   "cell_type": "code",
   "execution_count": null,
   "metadata": {},
   "outputs": [],
   "source": []
  },
  {
   "cell_type": "code",
   "execution_count": null,
   "metadata": {},
   "outputs": [],
   "source": []
  },
  {
   "cell_type": "markdown",
   "metadata": {},
   "source": [
    "### Diagrama de caja:\n",
    "\n",
    "Es otra manera de resumir la distribución de datos basado en cinco números: mínimo, primer cuartil, mediana, tercer cuartil, y máximo. Veamos qué son cada uno de ellos:"
   ]
  },
  {
   "cell_type": "markdown",
   "metadata": {},
   "source": [
    "- El mínimo y el máximo creo que todos entendemos que son."
   ]
  },
  {
   "cell_type": "markdown",
   "metadata": {},
   "source": [
    "- La mediana es el valor que separa la mitad de los datos con valor más alto de la mitad de los datos con valor más bajo. \n",
    "\n",
    " - Se calcula de la siguiente manera: ordena tus valores y encuentra el valor de en medio. En caso de que el número de valores sea par, tenemos dos números de en medio, y por tanto la mediana es el número obtenido por la suma de esos dos números dividida entre dos. Por ejemplo, si tenemos 1, 2, 5, 6, 8, 9, la mediana es (5 + 6) / 2 = 5,5."
   ]
  },
  {
   "cell_type": "markdown",
   "metadata": {},
   "source": [
    "- El primer cuartil es la mediana de los valores menores a la mediana. Por ejemplo, si tenemos los valores 1, 3, 4, 7, 8, 8, 9, el primer cuartil es la mediana de los valores 1, 3, 4, de manera que es 3."
   ]
  },
  {
   "cell_type": "markdown",
   "metadata": {},
   "source": [
    "- El tercer cuartil es la mediana de los valores mayores a la mediana. Por ejemplo, si tenemos los valores 1, 3, 4, 7, 8, 8, 9, el primer cuartil es la mediana de los valores 8, 8, 9, de manera que es 8."
   ]
  },
  {
   "cell_type": "markdown",
   "metadata": {},
   "source": [
    "- Otro estadístico que se grafica es el IQR (interquartile range). El IQR aproxima la cantidad de dispersión datos en el 50% de datos de en medio. La fórmula es tercer cuartil - primer cuartil."
   ]
  },
  {
   "cell_type": "markdown",
   "metadata": {},
   "source": [
    "- Este tipo de gráfico también nos permite identificar valores atípicos. Un valor atípico es aquel que yace fuera del patrón general de los datos. Se visualizan como círculos en el diagrama de bigote. Cuando tenemos valores atípicos, los valores mínimo y máximo se calculan sobre los valores que no son atípicos.\n",
    "\n",
    " - Hay varias maneras de identificar valores atípicos. Una regla común es decir que un valor es atípico si es menor a primer cuartil - 1.5 * IQR, o mayor a tercer cuartil + 1.5 * IQR."
   ]
  },
  {
   "cell_type": "markdown",
   "metadata": {},
   "source": [
    "Demasiada información, ¿no?\n",
    "\n",
    "Veamos un ejemplo."
   ]
  },
  {
   "cell_type": "code",
   "execution_count": 125,
   "metadata": {},
   "outputs": [],
   "source": [
    "# Valores\n",
    "values = np.array([1, 2, 5, 6, 6, 7, 7, 8, 8, 8, 9, 10, 21])"
   ]
  },
  {
   "cell_type": "code",
   "execution_count": 127,
   "metadata": {},
   "outputs": [
    {
     "data": {
      "image/png": "[encoded data removed]",
      "text/plain": [
       "<Figure size 432x288 with 1 Axes>"
      ]
     },
     "metadata": {
      "needs_background": "light"
     },
     "output_type": "display_data"
    }
   ],
   "source": [
    "# Diagrama de caja\n",
    "statistics = plt.boxplot(values)"
   ]
  },
  {
   "cell_type": "code",
   "execution_count": 130,
   "metadata": {},
   "outputs": [
    {
     "data": {
      "text/plain": [
       "7.0"
      ]
     },
     "execution_count": 130,
     "metadata": {},
     "output_type": "execute_result"
    }
   ],
   "source": [
    "np.median(values)"
   ]
  },
  {
   "cell_type": "code",
   "execution_count": 135,
   "metadata": {},
   "outputs": [
    {
     "data": {
      "text/plain": [
       "3.0"
      ]
     },
     "execution_count": 135,
     "metadata": {},
     "output_type": "execute_result"
    }
   ],
   "source": [
    "q25 = 5.5\n",
    "q75 = 8.5\n",
    "IQR = q75 - q25\n",
    "IQR"
   ]
  },
  {
   "cell_type": "code",
   "execution_count": 137,
   "metadata": {},
   "outputs": [
    {
     "data": {
      "text/plain": [
       "(13.0, 1.0)"
      ]
     },
     "execution_count": 137,
     "metadata": {},
     "output_type": "execute_result"
    }
   ],
   "source": [
    "q75 + 1.5 * IQR, q25 - 1.5 * IQR"
   ]
  },
  {
   "cell_type": "markdown",
   "metadata": {},
   "source": [
    "¿Qué identificamos?\n",
    "\n",
    "- La mediana es 7\n",
    "- El primer cuartil es 6\n",
    "- El tercer cuartil es 8\n",
    "- El IQR es 2"
   ]
  },
  {
   "cell_type": "markdown",
   "metadata": {},
   "source": [
    "### Diagrama de barras\n",
    "\n",
    "Muy útil para representar datos categóricos. Cada barra tiene una altura que corresponde al valor que representa.\n",
    "\n",
    "Es útil cuando queremos comparar diferentes categorías en cuanto a alguna métrica."
   ]
  },
  {
   "cell_type": "code",
   "execution_count": 139,
   "metadata": {},
   "outputs": [],
   "source": [
    "# Cantidad de búsquedas en google para lenguajes de programación en 2018\n",
    "# 100 representa el tráfico anual de búsquedas más alto\n",
    "labels = [\"Python\", \"Java\", \"JavaScript\", \"R\", \"C++\"]\n",
    "usage = np.array([60, 52, 42, 20, 15])"
   ]
  },
  {
   "cell_type": "code",
   "execution_count": 140,
   "metadata": {},
   "outputs": [
    {
     "data": {
      "text/plain": [
       "<BarContainer object of 5 artists>"
      ]
     },
     "execution_count": 140,
     "metadata": {},
     "output_type": "execute_result"
    },
    {
     "data": {
      "image/png": "[encoded data removed]",
      "text/plain": [
       "<Figure size 432x288 with 1 Axes>"
      ]
     },
     "metadata": {
      "needs_background": "light"
     },
     "output_type": "display_data"
    }
   ],
   "source": [
    "# Diagrama de barras\n",
    "plt.bar(labels, usage)"
   ]
  },
  {
   "cell_type": "markdown",
   "metadata": {},
   "source": [
    "### Dagrama de pastel:\n",
    "\n",
    "Es un gráfico circular, dividido en tajadas para mostrar la proporción numérica. Son ampliamente utilizados en el mundo de los negocios.\n",
    "\n",
    "Sin embargo, varios experos recomiendan evitarlos, argumentando que es difícil comparar las secciones de un diagrama de pastel. Por otra parte, es difícil comparar datos con distintos diagramas de pastel. En la mayoría de los casos, se pueden reemplazar por un diagrama de barras."
   ]
  },
  {
   "cell_type": "code",
   "execution_count": 141,
   "metadata": {},
   "outputs": [],
   "source": [
    "sizes = [25, 20, 45, 10]\n",
    "labels = [\"Cats\", \"Dogs\", \"Tigers\", \"Goats\"]"
   ]
  },
  {
   "cell_type": "code",
   "execution_count": 143,
   "metadata": {},
   "outputs": [
    {
     "name": "stdout",
     "output_type": "stream",
     "text": [
      "Help on function pie in module matplotlib.pyplot:\n",
      "\n",
      "pie(x, explode=None, labels=None, colors=None, autopct=None, pctdistance=0.6, shadow=False, labeldistance=1.1, startangle=None, radius=None, counterclock=True, wedgeprops=None, textprops=None, center=(0, 0), frame=False, rotatelabels=False, *, data=None)\n",
      "    Plot a pie chart.\n",
      "    \n",
      "    Make a pie chart of array *x*.  The fractional area of each wedge is\n",
      "    given by ``x/sum(x)``.  If ``sum(x) < 1``, then the values of *x* give\n",
      "    the fractional area directly and the array will not be normalized. The\n",
      "    resulting pie will have an empty wedge of size ``1 - sum(x)``.\n",
      "    \n",
      "    The wedges are plotted counterclockwise, by default starting from the\n",
      "    x-axis.\n",
      "    \n",
      "    Parameters\n",
      "    ----------\n",
      "    x : array-like\n",
      "        The wedge sizes.\n",
      "    \n",
      "    explode : array-like, optional, default: None\n",
      "        If not *None*, is a ``len(x)`` array which specifies the fraction\n",
      "        of the radius with which to offset each wedge.\n",
      "    \n",
      "    labels : list, optional, default: None\n",
      "        A sequence of strings providing the labels for each wedge\n",
      "    \n",
      "    colors : array-like, optional, default: None\n",
      "        A sequence of matplotlib color args through which the pie chart\n",
      "        will cycle.  If *None*, will use the colors in the currently\n",
      "        active cycle.\n",
      "    \n",
      "    autopct : None (default), string, or function, optional\n",
      "        If not *None*, is a string or function used to label the wedges\n",
      "        with their numeric value.  The label will be placed inside the\n",
      "        wedge.  If it is a format string, the label will be ``fmt%pct``.\n",
      "        If it is a function, it will be called.\n",
      "    \n",
      "    pctdistance : float, optional, default: 0.6\n",
      "        The ratio between the center of each pie slice and the start of\n",
      "        the text generated by *autopct*.  Ignored if *autopct* is *None*.\n",
      "    \n",
      "    shadow : bool, optional, default: False\n",
      "        Draw a shadow beneath the pie.\n",
      "    \n",
      "    labeldistance : float or None, optional, default: 1.1\n",
      "        The radial distance at which the pie labels are drawn.\n",
      "        If set to ``None``, label are not drawn, but are stored for use in\n",
      "        ``legend()``\n",
      "    \n",
      "    startangle : float, optional, default: None\n",
      "        If not *None*, rotates the start of the pie chart by *angle*\n",
      "        degrees counterclockwise from the x-axis.\n",
      "    \n",
      "    radius : float, optional, default: None\n",
      "        The radius of the pie, if *radius* is *None* it will be set to 1.\n",
      "    \n",
      "    counterclock : bool, optional, default: True\n",
      "        Specify fractions direction, clockwise or counterclockwise.\n",
      "    \n",
      "    wedgeprops : dict, optional, default: None\n",
      "        Dict of arguments passed to the wedge objects making the pie.\n",
      "        For example, you can pass in ``wedgeprops = {'linewidth': 3}``\n",
      "        to set the width of the wedge border lines equal to 3.\n",
      "        For more details, look at the doc/arguments of the wedge object.\n",
      "        By default ``clip_on=False``.\n",
      "    \n",
      "    textprops : dict, optional, default: None\n",
      "        Dict of arguments to pass to the text objects.\n",
      "    \n",
      "    center :  list of float, optional, default: (0, 0)\n",
      "        Center position of the chart. Takes value (0, 0) or is a sequence\n",
      "        of 2 scalars.\n",
      "    \n",
      "    frame : bool, optional, default: False\n",
      "        Plot axes frame with the chart if true.\n",
      "    \n",
      "    rotatelabels : bool, optional, default: False\n",
      "        Rotate each label to the angle of the corresponding slice if true.\n",
      "    \n",
      "    Returns\n",
      "    -------\n",
      "    patches : list\n",
      "        A sequence of :class:`matplotlib.patches.Wedge` instances\n",
      "    \n",
      "    texts : list\n",
      "        A list of the label :class:`matplotlib.text.Text` instances.\n",
      "    \n",
      "    autotexts : list\n",
      "        A list of :class:`~matplotlib.text.Text` instances for the numeric\n",
      "        labels. This will only be returned if the parameter *autopct* is\n",
      "        not *None*.\n",
      "    \n",
      "    Notes\n",
      "    -----\n",
      "    The pie chart will probably look best if the figure and axes are\n",
      "    square, or the Axes aspect is equal.\n",
      "    This method sets the aspect ratio of the axis to \"equal\".\n",
      "    The axes aspect ratio can be controlled with `Axes.set_aspect`.\n",
      "    \n",
      "    .. note::\n",
      "        In addition to the above described arguments, this function can take a\n",
      "        **data** keyword argument. If such a **data** argument is given, the\n",
      "        following arguments are replaced by **data[<arg>]**:\n",
      "    \n",
      "        * All arguments with the following names: 'colors', 'explode', 'labels', 'x'.\n",
      "    \n",
      "        Objects passed as **data** must support item access (``data[<arg>]``) and\n",
      "        membership test (``<arg> in data``).\n",
      "\n"
     ]
    }
   ],
   "source": [
    "help(plt.pie)"
   ]
  },
  {
   "cell_type": "code",
   "execution_count": 144,
   "metadata": {},
   "outputs": [
    {
     "data": {
      "text/plain": [
       "([<matplotlib.patches.Wedge at 0x7f90ba1b96d0>,\n",
       "  <matplotlib.patches.Wedge at 0x7f90ba1b9dd0>,\n",
       "  <matplotlib.patches.Wedge at 0x7f90ba198ad0>,\n",
       "  <matplotlib.patches.Wedge at 0x7f90ba198950>],\n",
       " [Text(0.7778174593052024, 0.7778174593052023, 'Cats'),\n",
       "  Text(-0.6465637858537404, 0.8899186877588754, 'Dogs'),\n",
       "  Text(-0.49938956806635254, -0.9801071672559598, 'Tigers'),\n",
       "  Text(1.0461621504206509, -0.3399187476842658, 'Goats')])"
      ]
     },
     "execution_count": 144,
     "metadata": {},
     "output_type": "execute_result"
    },
    {
     "data": {
      "image/png": "[encoded data removed]",
      "text/plain": [
       "<Figure size 432x288 with 1 Axes>"
      ]
     },
     "metadata": {},
     "output_type": "display_data"
    }
   ],
   "source": [
    "# Diagrama de pastel\n",
    "plt.pie(sizes, labels=labels)"
   ]
  },
  {
   "cell_type": "markdown",
   "metadata": {},
   "source": [
    "## Les recomiendo ampliamente este [tutorial](https://matplotlib.org/stable/tutorials/introductory/pyplot.html)\n",
    "\n",
    "## Quiz para el lunes.\n",
    "\n",
    "## Tarea 3 para el lunes."
   ]
  },
  {
   "cell_type": "markdown",
   "metadata": {},
   "source": [
    "<script>\n",
    "  $(document).ready(function(){\n",
    "    $('div.prompt').hide();\n",
    "    $('div.back-to-top').hide();\n",
    "    $('nav#menubar').hide();\n",
    "    $('.breadcrumb').hide();\n",
    "    $('.hidden-print').hide();\n",
    "  });\n",
    "</script>\n",
    "\n",
    "<footer id=\"attribution\" style=\"float:right; color:#808080; background:#fff;\">\n",
    "Created with Jupyter by Esteban Jiménez Rodríguez.\n",
    "</footer>"
   ]
  }
 ],
 "metadata": {
  "kernelspec": {
   "display_name": "Python 3",
   "language": "python",
   "name": "python3"
  },
  "language_info": {
   "codemirror_mode": {
    "name": "ipython",
    "version": 3
   },
   "file_extension": ".py",
   "mimetype": "text/x-python",
   "name": "python",
   "nbconvert_exporter": "python",
   "pygments_lexer": "ipython3",
   "version": "3.8.8"
  }
 },
 "nbformat": 4,
 "nbformat_minor": 2
}
