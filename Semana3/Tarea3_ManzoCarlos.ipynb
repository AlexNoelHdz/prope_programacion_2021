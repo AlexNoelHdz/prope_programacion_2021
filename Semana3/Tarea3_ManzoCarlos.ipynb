{
 "cells": [
  {
   "cell_type": "markdown",
   "metadata": {},
   "source": [
    "# Tarea 3: Clases 4 y 5\n",
    "\n",
    "<img style=\"float: right; margin: 0px 0px 15px 15px;\" src=\"https://upload.wikimedia.org/wikipedia/commons/1/1a/NumPy_logo.svg\" width=\"300px\" height=\"300px\" />\n",
    "\n",
    "Cada clase que veamos tendrá una tarea asignada, la cual contendrá problemas varios que se pueden resolver con lo visto en clase, de manera que puedas practicar lo que acabas de aprender.\n",
    "\n",
    "En esta ocasión, la tarea tendrá ejercicios relativos a la clases 4 y 5, de la librería NumPy y la librería Matplotlib.\n",
    "\n",
    "Para resolver la tarea, por favor cambiar el nombre del archivo a \"Tarea3_ApellidoNombre.ipynb\", sin acentos ni letras ñ (ejemplo: en mi caso, el archivo se llamaría \"Tarea3_JimenezEsteban.ipynb\"). Luego de haber cambiado el nombre, resolver cada uno de los puntos en los espacios provistos.\n",
    "\n",
    "Referencias:\n",
    "- http://www.math.pitt.edu/~sussmanm/3040Summer14/exercisesII.pdf\n",
    "- https://scipy-lectures.org/intro/numpy/exercises.html\n",
    "\n",
    "**Todos los ejercicios se pueden realizar sin usar ciclos `for` ni `while`**\n",
    "___"
   ]
  },
  {
   "cell_type": "markdown",
   "metadata": {},
   "source": [
    "## 1. Cuadrado mágico\n",
    "\n",
    "Un cuadrado mágico es una matriz cuadrada tal que las sumas de los elementos de cada una de sus filas, las sumas de los elementos de cada una de sus columnas y las sumas de los elementos de cada una de sus diagonales son iguales (hay dos diagonales: una desde el elemento superior izquierdo hasta el elemento inferior derecho, y otra desde el elemento superior derecho hasta el elemento inferior izquierdo).\n",
    "\n",
    "Muestre que la matriz A dada por:"
   ]
  },
  {
   "cell_type": "code",
   "execution_count": 2,
   "metadata": {},
   "outputs": [],
   "source": [
    "import numpy as np"
   ]
  },
  {
   "cell_type": "code",
   "execution_count": 3,
   "metadata": {},
   "outputs": [],
   "source": [
    "A = np.array([[17, 24,  1,  8, 15],\n",
    "              [23,  5,  7, 14, 16],\n",
    "              [ 4,  6, 13, 20, 22],\n",
    "              [10, 12, 19, 21,  3],\n",
    "              [11, 18, 25,  2,  9]])"
   ]
  },
  {
   "cell_type": "markdown",
   "metadata": {},
   "source": [
    "constituye un cuadrado mágico.\n",
    "\n",
    "Ayuda: las funciones `np.sum()`, `np.diag()` y `np.fliplr()` pueden ser de mucha utilidad"
   ]
  },
  {
   "cell_type": "code",
   "execution_count": 4,
   "metadata": {},
   "outputs": [
    {
     "name": "stdout",
     "output_type": "stream",
     "text": [
      "Sum rows:\n",
      "[65 65 65 65 65]\n"
     ]
    }
   ],
   "source": [
    "print(\"Sum rows:\")\n",
    "print(A.sum(axis = 0))"
   ]
  },
  {
   "cell_type": "code",
   "execution_count": 5,
   "metadata": {},
   "outputs": [
    {
     "name": "stdout",
     "output_type": "stream",
     "text": [
      "Sum columns:\n",
      "[65 65 65 65 65]\n"
     ]
    }
   ],
   "source": [
    "print(\"Sum columns:\")\n",
    "print(A.sum(axis = 1))"
   ]
  },
  {
   "cell_type": "code",
   "execution_count": 6,
   "metadata": {},
   "outputs": [
    {
     "name": "stdout",
     "output_type": "stream",
     "text": [
      "Sum diagonal 1 (R/L):\n",
      "65.0\n"
     ]
    }
   ],
   "source": [
    "B = np.eye(5)\n",
    "C = A * B\n",
    "\n",
    "print(\"Sum diagonal 1 (R/L):\")\n",
    "print(C.sum())"
   ]
  },
  {
   "cell_type": "code",
   "execution_count": 7,
   "metadata": {},
   "outputs": [
    {
     "name": "stdout",
     "output_type": "stream",
     "text": [
      "Sum diagonal 2 (L/R):\n",
      "65.0\n"
     ]
    }
   ],
   "source": [
    "D = np.fliplr(B)\n",
    "E = A * D\n",
    "\n",
    "print(\"Sum diagonal 2 (L/R):\")\n",
    "print(E.sum())"
   ]
  },
  {
   "cell_type": "markdown",
   "metadata": {},
   "source": [
    "## 2. ¿Qué más podemos hacer con NumPy?\n",
    "\n",
    "Este ejercicio es más que nada informativo, para ver qué más pueden hacer con la librería NumPy.\n",
    "\n",
    "Considere el siguiente vector:"
   ]
  },
  {
   "cell_type": "code",
   "execution_count": 8,
   "metadata": {},
   "outputs": [],
   "source": [
    "x = np.array([-1., 4., -9.])"
   ]
  },
  {
   "cell_type": "markdown",
   "metadata": {},
   "source": [
    "1. La función coseno (`np.cos()`) se aplica sobre cada uno de los elementos del vector. Calcular el vector `y = np.cos(np.pi/4*x)`"
   ]
  },
  {
   "cell_type": "code",
   "execution_count": 9,
   "metadata": {},
   "outputs": [
    {
     "name": "stdout",
     "output_type": "stream",
     "text": [
      "[ 0.70710678 -1.          0.70710678]\n"
     ]
    }
   ],
   "source": [
    "y = np.cos(np.pi/4*x)\n",
    "print(y)"
   ]
  },
  {
   "cell_type": "markdown",
   "metadata": {},
   "source": [
    "2. Puedes sumar vectores y multiplicarlos por escalares. Calcular el vector `z = x + 2*y`"
   ]
  },
  {
   "cell_type": "code",
   "execution_count": 10,
   "metadata": {},
   "outputs": [
    {
     "name": "stdout",
     "output_type": "stream",
     "text": [
      "[ 0.41421356  2.         -7.58578644]\n"
     ]
    }
   ],
   "source": [
    "z = x + 2*y\n",
    "print(z)"
   ]
  },
  {
   "cell_type": "markdown",
   "metadata": {},
   "source": [
    "3. También puedes calcular la norma de un vector. Investiga como y calcular la norma del vector x\n",
    "\n",
    "Ayuda: buscar en las funciones del paquete de algebra lineal de NumPy"
   ]
  },
  {
   "cell_type": "code",
   "execution_count": 11,
   "metadata": {},
   "outputs": [
    {
     "data": {
      "text/plain": [
       "9.899494936611665"
      ]
     },
     "execution_count": 11,
     "metadata": {},
     "output_type": "execute_result"
    }
   ],
   "source": [
    "np.linalg.norm(x)"
   ]
  },
  {
   "cell_type": "markdown",
   "metadata": {},
   "source": [
    "4. Utilizando la función `np.vstack()` formar una matriz `M` tal que la primera fila corresponda al vector `x`, la segunda al vector `y` y la tercera al vector `z`."
   ]
  },
  {
   "cell_type": "code",
   "execution_count": 12,
   "metadata": {},
   "outputs": [
    {
     "name": "stdout",
     "output_type": "stream",
     "text": [
      "[[-1.          4.         -9.        ]\n",
      " [ 0.70710678 -1.          0.70710678]\n",
      " [ 0.41421356  2.         -7.58578644]]\n"
     ]
    }
   ],
   "source": [
    "M = np.vstack((x,y,z))\n",
    "print(M)"
   ]
  },
  {
   "cell_type": "markdown",
   "metadata": {},
   "source": [
    "5. Calcule la transpuesta de la matriz `M`, el determinante de la matriz `M`, y la multiplicación matricial de la matriz `M` por el vector `x`."
   ]
  },
  {
   "cell_type": "code",
   "execution_count": 13,
   "metadata": {},
   "outputs": [
    {
     "data": {
      "text/plain": [
       "array([[-1.        ,  0.70710678,  0.41421356],\n",
       "       [ 4.        , -1.        ,  2.        ],\n",
       "       [-9.        ,  0.70710678, -7.58578644]])"
      ]
     },
     "execution_count": 13,
     "metadata": {},
     "output_type": "execute_result"
    }
   ],
   "source": [
    "M.transpose()"
   ]
  },
  {
   "cell_type": "code",
   "execution_count": 14,
   "metadata": {},
   "outputs": [
    {
     "data": {
      "text/plain": [
       "-4.0599237854847685e-15"
      ]
     },
     "execution_count": 14,
     "metadata": {},
     "output_type": "execute_result"
    }
   ],
   "source": [
    "np.linalg.det(M)"
   ]
  },
  {
   "cell_type": "code",
   "execution_count": 15,
   "metadata": {},
   "outputs": [
    {
     "data": {
      "text/plain": [
       "array([[ 1.        , 16.        , 81.        ],\n",
       "       [-0.70710678, -4.        , -6.36396103],\n",
       "       [-0.41421356,  8.        , 68.27207794]])"
      ]
     },
     "execution_count": 15,
     "metadata": {},
     "output_type": "execute_result"
    }
   ],
   "source": [
    "x * M"
   ]
  },
  {
   "cell_type": "markdown",
   "metadata": {},
   "source": [
    "## 3. Graficando funciones\n",
    "\n",
    "Generar un gráfico de las funciones $f(x)=e^{-x/10}\\sin(\\pi x)$ y $g(x)=x e^{-x/3}$ sobre el intervalo $[0, 10]$. Incluya las etiquetas de los ejes y una leyenda con las etiquetas de cada función."
   ]
  },
  {
   "cell_type": "code",
   "execution_count": 16,
   "metadata": {},
   "outputs": [],
   "source": [
    "import matplotlib.pyplot as plt"
   ]
  },
  {
   "cell_type": "code",
   "execution_count": 17,
   "metadata": {},
   "outputs": [],
   "source": [
    "x = np.arange(0, 10, 0.00005)\n",
    "f_x = np.exp(1)**(-x / 10) * np.sin(np.pi * x)\n",
    "g_x = x * np.exp(1)**(-x / 3)"
   ]
  },
  {
   "cell_type": "code",
   "execution_count": 18,
   "metadata": {},
   "outputs": [
    {
     "data": {
      "image/png": "[encoded data removed]",
      "text/plain": [
       "<Figure size 432x288 with 1 Axes>"
      ]
     },
     "metadata": {
      "needs_background": "light"
     },
     "output_type": "display_data"
    }
   ],
   "source": [
    "plt.plot(x, f_x, color = \"red\")\n",
    "plt.plot(x, g_x, color = \"green\")\n",
    "plt.xlabel(\"Eje x: [0 , 10]\")\n",
    "plt.ylabel(\"Eje y: f(x) & g(x)\")\n",
    "plt.legend((\"f(x) = \", \"g(x)\"));"
   ]
  },
  {
   "cell_type": "markdown",
   "metadata": {},
   "source": [
    "## 4. Analizando datos\n",
    "\n",
    "Los datos en el archivo `populations.txt` describen las poblaciones de liebres, linces (y zanahorias) en el norte de Canadá durante 20 años.\n",
    "\n",
    "Para poder analizar estos datos con NumPy es necesario importarlos. La siguiente celda importa los datos del archivo `populations.txt`, siempre y cuando el archivo y el notebook de jupyter estén en la misma ubicación:"
   ]
  },
  {
   "cell_type": "code",
   "execution_count": 19,
   "metadata": {},
   "outputs": [],
   "source": [
    "data = np.loadtxt('populations.txt')"
   ]
  },
  {
   "cell_type": "markdown",
   "metadata": {},
   "source": [
    "1. Obtener, usando la indización de NumPy, cuatro arreglos independientes llamados `años`, `liebres`, `linces` y `zanahorias`, correspondientes a los años, a la población de liebres, a la población de linces y a la cantidad de zanahorias, respectivamente."
   ]
  },
  {
   "cell_type": "code",
   "execution_count": 20,
   "metadata": {},
   "outputs": [
    {
     "data": {
      "text/plain": [
       "array([[ 1900., 30000.,  4000., 48300.],\n",
       "       [ 1901., 47200.,  6100., 48200.],\n",
       "       [ 1902., 70200.,  9800., 41500.],\n",
       "       [ 1903., 77400., 35200., 38200.],\n",
       "       [ 1904., 36300., 59400., 40600.],\n",
       "       [ 1905., 20600., 41700., 39800.],\n",
       "       [ 1906., 18100., 19000., 38600.],\n",
       "       [ 1907., 21400., 13000., 42300.],\n",
       "       [ 1908., 22000.,  8300., 44500.],\n",
       "       [ 1909., 25400.,  9100., 42100.],\n",
       "       [ 1910., 27100.,  7400., 46000.],\n",
       "       [ 1911., 40300.,  8000., 46800.],\n",
       "       [ 1912., 57000., 12300., 43800.],\n",
       "       [ 1913., 76600., 19500., 40900.],\n",
       "       [ 1914., 52300., 45700., 39400.],\n",
       "       [ 1915., 19500., 51100., 39000.],\n",
       "       [ 1916., 11200., 29700., 36700.],\n",
       "       [ 1917.,  7600., 15800., 41800.],\n",
       "       [ 1918., 14600.,  9700., 43300.],\n",
       "       [ 1919., 16200., 10100., 41300.],\n",
       "       [ 1920., 24700.,  8600., 47300.]])"
      ]
     },
     "execution_count": 20,
     "metadata": {},
     "output_type": "execute_result"
    }
   ],
   "source": [
    "data"
   ]
  },
  {
   "cell_type": "code",
   "execution_count": 21,
   "metadata": {},
   "outputs": [],
   "source": [
    "anios = data [:, 0]\n",
    "liebres = data[:, 1]\n",
    "linces = data[:, 2]\n",
    "zanahorias = data[:, 3]"
   ]
  },
  {
   "cell_type": "code",
   "execution_count": 22,
   "metadata": {},
   "outputs": [
    {
     "data": {
      "text/plain": [
       "array([1900., 1901., 1902., 1903., 1904., 1905., 1906., 1907., 1908.,\n",
       "       1909., 1910., 1911., 1912., 1913., 1914., 1915., 1916., 1917.,\n",
       "       1918., 1919., 1920.])"
      ]
     },
     "execution_count": 22,
     "metadata": {},
     "output_type": "execute_result"
    }
   ],
   "source": [
    "anios"
   ]
  },
  {
   "cell_type": "code",
   "execution_count": 23,
   "metadata": {},
   "outputs": [
    {
     "data": {
      "text/plain": [
       "array([30000., 47200., 70200., 77400., 36300., 20600., 18100., 21400.,\n",
       "       22000., 25400., 27100., 40300., 57000., 76600., 52300., 19500.,\n",
       "       11200.,  7600., 14600., 16200., 24700.])"
      ]
     },
     "execution_count": 23,
     "metadata": {},
     "output_type": "execute_result"
    }
   ],
   "source": [
    "liebres"
   ]
  },
  {
   "cell_type": "code",
   "execution_count": 24,
   "metadata": {},
   "outputs": [
    {
     "data": {
      "text/plain": [
       "array([ 4000.,  6100.,  9800., 35200., 59400., 41700., 19000., 13000.,\n",
       "        8300.,  9100.,  7400.,  8000., 12300., 19500., 45700., 51100.,\n",
       "       29700., 15800.,  9700., 10100.,  8600.])"
      ]
     },
     "execution_count": 24,
     "metadata": {},
     "output_type": "execute_result"
    }
   ],
   "source": [
    "linces"
   ]
  },
  {
   "cell_type": "code",
   "execution_count": 25,
   "metadata": {},
   "outputs": [
    {
     "data": {
      "text/plain": [
       "array([48300., 48200., 41500., 38200., 40600., 39800., 38600., 42300.,\n",
       "       44500., 42100., 46000., 46800., 43800., 40900., 39400., 39000.,\n",
       "       36700., 41800., 43300., 41300., 47300.])"
      ]
     },
     "execution_count": 25,
     "metadata": {},
     "output_type": "execute_result"
    }
   ],
   "source": [
    "zanahorias"
   ]
  },
  {
   "cell_type": "markdown",
   "metadata": {},
   "source": [
    "2. Calcular e imprimir los valores priomedio y las desviaciones estándar de las poblaciones de cada especie."
   ]
  },
  {
   "cell_type": "code",
   "execution_count": 26,
   "metadata": {},
   "outputs": [
    {
     "data": {
      "text/plain": [
       "(34080.95, 20897.91)"
      ]
     },
     "execution_count": 26,
     "metadata": {},
     "output_type": "execute_result"
    }
   ],
   "source": [
    "round(liebres.mean(),2), round(liebres.std(),2)"
   ]
  },
  {
   "cell_type": "code",
   "execution_count": 27,
   "metadata": {},
   "outputs": [
    {
     "data": {
      "text/plain": [
       "(20166.67, 16254.59)"
      ]
     },
     "execution_count": 27,
     "metadata": {},
     "output_type": "execute_result"
    }
   ],
   "source": [
    "round(linces.mean(),2), round(linces.std(),2)"
   ]
  },
  {
   "cell_type": "code",
   "execution_count": 28,
   "metadata": {},
   "outputs": [
    {
     "data": {
      "text/plain": [
       "(42400.0, 3322.51)"
      ]
     },
     "execution_count": 28,
     "metadata": {},
     "output_type": "execute_result"
    }
   ],
   "source": [
    "round(zanahorias.mean(),2), round(zanahorias.std(),2)"
   ]
  },
  {
   "cell_type": "markdown",
   "metadata": {},
   "source": [
    "3. ¿En qué año tuvo cada especie su población máxima?, y ¿cuál fue la población máxima de cada especie?"
   ]
  },
  {
   "cell_type": "code",
   "execution_count": 29,
   "metadata": {},
   "outputs": [
    {
     "data": {
      "text/plain": [
       "(77400.0, 1903.0)"
      ]
     },
     "execution_count": 29,
     "metadata": {},
     "output_type": "execute_result"
    }
   ],
   "source": [
    "liebres.max(), anios[liebres.argmax()]"
   ]
  },
  {
   "cell_type": "code",
   "execution_count": 30,
   "metadata": {},
   "outputs": [
    {
     "data": {
      "text/plain": [
       "(59400.0, 1904.0)"
      ]
     },
     "execution_count": 30,
     "metadata": {},
     "output_type": "execute_result"
    }
   ],
   "source": [
    "linces.max(), anios[linces.argmax()]"
   ]
  },
  {
   "cell_type": "code",
   "execution_count": 31,
   "metadata": {},
   "outputs": [
    {
     "data": {
      "text/plain": [
       "(48300.0, 1900.0)"
      ]
     },
     "execution_count": 31,
     "metadata": {},
     "output_type": "execute_result"
    }
   ],
   "source": [
    "zanahorias.max(), anios[zanahorias.argmax()]"
   ]
  },
  {
   "cell_type": "markdown",
   "metadata": {},
   "source": [
    "4. Graficar las poblaciones respecto al tiempo. Incluir en la gráfica los puntos de población máxima (resaltarlos con puntos grandes o de color, o con flechas y texto, o de alguna manera que se les ocurra). No olvidar etiquetar los ejes y poner una leyenda para etiquetar los diferentes objetos de la gráfica."
   ]
  },
  {
   "cell_type": "code",
   "execution_count": 32,
   "metadata": {},
   "outputs": [
    {
     "data": {
      "image/png": "[encoded data removed]",
      "text/plain": [
       "<Figure size 432x288 with 1 Axes>"
      ]
     },
     "metadata": {
      "needs_background": "light"
     },
     "output_type": "display_data"
    }
   ],
   "source": [
    "plt.plot(anios [3:4], liebres [3:4], '*',markersize = 16, label=\"máx. liebres\")\n",
    "plt.plot(anios, liebres, '#ff730a', label=\"liebres\")\n",
    "plt.plot(anios [4:5], linces [4:5], 'o',markersize = 16, label=\"máx. linces\")\n",
    "plt.plot(anios, linces, ':c', label=\"linces\")\n",
    "plt.plot(anios [0:1], zanahorias [0:1], '^',markersize = 16, label=\"máx. linces\")\n",
    "plt.plot(anios, zanahorias, '--r', label=\"zanahorias\")\n",
    "\n",
    "\n",
    "plt.xlabel(\"Años\")\n",
    "plt.ylabel(\"Población\")\n",
    "plt.legend(loc=\"upper left\", bbox_to_anchor=(1.05, 1));"
   ]
  },
  {
   "cell_type": "markdown",
   "metadata": {},
   "source": [
    "5. Graficar las distribuciones de las diferentes especies utilizando histogramas. Asegúrese de elegir parámetros adecuados de las gráficas."
   ]
  },
  {
   "cell_type": "code",
   "execution_count": 47,
   "metadata": {},
   "outputs": [
    {
     "data": {
      "image/png": "[encoded data removed]",
      "text/plain": [
       "<Figure size 432x288 with 1 Axes>"
      ]
     },
     "metadata": {
      "needs_background": "light"
     },
     "output_type": "display_data"
    }
   ],
   "source": [
    "plt.hist(liebres, bins=10)\n",
    "plt.xlabel('Liebres');"
   ]
  },
  {
   "cell_type": "code",
   "execution_count": 48,
   "metadata": {},
   "outputs": [
    {
     "data": {
      "image/png": "[encoded data removed]",
      "text/plain": [
       "<Figure size 432x288 with 1 Axes>"
      ]
     },
     "metadata": {
      "needs_background": "light"
     },
     "output_type": "display_data"
    }
   ],
   "source": [
    "plt.hist(linces, bins=5)\n",
    "plt.xlabel('Linces');"
   ]
  },
  {
   "cell_type": "code",
   "execution_count": 49,
   "metadata": {},
   "outputs": [
    {
     "data": {
      "image/png": "[encoded data removed]",
      "text/plain": [
       "<Figure size 432x288 with 1 Axes>"
      ]
     },
     "metadata": {
      "needs_background": "light"
     },
     "output_type": "display_data"
    }
   ],
   "source": [
    "plt.hist(zanahorias, bins=6)\n",
    "plt.xlabel('Zanahorias');"
   ]
  },
  {
   "cell_type": "markdown",
   "metadata": {},
   "source": [
    "6. Calcule el coeficiente de correlación de la población de linces y la población de liebres (ayuda: np.corrcoef). Por otra parte, mediante un gráfico de dispersión de puntos, grafique la población de linces vs. la población de liebres, ¿coincide la forma del gráfico con el coeficiente de correlación obtenido?"
   ]
  },
  {
   "cell_type": "code",
   "execution_count": 91,
   "metadata": {},
   "outputs": [
    {
     "data": {
      "text/plain": [
       "array([[1.        , 0.07189206],\n",
       "       [0.07189206, 1.        ]])"
      ]
     },
     "execution_count": 91,
     "metadata": {},
     "output_type": "execute_result"
    }
   ],
   "source": [
    "np.corrcoef(linces, liebres)"
   ]
  },
  {
   "cell_type": "code",
   "execution_count": 89,
   "metadata": {},
   "outputs": [
    {
     "data": {
      "text/plain": [
       "Text(0, 0.5, 'liebres')"
      ]
     },
     "execution_count": 89,
     "metadata": {},
     "output_type": "execute_result"
    },
    {
     "data": {
      "image/png": "[encoded data removed]",
      "text/plain": [
       "<Figure size 432x288 with 1 Axes>"
      ]
     },
     "metadata": {
      "needs_background": "light"
     },
     "output_type": "display_data"
    }
   ],
   "source": [
    "plt.scatter(linces,liebres,c='red')\n",
    "plt.xlabel(\"linces\")\n",
    "plt.ylabel(\"liebres\")"
   ]
  },
  {
   "cell_type": "code",
   "execution_count": 142,
   "metadata": {},
   "outputs": [
    {
     "data": {
      "text/plain": [
       "'Sí coincde el coeficiente de correlación obtenido. Realmente no hay correlación (al menos no lineal).'"
      ]
     },
     "execution_count": 142,
     "metadata": {},
     "output_type": "execute_result"
    }
   ],
   "source": [
    "\"Sí coincde el coeficiente de correlación obtenido. Realmente no hay correlación (al menos no lineal).\""
   ]
  },
  {
   "cell_type": "markdown",
   "metadata": {},
   "source": [
    "<script>\n",
    "  $(document).ready(function(){\n",
    "    $('div.prompt').hide();\n",
    "    $('div.back-to-top').hide();\n",
    "    $('nav#menubar').hide();\n",
    "    $('.breadcrumb').hide();\n",
    "    $('.hidden-print').hide();\n",
    "  });\n",
    "</script>\n",
    "\n",
    "<footer id=\"attribution\" style=\"float:right; color:#808080; background:#fff;\">\n",
    "Created with Jupyter by Esteban Jiménez Rodríguez.\n",
    "</footer>"
   ]
  }
 ],
 "metadata": {
  "kernelspec": {
   "display_name": "Python 3",
   "language": "python",
   "name": "python3"
  },
  "language_info": {
   "codemirror_mode": {
    "name": "ipython",
    "version": 3
   },
   "file_extension": ".py",
   "mimetype": "text/x-python",
   "name": "python",
   "nbconvert_exporter": "python",
   "pygments_lexer": "ipython3",
   "version": "3.8.8"
  }
 },
 "nbformat": 4,
 "nbformat_minor": 2
}
