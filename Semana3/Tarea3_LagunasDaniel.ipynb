{
 "cells": [
  {
   "cell_type": "markdown",
   "metadata": {},
   "source": [
    "# Tarea 3: Clases 4 y 5\n",
    "\n",
    "<img style=\"float: right; margin: 0px 0px 15px 15px;\" src=\"https://upload.wikimedia.org/wikipedia/commons/1/1a/NumPy_logo.svg\" width=\"300px\" height=\"300px\" />\n",
    "\n",
    "Cada clase que veamos tendrá una tarea asignada, la cual contendrá problemas varios que se pueden resolver con lo visto en clase, de manera que puedas practicar lo que acabas de aprender.\n",
    "\n",
    "En esta ocasión, la tarea tendrá ejercicios relativos a la clases 4 y 5, de la librería NumPy y la librería Matplotlib.\n",
    "\n",
    "Para resolver la tarea, por favor cambiar el nombre del archivo a \"Tarea3_ApellidoNombre.ipynb\", sin acentos ni letras ñ (ejemplo: en mi caso, el archivo se llamaría \"Tarea3_JimenezEsteban.ipynb\"). Luego de haber cambiado el nombre, resolver cada uno de los puntos en los espacios provistos.\n",
    "\n",
    "Referencias:\n",
    "- http://www.math.pitt.edu/~sussmanm/3040Summer14/exercisesII.pdf\n",
    "- https://scipy-lectures.org/intro/numpy/exercises.html\n",
    "\n",
    "**Todos los ejercicios se pueden realizar sin usar ciclos `for` ni `while`**\n",
    "___"
   ]
  },
  {
   "cell_type": "markdown",
   "metadata": {},
   "source": [
    "## 1. Cuadrado mágico\n",
    "\n",
    "Un cuadrado mágico es una matriz cuadrada tal que las sumas de los elementos de cada una de sus filas, las sumas de los elementos de cada una de sus columnas y las sumas de los elementos de cada una de sus diagonales son iguales (hay dos diagonales: una desde el elemento superior izquierdo hasta el elemento inferior derecho, y otra desde el elemento superior derecho hasta el elemento inferior izquierdo).\n",
    "\n",
    "Muestre que la matriz A dada por:"
   ]
  },
  {
   "cell_type": "code",
   "execution_count": 1,
   "metadata": {},
   "outputs": [],
   "source": [
    "import numpy as np"
   ]
  },
  {
   "cell_type": "code",
   "execution_count": 2,
   "metadata": {},
   "outputs": [],
   "source": [
    "A = np.array([[17, 24,  1,  8, 15],\n",
    "              [23,  5,  7, 14, 16],\n",
    "              [ 4,  6, 13, 20, 22],\n",
    "              [10, 12, 19, 21,  3],\n",
    "              [11, 18, 25,  2,  9]])"
   ]
  },
  {
   "cell_type": "markdown",
   "metadata": {},
   "source": [
    "constituye un cuadrado mágico.\n",
    "\n",
    "Ayuda: las funciones `np.sum()`, `np.diag()` y `np.fliplr()` pueden ser de mucha utilidad"
   ]
  },
  {
   "cell_type": "code",
   "execution_count": 3,
   "metadata": {},
   "outputs": [
    {
     "name": "stdout",
     "output_type": "stream",
     "text": [
      "La primer diagonal es [17  5 13 21  9] y suma = 65\n"
     ]
    }
   ],
   "source": [
    "print(f\"La primer diagonal es {np.diag(A)} y suma = {np.diag(A).sum()}\")"
   ]
  },
  {
   "cell_type": "code",
   "execution_count": 4,
   "metadata": {},
   "outputs": [
    {
     "name": "stdout",
     "output_type": "stream",
     "text": [
      "La segunda diagonal es [15 14 13 12 11] y suma = 65\n"
     ]
    }
   ],
   "source": [
    "print(f\"La segunda diagonal es {np.diag(np.fliplr(A))} y suma = {np.diag(np.fliplr(A)).sum()}\")"
   ]
  },
  {
   "cell_type": "code",
   "execution_count": 5,
   "metadata": {},
   "outputs": [
    {
     "name": "stdout",
     "output_type": "stream",
     "text": [
      "La suma de la columna 1: [17 23  4 10 11] es = 65\n",
      "La suma de la columna 2: [24  5  6 12 18] es = 65\n",
      "La suma de la columna 3: [ 1  7 13 19 25] es = 65\n",
      "La suma de la columna 4: [ 8 14 20 21  2] es = 65\n",
      "La suma de la columna 5: [15 16 22  3  9] es = 65\n"
     ]
    }
   ],
   "source": [
    "i, j = np.shape(A)\n",
    "for col in range(j):\n",
    "    print(f\"La suma de la columna {col + 1}: {A[:, col]} es = {np.sum(A[:, col])}\")"
   ]
  },
  {
   "cell_type": "code",
   "execution_count": 6,
   "metadata": {},
   "outputs": [
    {
     "name": "stdout",
     "output_type": "stream",
     "text": [
      "La suma de la fila 1: [17 24  1  8 15] es = 65\n",
      "La suma de la fila 2: [23  5  7 14 16] es = 65\n",
      "La suma de la fila 3: [ 4  6 13 20 22] es = 65\n",
      "La suma de la fila 4: [10 12 19 21  3] es = 65\n",
      "La suma de la fila 5: [11 18 25  2  9] es = 65\n"
     ]
    }
   ],
   "source": [
    "for fila in range(i):\n",
    "    print(f\"La suma de la fila {fila + 1}: {A[fila, :]} es = {np.sum(A[fila, :])}\")"
   ]
  },
  {
   "cell_type": "code",
   "execution_count": 7,
   "metadata": {},
   "outputs": [],
   "source": [
    "# Función que arroja si es un cuadrado mágico o no.\n",
    "def cuadrado_magico(M):\n",
    "    sumas = []\n",
    "    \n",
    "    sumas.append(np.diag(M).sum())\n",
    "    print(f\"La primer diagonal es {np.diag(M)} y suma = {np.diag(M).sum()}\")\n",
    "    \n",
    "    sumas.append(np.diag(np.fliplr(M)).sum())\n",
    "    print(f\"La segunda diagonal es {np.diag(np.fliplr(M))} y suma = {np.diag(np.fliplr(M)).sum()}\")\n",
    "    \n",
    "    i, j = np.shape(M)\n",
    "    for col in range(j):\n",
    "        print(f\"La suma de la columna {col + 1}: {M[:, col]} es = {np.sum(M[:, col])}\")\n",
    "        sumas.append(np.sum(M[:, col]))\n",
    "        \n",
    "    for fila in range(i):\n",
    "        print(f\"La suma de la fila {fila + 1}: {M[fila, :]} es = {np.sum(M[fila, :])}\")\n",
    "        sumas.append(np.sum(M[fila, :]))\n",
    "    \n",
    "    resultado = True\n",
    "    for i in range(1,len(sumas)):\n",
    "        resultado *= bool(sumas[0]==sumas[i])\n",
    "    \n",
    "    return bool(resultado)"
   ]
  },
  {
   "cell_type": "code",
   "execution_count": 8,
   "metadata": {},
   "outputs": [
    {
     "name": "stdout",
     "output_type": "stream",
     "text": [
      "La primer diagonal es [17  5 13 21  9] y suma = 65\n",
      "La segunda diagonal es [15 14 13 12 11] y suma = 65\n",
      "La suma de la columna 1: [17 23  4 10 11] es = 65\n",
      "La suma de la columna 2: [24  5  6 12 18] es = 65\n",
      "La suma de la columna 3: [ 1  7 13 19 25] es = 65\n",
      "La suma de la columna 4: [ 8 14 20 21  2] es = 65\n",
      "La suma de la columna 5: [15 16 22  3  9] es = 65\n",
      "La suma de la fila 1: [17 24  1  8 15] es = 65\n",
      "La suma de la fila 2: [23  5  7 14 16] es = 65\n",
      "La suma de la fila 3: [ 4  6 13 20 22] es = 65\n",
      "La suma de la fila 4: [10 12 19 21  3] es = 65\n",
      "La suma de la fila 5: [11 18 25  2  9] es = 65\n"
     ]
    },
    {
     "data": {
      "text/plain": [
       "True"
      ]
     },
     "execution_count": 8,
     "metadata": {},
     "output_type": "execute_result"
    }
   ],
   "source": [
    "cuadrado_magico(A)"
   ]
  },
  {
   "cell_type": "markdown",
   "metadata": {},
   "source": [
    "## 2. ¿Qué más podemos hacer con NumPy?\n",
    "\n",
    "Este ejercicio es más que nada informativo, para ver qué más pueden hacer con la librería NumPy.\n",
    "\n",
    "Considere el siguiente vector:"
   ]
  },
  {
   "cell_type": "code",
   "execution_count": 9,
   "metadata": {},
   "outputs": [],
   "source": [
    "x = np.array([-1., 4., -9.])"
   ]
  },
  {
   "cell_type": "markdown",
   "metadata": {},
   "source": [
    "1. La función coseno (`np.cos()`) se aplica sobre cada uno de los elementos del vector. Calcular el vector `y = np.cos(np.pi/4*x)`"
   ]
  },
  {
   "cell_type": "code",
   "execution_count": 10,
   "metadata": {},
   "outputs": [
    {
     "data": {
      "text/plain": [
       "array([ 0.70710678, -1.        ,  0.70710678])"
      ]
     },
     "execution_count": 10,
     "metadata": {},
     "output_type": "execute_result"
    }
   ],
   "source": [
    "y = np.cos(np.pi / 4 * x)\n",
    "y"
   ]
  },
  {
   "cell_type": "markdown",
   "metadata": {},
   "source": [
    "2. Puedes sumar vectores y multiplicarlos por escalares. Calcular el vector `z = x + 2*y`"
   ]
  },
  {
   "cell_type": "code",
   "execution_count": 11,
   "metadata": {},
   "outputs": [
    {
     "data": {
      "text/plain": [
       "array([ 0.41421356,  2.        , -7.58578644])"
      ]
     },
     "execution_count": 11,
     "metadata": {},
     "output_type": "execute_result"
    }
   ],
   "source": [
    "z = x + (2 * y)\n",
    "z"
   ]
  },
  {
   "cell_type": "markdown",
   "metadata": {},
   "source": [
    "3. También puedes calcular la norma de un vector. Investiga como y calcular la norma del vector x\n",
    "\n",
    "Ayuda: buscar en las funciones del paquete de algebra lineal de NumPy"
   ]
  },
  {
   "cell_type": "code",
   "execution_count": 12,
   "metadata": {},
   "outputs": [
    {
     "data": {
      "text/plain": [
       "9.899494936611665"
      ]
     },
     "execution_count": 12,
     "metadata": {},
     "output_type": "execute_result"
    }
   ],
   "source": [
    "norma_x = np.linalg.norm(x)\n",
    "norma_x"
   ]
  },
  {
   "cell_type": "markdown",
   "metadata": {},
   "source": [
    "4. Utilizando la función `np.vstack()` formar una matriz `M` tal que la primera fila corresponda al vector `x`, la segunda al vector `y` y la tercera al vector `z`."
   ]
  },
  {
   "cell_type": "code",
   "execution_count": 13,
   "metadata": {},
   "outputs": [
    {
     "data": {
      "text/plain": [
       "array([[-1.        ,  4.        , -9.        ],\n",
       "       [ 0.70710678, -1.        ,  0.70710678],\n",
       "       [ 0.41421356,  2.        , -7.58578644]])"
      ]
     },
     "execution_count": 13,
     "metadata": {},
     "output_type": "execute_result"
    }
   ],
   "source": [
    "M = np.vstack((x, y, z))\n",
    "M"
   ]
  },
  {
   "cell_type": "markdown",
   "metadata": {},
   "source": [
    "5. Calcule la transpuesta de la matriz `M`, el determinante de la matriz `M`, y la multiplicación matricial de la matriz `M` por el vector `x`."
   ]
  },
  {
   "cell_type": "code",
   "execution_count": 14,
   "metadata": {},
   "outputs": [
    {
     "data": {
      "text/plain": [
       "array([[-1.        ,  0.70710678,  0.41421356],\n",
       "       [ 4.        , -1.        ,  2.        ],\n",
       "       [-9.        ,  0.70710678, -7.58578644]])"
      ]
     },
     "execution_count": 14,
     "metadata": {},
     "output_type": "execute_result"
    }
   ],
   "source": [
    "M_t = np.transpose(M)\n",
    "M_t"
   ]
  },
  {
   "cell_type": "code",
   "execution_count": 15,
   "metadata": {},
   "outputs": [
    {
     "data": {
      "text/plain": [
       "-3.247939028387818e-15"
      ]
     },
     "execution_count": 15,
     "metadata": {},
     "output_type": "execute_result"
    }
   ],
   "source": [
    "det_M = np.linalg.det(M)\n",
    "det_M"
   ]
  },
  {
   "cell_type": "code",
   "execution_count": 16,
   "metadata": {},
   "outputs": [
    {
     "data": {
      "text/plain": [
       "array([ 98.        , -11.07106781,  75.85786438])"
      ]
     },
     "execution_count": 16,
     "metadata": {},
     "output_type": "execute_result"
    }
   ],
   "source": [
    "Mx = np.dot(M, x)\n",
    "Mx"
   ]
  },
  {
   "cell_type": "markdown",
   "metadata": {},
   "source": [
    "## 3. Graficando funciones\n",
    "\n",
    "Generar un gráfico de las funciones $f(x)=e^{-x/10}\\sin(\\pi x)$ y $g(x)=x e^{-x/3}$ sobre el intervalo $[0, 10]$. Incluya las etiquetas de los ejes y una leyenda con las etiquetas de cada función."
   ]
  },
  {
   "cell_type": "code",
   "execution_count": 17,
   "metadata": {},
   "outputs": [
    {
     "data": {
      "image/png": "[encoded data removed]",
      "text/plain": [
       "<Figure size 720x360 with 1 Axes>"
      ]
     },
     "metadata": {
      "needs_background": "light"
     },
     "output_type": "display_data"
    }
   ],
   "source": [
    "# Importamos la librería\n",
    "import matplotlib.pyplot as plt\n",
    "import numpy as np\n",
    "\n",
    "# Definimos las funciones\n",
    "def f(x):\n",
    "    return np.exp(-x / 10) * np.sin(np.pi * x)\n",
    "\n",
    "def g(x):\n",
    "    return x * np.exp(-x / 3)\n",
    "\n",
    "# Intervalo\n",
    "x = np.arange(0, 10.001, 0.001)\n",
    "\n",
    "# Graficar funciones\n",
    "plt.figure(figsize=(10, 5))\n",
    "plt.plot(x, [f(i) for i in x], linestyle = '--', linewidth = 2, label = '$f(x)=e^{-x/10}\\sin(\\pi x)$')\n",
    "plt.plot(x, [g(i) for i in x], linestyle = ':', linewidth = 3, label = '$g(x)=x e^{-x/3}$')\n",
    "plt.xlabel('Eje de las x')\n",
    "plt.ylabel('Eje de las y')\n",
    "plt.legend(loc = 'best')\n",
    "plt.title('Gráfica con 2 funciones')\n",
    "\n",
    "# Mostrar gráfica\n",
    "plt.show()"
   ]
  },
  {
   "cell_type": "markdown",
   "metadata": {},
   "source": [
    "## 4. Analizando datos\n",
    "\n",
    "Los datos en el archivo `populations.txt` describen las poblaciones de liebres, linces (y zanahorias) en el norte de Canadá durante 20 años.\n",
    "\n",
    "Para poder analizar estos datos con NumPy es necesario importarlos. La siguiente celda importa los datos del archivo `populations.txt`, siempre y cuando el archivo y el notebook de jupyter estén en la misma ubicación:"
   ]
  },
  {
   "cell_type": "code",
   "execution_count": 18,
   "metadata": {},
   "outputs": [
    {
     "data": {
      "text/plain": [
       "array([[ 1900., 30000.,  4000., 48300.],\n",
       "       [ 1901., 47200.,  6100., 48200.],\n",
       "       [ 1902., 70200.,  9800., 41500.],\n",
       "       [ 1903., 77400., 35200., 38200.],\n",
       "       [ 1904., 36300., 59400., 40600.],\n",
       "       [ 1905., 20600., 41700., 39800.],\n",
       "       [ 1906., 18100., 19000., 38600.],\n",
       "       [ 1907., 21400., 13000., 42300.],\n",
       "       [ 1908., 22000.,  8300., 44500.],\n",
       "       [ 1909., 25400.,  9100., 42100.],\n",
       "       [ 1910., 27100.,  7400., 46000.],\n",
       "       [ 1911., 40300.,  8000., 46800.],\n",
       "       [ 1912., 57000., 12300., 43800.],\n",
       "       [ 1913., 76600., 19500., 40900.],\n",
       "       [ 1914., 52300., 45700., 39400.],\n",
       "       [ 1915., 19500., 51100., 39000.],\n",
       "       [ 1916., 11200., 29700., 36700.],\n",
       "       [ 1917.,  7600., 15800., 41800.],\n",
       "       [ 1918., 14600.,  9700., 43300.],\n",
       "       [ 1919., 16200., 10100., 41300.],\n",
       "       [ 1920., 24700.,  8600., 47300.]])"
      ]
     },
     "execution_count": 18,
     "metadata": {},
     "output_type": "execute_result"
    }
   ],
   "source": [
    "data = np.loadtxt('populations.txt')\n",
    "titulos = ['años', 'liebres', 'linces', 'zanahorias']\n",
    "data"
   ]
  },
  {
   "cell_type": "markdown",
   "metadata": {},
   "source": [
    "1. Obtener, usando la indización de NumPy, cuatro arreglos independientes llamados `años`, `liebres`, `linces` y `zanahorias`, correspondientes a los años, a la población de liebres, a la población de linces y a la cantidad de zanahorias, respectivamente."
   ]
  },
  {
   "cell_type": "code",
   "execution_count": 19,
   "metadata": {},
   "outputs": [],
   "source": [
    "años = data[:, 0]\n",
    "liebres = data[:, 1]\n",
    "linces = data[:, 2]\n",
    "zanahorias = data[:, 3]"
   ]
  },
  {
   "cell_type": "code",
   "execution_count": 20,
   "metadata": {},
   "outputs": [
    {
     "name": "stdout",
     "output_type": "stream",
     "text": [
      "Años: [1900. 1901. 1902. 1903. 1904. 1905. 1906. 1907. 1908. 1909. 1910. 1911.\n",
      " 1912. 1913. 1914. 1915. 1916. 1917. 1918. 1919. 1920.]\n",
      "\n",
      "Liebres: [30000. 47200. 70200. 77400. 36300. 20600. 18100. 21400. 22000. 25400.\n",
      " 27100. 40300. 57000. 76600. 52300. 19500. 11200.  7600. 14600. 16200.\n",
      " 24700.]\n",
      "\n",
      "Linces: [ 4000.  6100.  9800. 35200. 59400. 41700. 19000. 13000.  8300.  9100.\n",
      "  7400.  8000. 12300. 19500. 45700. 51100. 29700. 15800.  9700. 10100.\n",
      "  8600.]\n",
      "\n",
      "Zanahorias: [48300. 48200. 41500. 38200. 40600. 39800. 38600. 42300. 44500. 42100.\n",
      " 46000. 46800. 43800. 40900. 39400. 39000. 36700. 41800. 43300. 41300.\n",
      " 47300.]\n"
     ]
    }
   ],
   "source": [
    "print(f'Años: {años}\\n\\nLiebres: {liebres}\\n\\nLinces: {linces}\\n\\nZanahorias: {zanahorias}')"
   ]
  },
  {
   "cell_type": "markdown",
   "metadata": {},
   "source": [
    "2. Calcular e imprimir los valores priomedio y las desviaciones estándar de las poblaciones de cada especie."
   ]
  },
  {
   "cell_type": "code",
   "execution_count": 21,
   "metadata": {},
   "outputs": [
    {
     "name": "stdout",
     "output_type": "stream",
     "text": [
      "Para liebres el promedio es: 34080.9524 y su desviación estándar: 20897.9065\n",
      "Para linces el promedio es: 20166.6667 y su desviación estándar: 16254.5915\n"
     ]
    }
   ],
   "source": [
    "for i in range(1,3):\n",
    "    promedio = round(np.mean(data[:, i]), 4)\n",
    "    des_vest = round(np.std(data[:, i]), 4)\n",
    "    print(f'Para {titulos[i]} el promedio es: {promedio} y su desviación estándar: {des_vest}')"
   ]
  },
  {
   "cell_type": "markdown",
   "metadata": {},
   "source": [
    "3. ¿En qué año tuvo cada especie su población máxima?, y ¿cuál fue la población máxima de cada especie?"
   ]
  },
  {
   "cell_type": "code",
   "execution_count": 22,
   "metadata": {},
   "outputs": [
    {
     "name": "stdout",
     "output_type": "stream",
     "text": [
      "Para liebres la población máxima fue: 77400.0 en el año: 1903\n",
      "Para linces la población máxima fue: 59400.0 en el año: 1904\n"
     ]
    }
   ],
   "source": [
    "for i in range(1,3):\n",
    "    pob_max = np.max(data[:, i])\n",
    "    year_pob_max = int(data[np.where(data[:, i] == pob_max), 0])\n",
    "    print(f'Para {titulos[i]} la población máxima fue: {pob_max} en el año: {year_pob_max}')"
   ]
  },
  {
   "cell_type": "markdown",
   "metadata": {},
   "source": [
    "4. Graficar las poblaciones respecto al tiempo. Incluir en la gráfica los puntos de población máxima (resaltarlos con puntos grandes o de color, o con flechas y texto, o de alguna manera que se les ocurra). No olvidar etiquetar los ejes y poner una leyenda para etiquetar los diferentes objetos de la gráfica."
   ]
  },
  {
   "cell_type": "code",
   "execution_count": 23,
   "metadata": {},
   "outputs": [
    {
     "data": {
      "image/png": "[encoded data removed]",
      "text/plain": [
       "<Figure size 864x360 with 1 Axes>"
      ]
     },
     "metadata": {
      "needs_background": "light"
     },
     "output_type": "display_data"
    }
   ],
   "source": [
    "# Importamos la librería\n",
    "import matplotlib.pyplot as plt\n",
    "\n",
    "# Graficar datos\n",
    "plt.figure(figsize=(12, 5))\n",
    "\n",
    "for i in range(1,len(data[0])-1):  \n",
    "    max_p = np.max(data[:, i])\n",
    "    a_mp = data[np.where(data[:, i] == max_p), 0]\n",
    "    \n",
    "    plt.plot(data[:, 0], data[:, i], label = titulos[i])\n",
    "    plt.plot(a_mp, max_p, marker = 'D', markersize = 5, color = 'k')\n",
    "    plt.text(x = a_mp*1.0001, y = max_p*1.015, s = f'máximo {titulos[i]}')\n",
    "    \n",
    "plt.xlabel('Años')\n",
    "plt.ylabel('Población')\n",
    "plt.legend(loc = 'best')\n",
    "plt.title('Poblaciones anuales')\n",
    "    \n",
    "plt.tight_layout()\n",
    "\n",
    "# Mostrar gráfica\n",
    "plt.show()"
   ]
  },
  {
   "cell_type": "markdown",
   "metadata": {},
   "source": [
    "5. Graficar las distribuciones de las diferentes especies utilizando histogramas. Asegúrese de elegir parámetros adecuados de las gráficas."
   ]
  },
  {
   "cell_type": "code",
   "execution_count": 24,
   "metadata": {},
   "outputs": [
    {
     "data": {
      "image/png": "[encoded data removed]",
      "text/plain": [
       "<Figure size 720x288 with 2 Axes>"
      ]
     },
     "metadata": {
      "needs_background": "light"
     },
     "output_type": "display_data"
    }
   ],
   "source": [
    "# Graficar datos\n",
    "plt.figure(figsize=(10, 4))\n",
    "\n",
    "for i in range(1,len(data[0])-1):\n",
    "        \n",
    "    plt.subplot(1, 2, i)\n",
    "    plt.hist(x = data[:, i], label = titulos[i])\n",
    "    \n",
    "    plt.xlabel('Población')\n",
    "    plt.ylabel('Frecuencia')\n",
    "    plt.legend(loc = 'best')\n",
    "    plt.title(f'Histograma de la población de {titulos[i]}')\n",
    "    \n",
    "plt.tight_layout()\n",
    "\n",
    "# Mostrar gráfica\n",
    "plt.show()"
   ]
  },
  {
   "cell_type": "markdown",
   "metadata": {},
   "source": [
    "6. Calcule el coeficiente de correlación de la población de linces y la población de liebres (ayuda: np.corrcoef). Por otra parte, mediante un gráfico de dispersión de puntos, grafique la población de linces vs. la población de liebres, ¿coincide la forma del gráfico con el coeficiente de correlación obtenido?"
   ]
  },
  {
   "cell_type": "code",
   "execution_count": 25,
   "metadata": {},
   "outputs": [
    {
     "data": {
      "text/plain": [
       "array([[1.        , 0.07189206],\n",
       "       [0.07189206, 1.        ]])"
      ]
     },
     "execution_count": 25,
     "metadata": {},
     "output_type": "execute_result"
    }
   ],
   "source": [
    "np.corrcoef((data[:,1], data[:,2]))"
   ]
  },
  {
   "cell_type": "code",
   "execution_count": 26,
   "metadata": {},
   "outputs": [
    {
     "data": {
      "image/png": "[encoded data removed]",
      "text/plain": [
       "<Figure size 360x288 with 1 Axes>"
      ]
     },
     "metadata": {
      "needs_background": "light"
     },
     "output_type": "display_data"
    }
   ],
   "source": [
    "# Graficar datos\n",
    "plt.figure(figsize=(5, 4))\n",
    "\n",
    "max_p = np.max(data[:, i])\n",
    "a_mp = data[np.where(data[:, i] == max_p), 0]\n",
    "\n",
    "plt.plot(data[:, 1], data[:, 2], 'o')\n",
    "    \n",
    "plt.xlabel(titulos[1])\n",
    "plt.ylabel(titulos[2])\n",
    "plt.title(f'{titulos[1]} y {titulos[2]}')\n",
    "    \n",
    "plt.tight_layout()\n",
    "\n",
    "# Mostrar gráfica\n",
    "plt.show()"
   ]
  },
  {
   "cell_type": "code",
   "execution_count": 27,
   "metadata": {},
   "outputs": [
    {
     "data": {
      "image/png": "[encoded data removed]",
      "text/plain": [
       "<Figure size 360x288 with 1 Axes>"
      ]
     },
     "metadata": {
      "needs_background": "light"
     },
     "output_type": "display_data"
    }
   ],
   "source": [
    "# Graficar datos\n",
    "plt.figure(figsize=(5, 4))\n",
    "\n",
    "max_p = np.max(data[:, i])\n",
    "a_mp = data[np.where(data[:, i] == max_p), 0]\n",
    "\n",
    "plt.scatter(data[:, 1], data[:, 2])\n",
    "    \n",
    "plt.xlabel(titulos[1])\n",
    "plt.ylabel(titulos[2])\n",
    "plt.title(f'{titulos[1]} y {titulos[2]}')\n",
    "    \n",
    "plt.tight_layout()\n",
    "\n",
    "# Mostrar gráfica\n",
    "plt.show()"
   ]
  },
  {
   "cell_type": "markdown",
   "metadata": {},
   "source": [
    "#### Respuesta: Sí coincide el gráfico con el coeficiente de correlación, ya que una correlación de 0.0719 (cercana a 0) debe mostrar un gráfico de dispersión sin patrón aparente."
   ]
  },
  {
   "cell_type": "markdown",
   "metadata": {},
   "source": [
    "<script>\n",
    "  $(document).ready(function(){\n",
    "    $('div.prompt').hide();\n",
    "    $('div.back-to-top').hide();\n",
    "    $('nav#menubar').hide();\n",
    "    $('.breadcrumb').hide();\n",
    "    $('.hidden-print').hide();\n",
    "  });\n",
    "</script>\n",
    "\n",
    "<footer id=\"attribution\" style=\"float:right; color:#808080; background:#fff;\">\n",
    "Created with Jupyter by Esteban Jiménez Rodríguez.\n",
    "</footer>"
   ]
  }
 ],
 "metadata": {
  "kernelspec": {
   "display_name": "Python 3",
   "language": "python",
   "name": "python3"
  },
  "language_info": {
   "codemirror_mode": {
    "name": "ipython",
    "version": 3
   },
   "file_extension": ".py",
   "mimetype": "text/x-python",
   "name": "python",
   "nbconvert_exporter": "python",
   "pygments_lexer": "ipython3",
   "version": "3.8.3"
  }
 },
 "nbformat": 4,
 "nbformat_minor": 4
}
