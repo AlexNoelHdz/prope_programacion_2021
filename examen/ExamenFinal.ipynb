{
 "cells": [
  {
   "cell_type": "markdown",
   "metadata": {},
   "source": [
    "# Examen Final - Propedéutico de programación para la maestría en ciencia de datos 2021\n",
    "\n",
    "<img style=\"float: right; margin: 0px 0px 15px 15px;\" src=\"https://www.numfocus.org/wp-content/uploads/2016/07/pandas-logo-300.png\" width=\"300px\" height=\"300px\" />\n",
    "\n",
    "**Descripción**\n",
    "\n",
    "En la carpeta \"exam_data\" se encuentran los archivos (obtenidos de [acá](https://github.com/shanealynn/Pandas-Merge-Tutorial/)):\n",
    "- \"android_devices.csv\": datos de dispositivos y fabricantes, listando todos los dispositivos Android y sus modelos;\n",
    "- \"user_device.csv\": datos del uso individual de cada sistema, con fechas e información de los dispositivos; y\n",
    "- \"user_usage.csv\": estadísticas de uso mensual de teléfonos móviles.\n",
    "\n",
    "No se porvee un diccionario de datos, ya que los datos aquí almacenados son hasta cierto punto intuitivos.\n",
    "\n",
    "**Instrucciones**\n",
    "\n",
    "Renombrar el archivo como \"ExamenFinal_ApellidoNombre.ipynb\", sin acentos ni letras ñ (ejemplo: en mi caso, el archivo se llamaría \"Tarea4_JimenezEsteban.ipynb\"). Luego de haber cambiado el nombre, resolver cada uno de los puntos en los espacios provistos.\n",
    "\n",
    "Una vez terminado, subir el archivo con los ejercicios resueltos en el espacio provisto en moodle."
   ]
  },
  {
   "cell_type": "markdown",
   "metadata": {},
   "source": [
    "## 1- Carga y exploración de los datos (40 puntos)\n",
    "\n",
    "**1.1.** Importe cada uno de los archivos `.csv` en DataFrames, cuidando que no hayan variables indeseadas (`Unnamed: 0`). A continuación muestre los primeros cinco registros de cada DataFrame, y en una celda tipo MarkDown explique brevemente el significado de cada una de las variables. (12 puntos)"
   ]
  },
  {
   "cell_type": "code",
   "execution_count": null,
   "metadata": {},
   "outputs": [],
   "source": [
    "# Importar librerías necesarias\n"
   ]
  },
  {
   "cell_type": "code",
   "execution_count": null,
   "metadata": {},
   "outputs": [],
   "source": [
    "# Importar user_usage.csv\n",
    "\n",
    "# Mostrar primeros cinco registros\n"
   ]
  },
  {
   "cell_type": "markdown",
   "metadata": {},
   "source": [
    "Explicación breve de variables:\n",
    "- \n",
    "- "
   ]
  },
  {
   "cell_type": "code",
   "execution_count": null,
   "metadata": {},
   "outputs": [],
   "source": [
    "# Importar user_device.csv\n",
    "\n",
    "# Mostrar primeros cinco registros\n"
   ]
  },
  {
   "cell_type": "markdown",
   "metadata": {},
   "source": [
    "Explicación breve de variables:\n",
    "- \n",
    "- "
   ]
  },
  {
   "cell_type": "code",
   "execution_count": null,
   "metadata": {},
   "outputs": [],
   "source": [
    "# Importar android_device.csv\n",
    "\n",
    "# Mostrar primeros cinco registros\n"
   ]
  },
  {
   "cell_type": "markdown",
   "metadata": {},
   "source": [
    "Explicación breve de variables:\n",
    "- nombre_variable: esta variable contiene datos de ...\n",
    "- "
   ]
  },
  {
   "cell_type": "markdown",
   "metadata": {},
   "source": [
    "**1.2.** Explore la ayuda del método `describe()` de los DataFrames: ponga especial cuidado en el argumento `include` y en el apartado de \"Notes\".\n",
    "\n",
    "A continuación llame el método desde cada uno de los DataFrames importados en el punto anterior, y responda, con base en los resultados las siguientes preguntas:\n",
    "\n",
    "1.2.1. ¿Cuál es la marca de teléfonos móviles Android más utilizada según la muestra en \"android_devices\"?\n",
    "\n",
    "1.2.2. ¿Cuál es el sistema operativo (plataforma) más utilizado según la muestra \"user_device\"?\n",
    "\n",
    "1.2.3. ¿Cuánto es la cantidad más alta de mega bytes gastados en un solo mes según la muestra \"user_usage\"?\n",
    "\n",
    "(13 puntos)"
   ]
  },
  {
   "cell_type": "code",
   "execution_count": null,
   "metadata": {},
   "outputs": [],
   "source": [
    "# Ayuda del método describe\n"
   ]
  },
  {
   "cell_type": "code",
   "execution_count": null,
   "metadata": {},
   "outputs": [],
   "source": [
    "# Método describe en android_devices\n"
   ]
  },
  {
   "cell_type": "code",
   "execution_count": null,
   "metadata": {},
   "outputs": [],
   "source": [
    "# Método describe en user_device\n"
   ]
  },
  {
   "cell_type": "code",
   "execution_count": null,
   "metadata": {},
   "outputs": [],
   "source": [
    "# Método describe en user_usage\n"
   ]
  },
  {
   "cell_type": "markdown",
   "metadata": {},
   "source": [
    "Respuesta a las preguntas:\n",
    "\n",
    "1.2.1. \n",
    "\n",
    "1.2.2.\n",
    "\n",
    "1.2.3."
   ]
  },
  {
   "cell_type": "markdown",
   "metadata": {},
   "source": [
    "**1.3.** Consulte la ayuda del método `boxplot()` de los DataFrames. \n",
    "\n",
    "(También puede importar la librería matplotlib.pyplot y hacer los gráficos con esta)\n",
    "\n",
    "A partir de la ayuda, grafique **en diferentes gráficos**, los diagramas de caja para las variables \"outgoing_mins_per_month\", \"outgoing_sms_per_month\", y \"monthly_mb\".\n",
    "\n",
    "Con estos resultados, y apoyado en el punto anterior (1.2):\n",
    "\n",
    "- liste para cada una de estas variables el primer cuartil, la mediana y el tercer cuartil;\n",
    "- ¿A partir de qué valores la cantidad de minutos, mensajes y llamadas es extraordinariamente grande? (valores atípicos)\n",
    "\n",
    "(15 puntos)"
   ]
  },
  {
   "cell_type": "code",
   "execution_count": null,
   "metadata": {},
   "outputs": [],
   "source": [
    "# Ayuda en el método boxplot\n"
   ]
  },
  {
   "cell_type": "code",
   "execution_count": null,
   "metadata": {},
   "outputs": [],
   "source": [
    "# Diagrama de caja para la variable \"outgoing_mins_per_month\"\n"
   ]
  },
  {
   "cell_type": "markdown",
   "metadata": {},
   "source": [
    "Minutos mensuales salientes\n",
    "\n",
    "- Primer cuartil =\n",
    "- Mediana =\n",
    "- Tercer cuartil =\n",
    "- ¿A partir de qué valores la cantidad de minutos es extraordinariamente grande?: "
   ]
  },
  {
   "cell_type": "code",
   "execution_count": null,
   "metadata": {},
   "outputs": [],
   "source": [
    "# Diagrama de caja para la variable \"outgoing_sms_per_month\"\n"
   ]
  },
  {
   "cell_type": "markdown",
   "metadata": {},
   "source": [
    "Mensajes mensuales salientes\n",
    "\n",
    "- Primer cuartil =\n",
    "- Mediana =\n",
    "- Tercer cuartil =\n",
    "- ¿A partir de qué valores la cantidad de mensajes es extraordinariamente grande?: "
   ]
  },
  {
   "cell_type": "code",
   "execution_count": null,
   "metadata": {},
   "outputs": [],
   "source": [
    "# Diagrama de caja para la variable \"monthly_mb\"\n"
   ]
  },
  {
   "cell_type": "markdown",
   "metadata": {},
   "source": [
    "Mega bytes mensuales usados\n",
    "\n",
    "- Primer cuartil =\n",
    "- Mediana =\n",
    "- Tercer cuartil =\n",
    "- ¿A partir de qué valores la cantidad de llamadas es extraordinariamente grande?: "
   ]
  },
  {
   "cell_type": "markdown",
   "metadata": {},
   "source": [
    "## 2- Unión de distintas bases de datos (60 puntos)\n",
    "\n",
    "Queremos determinar si los patrones de uso de los usuarios varían entre distintos dispositivos. \n",
    "\n",
    "Por ejemplo, queremos saber si los usuarios que usan dispositivos Samsung (o Sony, o ZTE, ...) gastan más minutos (mensajes o mb) al mes que aquellos que usan dispositivos LG (o Huawei, o motorola, ...).\n",
    "\n",
    "Para ello:\n",
    "\n",
    "**2.1.** Identificar la(s) variable(s) que asocian a la tabla \"user_usage\" con la tabla \"user_device\".\n",
    "\n",
    "Asímismo, identificar la(s) variables que asocian a la tabla \"user_device\" con la tabla \"android_devices\". (10 puntos)"
   ]
  },
  {
   "cell_type": "code",
   "execution_count": null,
   "metadata": {},
   "outputs": [],
   "source": [
    "# Espacio para exploración de la tabla user_usage\n"
   ]
  },
  {
   "cell_type": "code",
   "execution_count": null,
   "metadata": {},
   "outputs": [],
   "source": [
    "# Espacio para exploración de la tabla user_device\n"
   ]
  },
  {
   "cell_type": "code",
   "execution_count": null,
   "metadata": {},
   "outputs": [],
   "source": [
    "# Espacio para exploración de la tabla android_devices\n"
   ]
  },
  {
   "cell_type": "markdown",
   "metadata": {},
   "source": [
    "- ¿Qué variable(s) relaciona(n) la tabla user_usage con user_device?\n",
    "\n",
    "- ¿Qué variable(s) relaciona(n) la tabla user_device con android_devices?\n"
   ]
  },
  {
   "cell_type": "markdown",
   "metadata": {},
   "source": [
    "**2.2.** Realizar el merge entre las tablas \"user_usage\" y \"user_device\", de manera que se preserven todos los datos de \"user_usage\". \n",
    "\n",
    "Cuidar de no incluir en el merge variables innecesarias que no tengan relación con el problema. (15 puntos)"
   ]
  },
  {
   "cell_type": "code",
   "execution_count": null,
   "metadata": {},
   "outputs": [],
   "source": [
    "# Merge entre las tablas user_usage y user_device\n"
   ]
  },
  {
   "cell_type": "code",
   "execution_count": null,
   "metadata": {},
   "outputs": [],
   "source": [
    "# Mostrar las primeras cinco filas del DataFrame unido\n"
   ]
  },
  {
   "cell_type": "markdown",
   "metadata": {},
   "source": [
    "**2.3.** Realizar el merge entre la tabla obtenida en el punto anterior y \"android_devices\", de manera que se preserven todos los datos de la tabla del punto anterior. \n",
    "\n",
    "Cuidar de no incluir en el merge variables innecesarias que no tengan relación con el problema. (15 puntos)"
   ]
  },
  {
   "cell_type": "code",
   "execution_count": null,
   "metadata": {},
   "outputs": [],
   "source": [
    "# Merge entre las tablas user_usage y user_device\n"
   ]
  },
  {
   "cell_type": "code",
   "execution_count": null,
   "metadata": {},
   "outputs": [],
   "source": [
    "# Mostrar las primeras cinco filas del DataFrame unido\n"
   ]
  },
  {
   "cell_type": "markdown",
   "metadata": {},
   "source": [
    "**2.4.** Reporte un DataFrame con los promedios de minutos salientes, sms salientes y mb mensuales, por marca de teléfonos móviles (ayuda: agrupar por marcas, y agregar por promedios: 'mean'). Con ello, responda:\n",
    "\n",
    "- ¿Para qué marca se reportan dispositivos con más minutos salientes en promedio?\n",
    "\n",
    "- ¿Para qué marca se reportan dispositivos con más mensajes de texto salientes en promedio?\n",
    "\n",
    "- ¿Para qué marca se reportan dispositivos con más Megabytes en promedio?\n",
    "\n",
    "(20 puntos)"
   ]
  },
  {
   "cell_type": "code",
   "execution_count": null,
   "metadata": {},
   "outputs": [],
   "source": [
    "# DataFrame con promedios en las variables de uso por marcas\n"
   ]
  },
  {
   "cell_type": "markdown",
   "metadata": {},
   "source": [
    "- ¿Para qué marca se reportan dispositivos con más minutos salientes en promedio?\n",
    "\n",
    "- ¿Para qué marca se reportan dispositivos con más mensajes de texto salientes en promedio?\n",
    "\n",
    "- ¿Para qué marca se reportan dispositivos con más Megabytes en promedio?"
   ]
  },
  {
   "cell_type": "markdown",
   "metadata": {},
   "source": [
    "<script>\n",
    "  $(document).ready(function(){\n",
    "    $('div.prompt').hide();\n",
    "    $('div.back-to-top').hide();\n",
    "    $('nav#menubar').hide();\n",
    "    $('.breadcrumb').hide();\n",
    "    $('.hidden-print').hide();\n",
    "  });\n",
    "</script>\n",
    "\n",
    "<footer id=\"attribution\" style=\"float:right; color:#808080; background:#fff;\">\n",
    "Created with Jupyter by Esteban Jiménez Rodríguez.\n",
    "</footer>"
   ]
  }
 ],
 "metadata": {
  "kernelspec": {
   "display_name": "Python 3",
   "language": "python",
   "name": "python3"
  },
  "language_info": {
   "codemirror_mode": {
    "name": "ipython",
    "version": 3
   },
   "file_extension": ".py",
   "mimetype": "text/x-python",
   "name": "python",
   "nbconvert_exporter": "python",
   "pygments_lexer": "ipython3",
   "version": "3.7.6"
  }
 },
 "nbformat": 4,
 "nbformat_minor": 2
}
